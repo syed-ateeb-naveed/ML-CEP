{
  "nbformat": 4,
  "nbformat_minor": 0,
  "metadata": {
    "colab": {
      "provenance": [],
      "toc_visible": true,
      "include_colab_link": true
    },
    "kernelspec": {
      "name": "python3",
      "display_name": "Python 3"
    },
    "language_info": {
      "name": "python"
    }
  },
  "cells": [
    {
      "cell_type": "markdown",
      "metadata": {
        "id": "view-in-github",
        "colab_type": "text"
      },
      "source": [
        "<a href=\"https://colab.research.google.com/github/syed-ateeb-naveed/ML-CEP/blob/main/ML_CEP.ipynb\" target=\"_parent\"><img src=\"https://colab.research.google.com/assets/colab-badge.svg\" alt=\"Open In Colab\"/></a>"
      ]
    },
    {
      "cell_type": "markdown",
      "source": [
        "#ML CEP\n",
        "\n",
        "This is a car price prediction model made using supervised learning algorithms."
      ],
      "metadata": {
        "id": "F1c_82kDiseE"
      }
    },
    {
      "cell_type": "code",
      "source": [
        "import numpy as np\n",
        "import pandas as pd"
      ],
      "metadata": {
        "id": "EjLCSRBki5WF"
      },
      "execution_count": 2,
      "outputs": []
    },
    {
      "cell_type": "markdown",
      "source": [
        "##Importing data as DataFrame"
      ],
      "metadata": {
        "id": "si8BqRSHXqgx"
      }
    },
    {
      "cell_type": "code",
      "source": [
        "car = pd.read_csv(\"/content/sample_data/quikr_car.csv\")\n",
        "car.head()"
      ],
      "metadata": {
        "colab": {
          "base_uri": "https://localhost:8080/",
          "height": 206
        },
        "id": "_qFBAPC-Wt3H",
        "outputId": "e35ad7ad-e008-4a17-9ad1-9ce49b811ee6"
      },
      "execution_count": 4,
      "outputs": [
        {
          "output_type": "execute_result",
          "data": {
            "text/plain": [
              "                                     name   company  year          Price  \\\n",
              "0    Hyundai Santro Xing XO eRLX Euro III   Hyundai  2007         80,000   \n",
              "1                 Mahindra Jeep CL550 MDI  Mahindra  2006       4,25,000   \n",
              "2              Maruti Suzuki Alto 800 Vxi    Maruti  2018  Ask For Price   \n",
              "3  Hyundai Grand i10 Magna 1.2 Kappa VTVT   Hyundai  2014       3,25,000   \n",
              "4        Ford EcoSport Titanium 1.5L TDCi      Ford  2014       5,75,000   \n",
              "\n",
              "   kms_driven fuel_type  \n",
              "0  45,000 kms    Petrol  \n",
              "1      40 kms    Diesel  \n",
              "2  22,000 kms    Petrol  \n",
              "3  28,000 kms    Petrol  \n",
              "4  36,000 kms    Diesel  "
            ],
            "text/html": [
              "\n",
              "  <div id=\"df-ef3ba958-320c-44ad-ba5d-d283ffa69d87\" class=\"colab-df-container\">\n",
              "    <div>\n",
              "<style scoped>\n",
              "    .dataframe tbody tr th:only-of-type {\n",
              "        vertical-align: middle;\n",
              "    }\n",
              "\n",
              "    .dataframe tbody tr th {\n",
              "        vertical-align: top;\n",
              "    }\n",
              "\n",
              "    .dataframe thead th {\n",
              "        text-align: right;\n",
              "    }\n",
              "</style>\n",
              "<table border=\"1\" class=\"dataframe\">\n",
              "  <thead>\n",
              "    <tr style=\"text-align: right;\">\n",
              "      <th></th>\n",
              "      <th>name</th>\n",
              "      <th>company</th>\n",
              "      <th>year</th>\n",
              "      <th>Price</th>\n",
              "      <th>kms_driven</th>\n",
              "      <th>fuel_type</th>\n",
              "    </tr>\n",
              "  </thead>\n",
              "  <tbody>\n",
              "    <tr>\n",
              "      <th>0</th>\n",
              "      <td>Hyundai Santro Xing XO eRLX Euro III</td>\n",
              "      <td>Hyundai</td>\n",
              "      <td>2007</td>\n",
              "      <td>80,000</td>\n",
              "      <td>45,000 kms</td>\n",
              "      <td>Petrol</td>\n",
              "    </tr>\n",
              "    <tr>\n",
              "      <th>1</th>\n",
              "      <td>Mahindra Jeep CL550 MDI</td>\n",
              "      <td>Mahindra</td>\n",
              "      <td>2006</td>\n",
              "      <td>4,25,000</td>\n",
              "      <td>40 kms</td>\n",
              "      <td>Diesel</td>\n",
              "    </tr>\n",
              "    <tr>\n",
              "      <th>2</th>\n",
              "      <td>Maruti Suzuki Alto 800 Vxi</td>\n",
              "      <td>Maruti</td>\n",
              "      <td>2018</td>\n",
              "      <td>Ask For Price</td>\n",
              "      <td>22,000 kms</td>\n",
              "      <td>Petrol</td>\n",
              "    </tr>\n",
              "    <tr>\n",
              "      <th>3</th>\n",
              "      <td>Hyundai Grand i10 Magna 1.2 Kappa VTVT</td>\n",
              "      <td>Hyundai</td>\n",
              "      <td>2014</td>\n",
              "      <td>3,25,000</td>\n",
              "      <td>28,000 kms</td>\n",
              "      <td>Petrol</td>\n",
              "    </tr>\n",
              "    <tr>\n",
              "      <th>4</th>\n",
              "      <td>Ford EcoSport Titanium 1.5L TDCi</td>\n",
              "      <td>Ford</td>\n",
              "      <td>2014</td>\n",
              "      <td>5,75,000</td>\n",
              "      <td>36,000 kms</td>\n",
              "      <td>Diesel</td>\n",
              "    </tr>\n",
              "  </tbody>\n",
              "</table>\n",
              "</div>\n",
              "    <div class=\"colab-df-buttons\">\n",
              "\n",
              "  <div class=\"colab-df-container\">\n",
              "    <button class=\"colab-df-convert\" onclick=\"convertToInteractive('df-ef3ba958-320c-44ad-ba5d-d283ffa69d87')\"\n",
              "            title=\"Convert this dataframe to an interactive table.\"\n",
              "            style=\"display:none;\">\n",
              "\n",
              "  <svg xmlns=\"http://www.w3.org/2000/svg\" height=\"24px\" viewBox=\"0 -960 960 960\">\n",
              "    <path d=\"M120-120v-720h720v720H120Zm60-500h600v-160H180v160Zm220 220h160v-160H400v160Zm0 220h160v-160H400v160ZM180-400h160v-160H180v160Zm440 0h160v-160H620v160ZM180-180h160v-160H180v160Zm440 0h160v-160H620v160Z\"/>\n",
              "  </svg>\n",
              "    </button>\n",
              "\n",
              "  <style>\n",
              "    .colab-df-container {\n",
              "      display:flex;\n",
              "      gap: 12px;\n",
              "    }\n",
              "\n",
              "    .colab-df-convert {\n",
              "      background-color: #E8F0FE;\n",
              "      border: none;\n",
              "      border-radius: 50%;\n",
              "      cursor: pointer;\n",
              "      display: none;\n",
              "      fill: #1967D2;\n",
              "      height: 32px;\n",
              "      padding: 0 0 0 0;\n",
              "      width: 32px;\n",
              "    }\n",
              "\n",
              "    .colab-df-convert:hover {\n",
              "      background-color: #E2EBFA;\n",
              "      box-shadow: 0px 1px 2px rgba(60, 64, 67, 0.3), 0px 1px 3px 1px rgba(60, 64, 67, 0.15);\n",
              "      fill: #174EA6;\n",
              "    }\n",
              "\n",
              "    .colab-df-buttons div {\n",
              "      margin-bottom: 4px;\n",
              "    }\n",
              "\n",
              "    [theme=dark] .colab-df-convert {\n",
              "      background-color: #3B4455;\n",
              "      fill: #D2E3FC;\n",
              "    }\n",
              "\n",
              "    [theme=dark] .colab-df-convert:hover {\n",
              "      background-color: #434B5C;\n",
              "      box-shadow: 0px 1px 3px 1px rgba(0, 0, 0, 0.15);\n",
              "      filter: drop-shadow(0px 1px 2px rgba(0, 0, 0, 0.3));\n",
              "      fill: #FFFFFF;\n",
              "    }\n",
              "  </style>\n",
              "\n",
              "    <script>\n",
              "      const buttonEl =\n",
              "        document.querySelector('#df-ef3ba958-320c-44ad-ba5d-d283ffa69d87 button.colab-df-convert');\n",
              "      buttonEl.style.display =\n",
              "        google.colab.kernel.accessAllowed ? 'block' : 'none';\n",
              "\n",
              "      async function convertToInteractive(key) {\n",
              "        const element = document.querySelector('#df-ef3ba958-320c-44ad-ba5d-d283ffa69d87');\n",
              "        const dataTable =\n",
              "          await google.colab.kernel.invokeFunction('convertToInteractive',\n",
              "                                                    [key], {});\n",
              "        if (!dataTable) return;\n",
              "\n",
              "        const docLinkHtml = 'Like what you see? Visit the ' +\n",
              "          '<a target=\"_blank\" href=https://colab.research.google.com/notebooks/data_table.ipynb>data table notebook</a>'\n",
              "          + ' to learn more about interactive tables.';\n",
              "        element.innerHTML = '';\n",
              "        dataTable['output_type'] = 'display_data';\n",
              "        await google.colab.output.renderOutput(dataTable, element);\n",
              "        const docLink = document.createElement('div');\n",
              "        docLink.innerHTML = docLinkHtml;\n",
              "        element.appendChild(docLink);\n",
              "      }\n",
              "    </script>\n",
              "  </div>\n",
              "\n",
              "\n",
              "<div id=\"df-71f000b2-ad6d-40cc-a4a1-d4a6089bce2e\">\n",
              "  <button class=\"colab-df-quickchart\" onclick=\"quickchart('df-71f000b2-ad6d-40cc-a4a1-d4a6089bce2e')\"\n",
              "            title=\"Suggest charts\"\n",
              "            style=\"display:none;\">\n",
              "\n",
              "<svg xmlns=\"http://www.w3.org/2000/svg\" height=\"24px\"viewBox=\"0 0 24 24\"\n",
              "     width=\"24px\">\n",
              "    <g>\n",
              "        <path d=\"M19 3H5c-1.1 0-2 .9-2 2v14c0 1.1.9 2 2 2h14c1.1 0 2-.9 2-2V5c0-1.1-.9-2-2-2zM9 17H7v-7h2v7zm4 0h-2V7h2v10zm4 0h-2v-4h2v4z\"/>\n",
              "    </g>\n",
              "</svg>\n",
              "  </button>\n",
              "\n",
              "<style>\n",
              "  .colab-df-quickchart {\n",
              "      --bg-color: #E8F0FE;\n",
              "      --fill-color: #1967D2;\n",
              "      --hover-bg-color: #E2EBFA;\n",
              "      --hover-fill-color: #174EA6;\n",
              "      --disabled-fill-color: #AAA;\n",
              "      --disabled-bg-color: #DDD;\n",
              "  }\n",
              "\n",
              "  [theme=dark] .colab-df-quickchart {\n",
              "      --bg-color: #3B4455;\n",
              "      --fill-color: #D2E3FC;\n",
              "      --hover-bg-color: #434B5C;\n",
              "      --hover-fill-color: #FFFFFF;\n",
              "      --disabled-bg-color: #3B4455;\n",
              "      --disabled-fill-color: #666;\n",
              "  }\n",
              "\n",
              "  .colab-df-quickchart {\n",
              "    background-color: var(--bg-color);\n",
              "    border: none;\n",
              "    border-radius: 50%;\n",
              "    cursor: pointer;\n",
              "    display: none;\n",
              "    fill: var(--fill-color);\n",
              "    height: 32px;\n",
              "    padding: 0;\n",
              "    width: 32px;\n",
              "  }\n",
              "\n",
              "  .colab-df-quickchart:hover {\n",
              "    background-color: var(--hover-bg-color);\n",
              "    box-shadow: 0 1px 2px rgba(60, 64, 67, 0.3), 0 1px 3px 1px rgba(60, 64, 67, 0.15);\n",
              "    fill: var(--button-hover-fill-color);\n",
              "  }\n",
              "\n",
              "  .colab-df-quickchart-complete:disabled,\n",
              "  .colab-df-quickchart-complete:disabled:hover {\n",
              "    background-color: var(--disabled-bg-color);\n",
              "    fill: var(--disabled-fill-color);\n",
              "    box-shadow: none;\n",
              "  }\n",
              "\n",
              "  .colab-df-spinner {\n",
              "    border: 2px solid var(--fill-color);\n",
              "    border-color: transparent;\n",
              "    border-bottom-color: var(--fill-color);\n",
              "    animation:\n",
              "      spin 1s steps(1) infinite;\n",
              "  }\n",
              "\n",
              "  @keyframes spin {\n",
              "    0% {\n",
              "      border-color: transparent;\n",
              "      border-bottom-color: var(--fill-color);\n",
              "      border-left-color: var(--fill-color);\n",
              "    }\n",
              "    20% {\n",
              "      border-color: transparent;\n",
              "      border-left-color: var(--fill-color);\n",
              "      border-top-color: var(--fill-color);\n",
              "    }\n",
              "    30% {\n",
              "      border-color: transparent;\n",
              "      border-left-color: var(--fill-color);\n",
              "      border-top-color: var(--fill-color);\n",
              "      border-right-color: var(--fill-color);\n",
              "    }\n",
              "    40% {\n",
              "      border-color: transparent;\n",
              "      border-right-color: var(--fill-color);\n",
              "      border-top-color: var(--fill-color);\n",
              "    }\n",
              "    60% {\n",
              "      border-color: transparent;\n",
              "      border-right-color: var(--fill-color);\n",
              "    }\n",
              "    80% {\n",
              "      border-color: transparent;\n",
              "      border-right-color: var(--fill-color);\n",
              "      border-bottom-color: var(--fill-color);\n",
              "    }\n",
              "    90% {\n",
              "      border-color: transparent;\n",
              "      border-bottom-color: var(--fill-color);\n",
              "    }\n",
              "  }\n",
              "</style>\n",
              "\n",
              "  <script>\n",
              "    async function quickchart(key) {\n",
              "      const quickchartButtonEl =\n",
              "        document.querySelector('#' + key + ' button');\n",
              "      quickchartButtonEl.disabled = true;  // To prevent multiple clicks.\n",
              "      quickchartButtonEl.classList.add('colab-df-spinner');\n",
              "      try {\n",
              "        const charts = await google.colab.kernel.invokeFunction(\n",
              "            'suggestCharts', [key], {});\n",
              "      } catch (error) {\n",
              "        console.error('Error during call to suggestCharts:', error);\n",
              "      }\n",
              "      quickchartButtonEl.classList.remove('colab-df-spinner');\n",
              "      quickchartButtonEl.classList.add('colab-df-quickchart-complete');\n",
              "    }\n",
              "    (() => {\n",
              "      let quickchartButtonEl =\n",
              "        document.querySelector('#df-71f000b2-ad6d-40cc-a4a1-d4a6089bce2e button');\n",
              "      quickchartButtonEl.style.display =\n",
              "        google.colab.kernel.accessAllowed ? 'block' : 'none';\n",
              "    })();\n",
              "  </script>\n",
              "</div>\n",
              "\n",
              "    </div>\n",
              "  </div>\n"
            ],
            "application/vnd.google.colaboratory.intrinsic+json": {
              "type": "dataframe",
              "variable_name": "car",
              "summary": "{\n  \"name\": \"car\",\n  \"rows\": 892,\n  \"fields\": [\n    {\n      \"column\": \"name\",\n      \"properties\": {\n        \"dtype\": \"string\",\n        \"num_unique_values\": 525,\n        \"samples\": [\n          \"Maruti Suzuki Ritz GENUS VXI\",\n          \"Toyota Innova 2.0 G4\",\n          \"Hyundai Eon\"\n        ],\n        \"semantic_type\": \"\",\n        \"description\": \"\"\n      }\n    },\n    {\n      \"column\": \"company\",\n      \"properties\": {\n        \"dtype\": \"category\",\n        \"num_unique_values\": 48,\n        \"samples\": [\n          \"URJENT\",\n          \"7\",\n          \"selling\"\n        ],\n        \"semantic_type\": \"\",\n        \"description\": \"\"\n      }\n    },\n    {\n      \"column\": \"year\",\n      \"properties\": {\n        \"dtype\": \"category\",\n        \"num_unique_values\": 61,\n        \"samples\": [\n          \"2007\",\n          \"2012\",\n          \"n...\"\n        ],\n        \"semantic_type\": \"\",\n        \"description\": \"\"\n      }\n    },\n    {\n      \"column\": \"Price\",\n      \"properties\": {\n        \"dtype\": \"category\",\n        \"num_unique_values\": 274,\n        \"samples\": [\n          \"4,89,999\",\n          \"2,39,999\",\n          \"1,40,000\"\n        ],\n        \"semantic_type\": \"\",\n        \"description\": \"\"\n      }\n    },\n    {\n      \"column\": \"kms_driven\",\n      \"properties\": {\n        \"dtype\": \"category\",\n        \"num_unique_values\": 258,\n        \"samples\": [\n          \"24,330 kms\",\n          \"50,000 kms\",\n          \"60,000 kms\"\n        ],\n        \"semantic_type\": \"\",\n        \"description\": \"\"\n      }\n    },\n    {\n      \"column\": \"fuel_type\",\n      \"properties\": {\n        \"dtype\": \"category\",\n        \"num_unique_values\": 3,\n        \"samples\": [\n          \"Petrol\",\n          \"Diesel\",\n          \"LPG\"\n        ],\n        \"semantic_type\": \"\",\n        \"description\": \"\"\n      }\n    }\n  ]\n}"
            }
          },
          "metadata": {},
          "execution_count": 4
        }
      ]
    },
    {
      "cell_type": "code",
      "source": [
        "car.shape"
      ],
      "metadata": {
        "colab": {
          "base_uri": "https://localhost:8080/"
        },
        "id": "9OJWLnKKZafQ",
        "outputId": "68331f0b-623e-4792-f461-088e6e0c8e27"
      },
      "execution_count": 5,
      "outputs": [
        {
          "output_type": "execute_result",
          "data": {
            "text/plain": [
              "(892, 6)"
            ]
          },
          "metadata": {},
          "execution_count": 5
        }
      ]
    },
    {
      "cell_type": "code",
      "source": [
        "car.info()"
      ],
      "metadata": {
        "colab": {
          "base_uri": "https://localhost:8080/"
        },
        "id": "Ck0qn6VDZmkP",
        "outputId": "82353b7c-704d-43c4-8046-1da6c053f51b"
      },
      "execution_count": 6,
      "outputs": [
        {
          "output_type": "stream",
          "name": "stdout",
          "text": [
            "<class 'pandas.core.frame.DataFrame'>\n",
            "RangeIndex: 892 entries, 0 to 891\n",
            "Data columns (total 6 columns):\n",
            " #   Column      Non-Null Count  Dtype \n",
            "---  ------      --------------  ----- \n",
            " 0   name        892 non-null    object\n",
            " 1   company     892 non-null    object\n",
            " 2   year        892 non-null    object\n",
            " 3   Price       892 non-null    object\n",
            " 4   kms_driven  840 non-null    object\n",
            " 5   fuel_type   837 non-null    object\n",
            "dtypes: object(6)\n",
            "memory usage: 41.9+ KB\n"
          ]
        }
      ]
    },
    {
      "cell_type": "markdown",
      "source": [
        "##Data Cleaning"
      ],
      "metadata": {
        "id": "WXrDiEL6dnYx"
      }
    },
    {
      "cell_type": "markdown",
      "source": [
        "###Company Column"
      ],
      "metadata": {
        "id": "R6Y9Ws2spLrW"
      }
    },
    {
      "cell_type": "code",
      "source": [
        "car[\"company\"].unique()"
      ],
      "metadata": {
        "colab": {
          "base_uri": "https://localhost:8080/"
        },
        "id": "s31-9NBVZ1AG",
        "outputId": "7181ed29-a220-4d3e-d868-0c68a5c700b6"
      },
      "execution_count": 7,
      "outputs": [
        {
          "output_type": "execute_result",
          "data": {
            "text/plain": [
              "array(['Hyundai', 'Mahindra', 'Maruti', 'Ford', 'Skoda', 'Audi', 'Toyota',\n",
              "       'Renault', 'Honda', 'Datsun', 'Mitsubishi', 'Tata', 'Volkswagen',\n",
              "       'I', 'Chevrolet', 'Mini', 'BMW', 'Nissan', 'Hindustan', 'Fiat',\n",
              "       'Commercial', 'MARUTI', 'Force', 'Mercedes', 'Land', 'Yamaha',\n",
              "       'selling', 'URJENT', 'Swift', 'Used', 'Jaguar', 'Jeep', 'tata',\n",
              "       'Sale', 'very', 'Volvo', 'i', '2012', 'Well', 'all', '7', '9',\n",
              "       'scratch', 'urgent', 'sell', 'TATA', 'Any', 'Tara'], dtype=object)"
            ]
          },
          "metadata": {},
          "execution_count": 7
        }
      ]
    },
    {
      "cell_type": "markdown",
      "source": [
        "Inconsistent and invalid company names"
      ],
      "metadata": {
        "id": "PGNQs4gLdxu2"
      }
    },
    {
      "cell_type": "code",
      "source": [
        "#Capitalizing first letter of all company names\n",
        "car[\"company\"] = car[\"company\"].str.lower()\n",
        "car[\"company\"] = car[\"company\"].str.capitalize()\n",
        "car[\"company\"].unique()"
      ],
      "metadata": {
        "colab": {
          "base_uri": "https://localhost:8080/"
        },
        "id": "Yxz5EqPKbY7B",
        "outputId": "ab20180c-7537-48c5-c88a-9d22094b8263"
      },
      "execution_count": 8,
      "outputs": [
        {
          "output_type": "execute_result",
          "data": {
            "text/plain": [
              "array(['Hyundai', 'Mahindra', 'Maruti', 'Ford', 'Skoda', 'Audi', 'Toyota',\n",
              "       'Renault', 'Honda', 'Datsun', 'Mitsubishi', 'Tata', 'Volkswagen',\n",
              "       'I', 'Chevrolet', 'Mini', 'Bmw', 'Nissan', 'Hindustan', 'Fiat',\n",
              "       'Commercial', 'Force', 'Mercedes', 'Land', 'Yamaha', 'Selling',\n",
              "       'Urjent', 'Swift', 'Used', 'Jaguar', 'Jeep', 'Sale', 'Very',\n",
              "       'Volvo', '2012', 'Well', 'All', '7', '9', 'Scratch', 'Urgent',\n",
              "       'Sell', 'Any', 'Tara'], dtype=object)"
            ]
          },
          "metadata": {},
          "execution_count": 8
        }
      ]
    },
    {
      "cell_type": "code",
      "source": [
        "#Filtering invalid company names\n",
        "invalid_companies = ['Any', 'Sell', 'Sale', 'Used', 'Scratch', 'Very', 'Urjent', 'Urgent', 'Land', 'Jeep', 'Commercial', 'Selling', '2012', 'Well', 'All', '7', '9']\n",
        "car = car[~car['company'].isin(invalid_companies)]\n"
      ],
      "metadata": {
        "id": "7GaiVMrMbwJi"
      },
      "execution_count": 9,
      "outputs": []
    },
    {
      "cell_type": "code",
      "source": [
        "car[\"company\"].unique()"
      ],
      "metadata": {
        "colab": {
          "base_uri": "https://localhost:8080/"
        },
        "id": "CUs1z2l0pSn7",
        "outputId": "c644ba70-d54c-471f-89cd-44c98f48ed57"
      },
      "execution_count": 10,
      "outputs": [
        {
          "output_type": "execute_result",
          "data": {
            "text/plain": [
              "array(['Hyundai', 'Mahindra', 'Maruti', 'Ford', 'Skoda', 'Audi', 'Toyota',\n",
              "       'Renault', 'Honda', 'Datsun', 'Mitsubishi', 'Tata', 'Volkswagen',\n",
              "       'I', 'Chevrolet', 'Mini', 'Bmw', 'Nissan', 'Hindustan', 'Fiat',\n",
              "       'Force', 'Mercedes', 'Yamaha', 'Swift', 'Jaguar', 'Volvo', 'Tara'],\n",
              "      dtype=object)"
            ]
          },
          "metadata": {},
          "execution_count": 10
        }
      ]
    },
    {
      "cell_type": "markdown",
      "source": [
        "###Year Column"
      ],
      "metadata": {
        "id": "ZoIlIlJjpU0X"
      }
    },
    {
      "cell_type": "code",
      "source": [
        "car['year'].unique()"
      ],
      "metadata": {
        "colab": {
          "base_uri": "https://localhost:8080/"
        },
        "id": "4a9b74vIhOiU",
        "outputId": "4afd5314-be92-45a2-cb37-f381fec533c2"
      },
      "execution_count": 11,
      "outputs": [
        {
          "output_type": "execute_result",
          "data": {
            "text/plain": [
              "array(['2007', '2006', '2018', '2014', '2015', '2012', '2013', '2016',\n",
              "       '2010', '2017', '2008', '2011', '2019', '2009', '2005', '2000',\n",
              "       '150k', 'TOUR', '2003', 'r 15', '2004', '/-Rs', 'sale', '1995',\n",
              "       'ara)', '2002', '2001', 'tion', 'odel', '2 bs', 'Eon', 'emi',\n",
              "       'car', 'o...', 'd...', 'SALE', 'digo', 'e...', 'cent', 'cab',\n",
              "       't xe', 'EV2', 'zest'], dtype=object)"
            ]
          },
          "metadata": {},
          "execution_count": 11
        }
      ]
    },
    {
      "cell_type": "markdown",
      "source": [
        "Year column contains non-numeric values"
      ],
      "metadata": {
        "id": "qHvi6MO1hkc6"
      }
    },
    {
      "cell_type": "code",
      "source": [
        "#Removing non-numeric values\n",
        "car = car[car['year'].str.isnumeric()]\n",
        "car[\"year\"].unique()"
      ],
      "metadata": {
        "colab": {
          "base_uri": "https://localhost:8080/"
        },
        "id": "a43UIT8XkfMF",
        "outputId": "639ee504-6df3-41a7-bcf3-5c448a5c3e62"
      },
      "execution_count": 12,
      "outputs": [
        {
          "output_type": "execute_result",
          "data": {
            "text/plain": [
              "array(['2007', '2006', '2018', '2014', '2015', '2012', '2013', '2016',\n",
              "       '2010', '2017', '2008', '2011', '2019', '2009', '2005', '2000',\n",
              "       '2003', '2004', '1995', '2002', '2001'], dtype=object)"
            ]
          },
          "metadata": {},
          "execution_count": 12
        }
      ]
    },
    {
      "cell_type": "code",
      "source": [
        "#Converting to type int\n",
        "car[\"year\"] = car[\"year\"].astype(int)\n",
        "car[\"year\"].unique()"
      ],
      "metadata": {
        "colab": {
          "base_uri": "https://localhost:8080/"
        },
        "id": "BdHc7RS-krAA",
        "outputId": "dcef3692-dbe9-4776-e1dd-b1cf6142449d"
      },
      "execution_count": 13,
      "outputs": [
        {
          "output_type": "execute_result",
          "data": {
            "text/plain": [
              "array([2007, 2006, 2018, 2014, 2015, 2012, 2013, 2016, 2010, 2017, 2008,\n",
              "       2011, 2019, 2009, 2005, 2000, 2003, 2004, 1995, 2002, 2001])"
            ]
          },
          "metadata": {},
          "execution_count": 13
        }
      ]
    },
    {
      "cell_type": "code",
      "source": [
        "car[\"year\"]"
      ],
      "metadata": {
        "colab": {
          "base_uri": "https://localhost:8080/"
        },
        "id": "jw5VRndKpZvJ",
        "outputId": "0a336d86-fae8-4448-cadc-e2950f2bdfae"
      },
      "execution_count": 14,
      "outputs": [
        {
          "output_type": "execute_result",
          "data": {
            "text/plain": [
              "0      2007\n",
              "1      2006\n",
              "2      2018\n",
              "3      2014\n",
              "4      2014\n",
              "       ... \n",
              "886    2009\n",
              "888    2018\n",
              "889    2013\n",
              "890    2014\n",
              "891    2014\n",
              "Name: year, Length: 840, dtype: int64"
            ]
          },
          "metadata": {},
          "execution_count": 14
        }
      ]
    },
    {
      "cell_type": "markdown",
      "source": [
        "###Price Column"
      ],
      "metadata": {
        "id": "Scz6ovAFpgtK"
      }
    },
    {
      "cell_type": "code",
      "source": [
        "car[\"Price\"].unique()"
      ],
      "metadata": {
        "colab": {
          "base_uri": "https://localhost:8080/"
        },
        "id": "NLI_0ohblHZr",
        "outputId": "6e8ba2e2-9ee8-4474-bf2b-40df2fbe125b"
      },
      "execution_count": 15,
      "outputs": [
        {
          "output_type": "execute_result",
          "data": {
            "text/plain": [
              "array(['80,000', '4,25,000', 'Ask For Price', '3,25,000', '5,75,000',\n",
              "       '1,75,000', '1,90,000', '8,30,000', '2,50,000', '1,82,000',\n",
              "       '3,15,000', '4,15,000', '3,20,000', '10,00,000', '5,00,000',\n",
              "       '3,50,000', '1,60,000', '3,10,000', '75,000', '1,00,000',\n",
              "       '2,90,000', '95,000', '1,80,000', '3,85,000', '1,05,000',\n",
              "       '6,50,000', '6,89,999', '4,48,000', '5,49,000', '5,01,000',\n",
              "       '4,89,999', '2,80,000', '3,49,999', '2,84,999', '3,45,000',\n",
              "       '4,99,999', '2,35,000', '2,49,999', '14,75,000', '3,95,000',\n",
              "       '2,20,000', '1,70,000', '85,000', '2,00,000', '5,70,000',\n",
              "       '1,10,000', '4,48,999', '18,91,111', '1,59,500', '3,44,999',\n",
              "       '4,49,999', '8,65,000', '6,99,000', '3,75,000', '2,24,999',\n",
              "       '12,00,000', '1,95,000', '3,51,000', '2,40,000', '90,000',\n",
              "       '1,55,000', '6,00,000', '1,89,500', '2,10,000', '3,90,000',\n",
              "       '1,35,000', '16,00,000', '7,01,000', '2,65,000', '5,25,000',\n",
              "       '3,72,000', '6,35,000', '5,50,000', '4,85,000', '3,29,500',\n",
              "       '2,51,111', '5,69,999', '69,999', '2,99,999', '3,99,999',\n",
              "       '4,50,000', '2,70,000', '1,58,400', '1,79,000', '1,25,000',\n",
              "       '2,99,000', '1,50,000', '2,75,000', '2,85,000', '3,40,000',\n",
              "       '70,000', '2,89,999', '8,49,999', '7,49,999', '2,74,999',\n",
              "       '9,84,999', '5,99,999', '2,44,999', '4,74,999', '2,45,000',\n",
              "       '1,69,500', '3,70,000', '1,68,000', '1,45,000', '98,500',\n",
              "       '2,09,000', '1,85,000', '9,00,000', '6,99,999', '1,99,999',\n",
              "       '5,44,999', '1,99,000', '5,40,000', '49,000', '7,00,000', '55,000',\n",
              "       '8,95,000', '3,55,000', '5,65,000', '3,65,000', '40,000',\n",
              "       '4,00,000', '3,30,000', '5,80,000', '3,79,000', '2,19,000',\n",
              "       '5,19,000', '7,30,000', '20,00,000', '14,00,000', '3,11,000',\n",
              "       '8,55,000', '5,35,000', '1,78,000', '3,00,000', '2,55,000',\n",
              "       '5,49,999', '3,80,000', '57,000', '4,10,000', '2,25,000',\n",
              "       '1,20,000', '59,000', '5,99,000', '6,75,000', '72,500', '6,10,000',\n",
              "       '2,30,000', '5,20,000', '5,24,999', '4,24,999', '6,44,999',\n",
              "       '5,84,999', '7,99,999', '4,44,999', '6,49,999', '9,44,999',\n",
              "       '5,74,999', '3,74,999', '1,30,000', '4,01,000', '13,50,000',\n",
              "       '1,74,999', '2,39,999', '99,999', '3,24,999', '10,74,999',\n",
              "       '11,30,000', '1,49,000', '7,70,000', '30,000', '3,35,000',\n",
              "       '3,99,000', '65,000', '1,69,999', '1,65,000', '5,60,000',\n",
              "       '9,50,000', '7,15,000', '45,000', '9,40,000', '1,55,555',\n",
              "       '15,00,000', '4,95,000', '8,00,000', '12,99,000', '5,30,000',\n",
              "       '14,99,000', '32,000', '4,05,000', '7,60,000', '7,50,000',\n",
              "       '4,19,000', '1,40,000', '15,40,000', '1,23,000', '4,98,000',\n",
              "       '4,80,000', '4,88,000', '15,25,000', '5,48,900', '7,25,000',\n",
              "       '99,000', '52,000', '28,00,000', '4,99,000', '3,81,000',\n",
              "       '2,78,000', '6,90,000', '2,60,000', '90,001', '1,15,000',\n",
              "       '15,99,000', '1,59,000', '51,999', '2,15,000', '35,000',\n",
              "       '11,50,000', '2,69,000', '60,000', '4,30,000', '85,00,003',\n",
              "       '4,01,919', '4,90,000', '4,24,000', '2,05,000', '5,49,900',\n",
              "       '4,35,000', '1,89,700', '3,89,700', '3,60,000', '2,95,000',\n",
              "       '1,14,990', '10,65,000', '4,70,000', '48,000', '1,88,000',\n",
              "       '4,65,000', '1,79,999', '21,90,000', '23,90,000', '10,75,000',\n",
              "       '4,75,000', '10,25,000', '6,15,000', '19,00,000', '14,90,000',\n",
              "       '15,10,000', '18,50,000', '7,90,000', '17,25,000', '12,25,000',\n",
              "       '68,000', '9,70,000', '31,00,000', '8,99,000', '88,000', '53,000',\n",
              "       '5,68,500', '71,000', '5,90,000', '7,95,000', '42,000', '1,89,000',\n",
              "       '1,62,000', '35,999', '29,00,000', '39,999', '50,500', '5,10,000',\n",
              "       '8,60,000', '5,00,001'], dtype=object)"
            ]
          },
          "metadata": {},
          "execution_count": 15
        }
      ]
    },
    {
      "cell_type": "markdown",
      "source": [
        "Price values are in strings and have commas in them. Third row has the value 'Ask for Price'."
      ],
      "metadata": {
        "id": "-gx9akBNlgMm"
      }
    },
    {
      "cell_type": "code",
      "source": [
        "#Removing commas\n",
        "car['Price'] = car['Price'].str.replace(',', '')"
      ],
      "metadata": {
        "id": "z8vOhT5glkVN"
      },
      "execution_count": 16,
      "outputs": []
    },
    {
      "cell_type": "code",
      "source": [
        "#Getting rid from 'Ask For Price' values\n",
        "car=car[car['Price']!='Ask For Price']"
      ],
      "metadata": {
        "id": "i1AdHOdylp1f"
      },
      "execution_count": 17,
      "outputs": []
    },
    {
      "cell_type": "code",
      "source": [
        "#Converting to type int\n",
        "car['Price'] = car['Price'].astype(int)\n"
      ],
      "metadata": {
        "id": "K4XKY9xNmNUI"
      },
      "execution_count": null,
      "outputs": []
    },
    {
      "cell_type": "code",
      "source": [
        "car['Price']"
      ],
      "metadata": {
        "colab": {
          "base_uri": "https://localhost:8080/"
        },
        "id": "G5sWR8_hp2AK",
        "outputId": "98227559-a692-4bd5-ce56-b4c8c7fe3aa3"
      },
      "execution_count": null,
      "outputs": [
        {
          "output_type": "execute_result",
          "data": {
            "text/plain": [
              "0       80000\n",
              "1      425000\n",
              "3      325000\n",
              "4      575000\n",
              "6      175000\n",
              "        ...  \n",
              "883    270000\n",
              "885    110000\n",
              "886    300000\n",
              "888    260000\n",
              "889    390000\n",
              "Name: Price, Length: 814, dtype: int64"
            ]
          },
          "metadata": {},
          "execution_count": 94
        }
      ]
    },
    {
      "cell_type": "code",
      "source": [
        "car[\"Price\"].unique()"
      ],
      "metadata": {
        "colab": {
          "base_uri": "https://localhost:8080/"
        },
        "id": "mIe7ltmxmtUM",
        "outputId": "19f66606-cf09-41d3-f0af-4697f88c80c3"
      },
      "execution_count": null,
      "outputs": [
        {
          "output_type": "execute_result",
          "data": {
            "text/plain": [
              "array([  80000,  425000,  325000,  575000,  175000,  190000,  830000,\n",
              "        250000,  182000,  315000,  415000,  320000, 1000000,  500000,\n",
              "        350000,  160000,  310000,   75000,  100000,  290000,   95000,\n",
              "        180000,  385000,  105000,  650000,  689999,  448000,  549000,\n",
              "        501000,  489999,  280000,  349999,  284999,  345000,  499999,\n",
              "        235000,  249999, 1475000,  395000,  220000,  170000,   85000,\n",
              "        200000,  570000,  110000,  448999, 1891111,  159500,  344999,\n",
              "        449999,  865000,  699000,  375000,  224999, 1200000,  195000,\n",
              "        351000,  240000,   90000,  155000,  600000,  189500,  210000,\n",
              "        390000,  135000, 1600000,  701000,  265000,  525000,  372000,\n",
              "        635000,  550000,  485000,  329500,  251111,  569999,   69999,\n",
              "        299999,  399999,  450000,  270000,  158400,  179000,  125000,\n",
              "        299000,  150000,  275000,  285000,  340000,   70000,  289999,\n",
              "        849999,  749999,  274999,  984999,  599999,  244999,  474999,\n",
              "        245000,  169500,  370000,  168000,  145000,   98500,  209000,\n",
              "        185000,  900000,  699999,  199999,  544999,  199000,  540000,\n",
              "         49000,  700000,   55000,  895000,  355000,  565000,  365000,\n",
              "         40000,  400000,  330000,  580000,  379000,  219000,  519000,\n",
              "        730000, 2000000, 1400000,  311000,  855000,  535000,  178000,\n",
              "        300000,  255000,  549999,  380000,   57000,  410000,  225000,\n",
              "        120000,   59000,  599000,  675000,   72500,  610000,  230000,\n",
              "        520000,  524999,  424999,  644999,  584999,  799999,  444999,\n",
              "        649999,  944999,  574999,  374999,  130000,  401000, 1350000,\n",
              "        174999,  239999,   99999,  324999, 1074999, 1130000,  149000,\n",
              "        770000,   30000,  335000,  399000,   65000,  169999,  165000,\n",
              "        560000,  950000,  715000,   45000,  940000,  155555, 1500000,\n",
              "        495000,  800000, 1299000,  530000, 1499000,   32000,  405000,\n",
              "        760000,  750000,  419000,  140000, 1540000,  123000,  498000,\n",
              "        480000,  488000, 1525000,  548900,  725000,   99000,   52000,\n",
              "       2800000,  499000,  381000,  278000,  690000,  260000,   90001,\n",
              "        115000, 1599000,  159000,   51999,  215000,   35000, 1150000,\n",
              "        269000,   60000,  430000, 8500003,  401919,  490000,  424000,\n",
              "        205000,  549900,  435000,  189700,  389700,  360000,  295000,\n",
              "        114990, 1065000,  470000,   48000,  188000,  465000,  179999,\n",
              "       2190000, 2390000, 1075000,  475000, 1025000,  615000, 1900000,\n",
              "       1490000, 1510000, 1850000,  790000, 1725000, 1225000,   68000,\n",
              "        970000, 3100000,  899000,   88000,   53000,  568500,   71000,\n",
              "        590000,  795000,   42000,  189000,  162000,   35999, 2900000,\n",
              "         39999,   50500,  510000,  860000,  500001])"
            ]
          },
          "metadata": {},
          "execution_count": 73
        }
      ]
    },
    {
      "cell_type": "markdown",
      "source": [
        "###kms_driven Column"
      ],
      "metadata": {
        "id": "1UbS4bMAp4BR"
      }
    },
    {
      "cell_type": "code",
      "source": [
        "car[\"kms_driven\"].unique()"
      ],
      "metadata": {
        "colab": {
          "base_uri": "https://localhost:8080/"
        },
        "id": "RH0cvAAqm2EP",
        "outputId": "f5c70210-4503-483a-af39-e1b8ae231863"
      },
      "execution_count": null,
      "outputs": [
        {
          "output_type": "execute_result",
          "data": {
            "text/plain": [
              "array(['45,000 kms', '40 kms', '28,000 kms', '36,000 kms', '41,000 kms',\n",
              "       '25,000 kms', '24,530 kms', '60,000 kms', '30,000 kms',\n",
              "       '32,000 kms', '48,660 kms', '4,000 kms', '16,934 kms',\n",
              "       '43,000 kms', '35,550 kms', '39,522 kms', '39,000 kms',\n",
              "       '55,000 kms', '72,000 kms', '15,975 kms', '70,000 kms',\n",
              "       '23,452 kms', '35,522 kms', '48,508 kms', '15,487 kms',\n",
              "       '82,000 kms', '20,000 kms', '68,000 kms', '38,000 kms',\n",
              "       '27,000 kms', '33,000 kms', '46,000 kms', '16,000 kms',\n",
              "       '47,000 kms', '35,000 kms', '30,874 kms', '15,000 kms',\n",
              "       '29,685 kms', '1,30,000 kms', '19,000 kms', '54,000 kms',\n",
              "       '13,000 kms', '38,200 kms', '22,000 kms', '50,000 kms',\n",
              "       '13,500 kms', '3,600 kms', '45,863 kms', '60,500 kms',\n",
              "       '12,500 kms', '18,000 kms', '13,349 kms', '29,000 kms',\n",
              "       '44,000 kms', '42,000 kms', '14,000 kms', '49,000 kms',\n",
              "       '36,200 kms', '51,000 kms', '1,04,000 kms', '33,333 kms',\n",
              "       '33,600 kms', '5,600 kms', '7,500 kms', '26,000 kms', '24,330 kms',\n",
              "       '65,480 kms', '2,00,000 kms', '59,000 kms', '99,000 kms',\n",
              "       '2,800 kms', '21,000 kms', '11,000 kms', '66,000 kms', '3,000 kms',\n",
              "       '7,000 kms', '38,500 kms', '37,200 kms', '43,200 kms',\n",
              "       '24,800 kms', '45,872 kms', '40,000 kms', '11,400 kms',\n",
              "       '97,200 kms', '52,000 kms', '31,000 kms', '1,75,430 kms',\n",
              "       '37,000 kms', '65,000 kms', '3,350 kms', '75,000 kms',\n",
              "       '62,000 kms', '73,000 kms', '2,200 kms', '54,870 kms',\n",
              "       '34,580 kms', '97,000 kms', '60 kms', '80,200 kms', '3,200 kms',\n",
              "       '0,000 kms', '5,000 kms', '588 kms', '71,200 kms', '1,75,400 kms',\n",
              "       '9,300 kms', '56,758 kms', '10,000 kms', '56,450 kms',\n",
              "       '56,000 kms', '32,700 kms', '9,000 kms', '73 kms', '1,60,000 kms',\n",
              "       '58,559 kms', '57,000 kms', '1,70,000 kms', '80,000 kms',\n",
              "       '6,821 kms', '23,000 kms', '34,000 kms', '1,800 kms',\n",
              "       '4,00,000 kms', '48,000 kms', '90,000 kms', '12,000 kms',\n",
              "       '69,900 kms', '1,66,000 kms', '122 kms', '0 kms', '36,469 kms',\n",
              "       '7,800 kms', '24,695 kms', '15,141 kms', '59,910 kms',\n",
              "       '1,00,000 kms', '4,500 kms', '1,29,000 kms', '300 kms',\n",
              "       '1,31,000 kms', '1,11,111 kms', '59,466 kms', '25,500 kms',\n",
              "       '44,005 kms', '2,110 kms', '43,222 kms', '1,00,200 kms', '65 kms',\n",
              "       '1,40,000 kms', '1,03,553 kms', '58,000 kms', '1,20,000 kms',\n",
              "       '49,800 kms', '100 kms', '81,876 kms', '6,020 kms', '55,700 kms',\n",
              "       '18,500 kms', '53,000 kms', '35,500 kms', '22,134 kms',\n",
              "       '1,000 kms', '8,500 kms', '87,000 kms', '6,000 kms', '8,000 kms',\n",
              "       '55,800 kms', '56,400 kms', '72,160 kms', '11,500 kms',\n",
              "       '1,33,000 kms', '2,000 kms', '88,000 kms', '65,422 kms',\n",
              "       '1,17,000 kms', '1,50,000 kms', '10,750 kms', '6,800 kms',\n",
              "       '9,800 kms', '57,923 kms', '30,201 kms', '6,200 kms', '37,518 kms',\n",
              "       '24,652 kms', '383 kms', '95,000 kms', '52,500 kms', '47,900 kms',\n",
              "       '52,800 kms', '1,95,000 kms', '48,008 kms', '48,247 kms',\n",
              "       '9,400 kms', '64,000 kms', '2,137 kms', '10,544 kms',\n",
              "       '1,47,000 kms', '90,001 kms', '48,006 kms', '74,000 kms',\n",
              "       '85,000 kms', '29,500 kms', '39,700 kms', '67,000 kms',\n",
              "       '19,336 kms', '60,105 kms', '45,933 kms', '1,02,563 kms',\n",
              "       '28,600 kms', '41,800 kms', '1,16,000 kms', '42,590 kms',\n",
              "       '7,400 kms', '54,500 kms', '76,000 kms', '00 kms', '11,523 kms',\n",
              "       '38,600 kms', '95,500 kms', '37,458 kms', '85,960 kms',\n",
              "       '12,516 kms', '30,600 kms', '2,550 kms', '62,500 kms',\n",
              "       '69,000 kms', '28,400 kms', '68,485 kms', '3,500 kms',\n",
              "       '85,455 kms', '63,000 kms', '1,600 kms', '77,000 kms',\n",
              "       '26,500 kms', '2,875 kms', '13,900 kms', '1,500 kms', '2,450 kms',\n",
              "       '1,625 kms', '33,400 kms', '60,123 kms', '1,37,495 kms',\n",
              "       '91,200 kms', '1,46,000 kms', '1,00,800 kms', '2,100 kms',\n",
              "       '2,500 kms', '1,32,000 kms', 'Petrol'], dtype=object)"
            ]
          },
          "metadata": {},
          "execution_count": 74
        }
      ]
    },
    {
      "cell_type": "markdown",
      "source": [
        "Many inconsistencies. Invalid values as well as string values having 'kms' in them."
      ],
      "metadata": {
        "id": "wd20OjA1m-ew"
      }
    },
    {
      "cell_type": "code",
      "source": [
        "#Getting rid of commas and 'kms'\n",
        "car['kms_driven']=car['kms_driven'].str.split().str.get(0).str.replace(',','')"
      ],
      "metadata": {
        "id": "25jMrNUknn3E"
      },
      "execution_count": null,
      "outputs": []
    },
    {
      "cell_type": "code",
      "source": [
        "#Filtering non-numeric values\n",
        "car=car[car['kms_driven'].str.isnumeric()]"
      ],
      "metadata": {
        "id": "d3hhJsJBnxwo"
      },
      "execution_count": null,
      "outputs": []
    },
    {
      "cell_type": "code",
      "source": [
        "#Converting to type int\n",
        "car['kms_driven']=car['kms_driven'].astype(int)"
      ],
      "metadata": {
        "id": "OiCJY_3in4FK"
      },
      "execution_count": null,
      "outputs": []
    },
    {
      "cell_type": "code",
      "source": [
        "car['kms_driven'].unique()"
      ],
      "metadata": {
        "colab": {
          "base_uri": "https://localhost:8080/"
        },
        "id": "y_SZZJCGqTJ6",
        "outputId": "ccc89028-2ca8-441a-e800-e20a3453ee49"
      },
      "execution_count": null,
      "outputs": [
        {
          "output_type": "execute_result",
          "data": {
            "text/plain": [
              "array([ 45000,     40,  28000,  36000,  41000,  25000,  24530,  60000,\n",
              "        30000,  32000,  48660,   4000,  16934,  43000,  35550,  39522,\n",
              "        39000,  55000,  72000,  15975,  70000,  23452,  35522,  48508,\n",
              "        15487,  82000,  20000,  68000,  38000,  27000,  33000,  46000,\n",
              "        16000,  47000,  35000,  30874,  15000,  29685, 130000,  19000,\n",
              "        54000,  13000,  38200,  22000,  50000,  13500,   3600,  45863,\n",
              "        60500,  12500,  18000,  13349,  29000,  44000,  42000,  14000,\n",
              "        49000,  36200,  51000, 104000,  33333,  33600,   5600,   7500,\n",
              "        24330,  65480, 200000,  59000,  99000,   2800,  21000,  11000,\n",
              "        66000,   3000,   7000,  38500,  37200,  43200,  24800,  45872,\n",
              "        40000,  11400,  97200,  52000,  31000, 175430,  37000,  65000,\n",
              "         3350,  75000,  62000,  73000,   2200,  54870,  34580,  97000,\n",
              "           60,  80200,   3200,      0,   5000,    588,  71200, 175400,\n",
              "         9300,  56758,  10000,  56450,  56000,  32700,   9000,     73,\n",
              "       160000,  58559,  57000, 170000,  80000,   6821,  23000,  34000,\n",
              "         1800, 400000,  48000,  90000,  12000,  69900, 166000,    122,\n",
              "        36469,   7800,  24695,  15141,  59910, 100000,   4500, 129000,\n",
              "          300, 131000, 111111,  59466,  25500,  44005,   2110,  43222,\n",
              "       100200,     65, 140000, 103553,  58000, 120000,  49800,    100,\n",
              "        81876,   6020,  55700,  18500,  53000,  35500,  22134,   1000,\n",
              "         8500,  87000,   6000,   8000,  55800,  56400,  72160,  11500,\n",
              "       133000,   2000,  88000,  65422, 117000, 150000,  10750,   6800,\n",
              "         9800,  57923,  30201,   6200,  37518,  24652,    383,  95000,\n",
              "        52500,  47900,  52800, 195000,  48008,  48247,   9400,  64000,\n",
              "         2137,  10544, 147000,  90001,  48006,  74000,  85000,  29500,\n",
              "        39700,  67000,  19336,  60105,  45933, 102563,  28600,  41800,\n",
              "       116000,  42590,   7400,  54500,  76000,  11523,  38600,  95500,\n",
              "        37458,  85960,  12516,  30600,   2550,  62500,  69000,  28400,\n",
              "        68485,   3500,  85455,  63000,   1600,  77000,  26500,   2875,\n",
              "        13900,   1500,   2450,   1625,  33400,  60123, 137495,  91200,\n",
              "       146000, 100800,   2100,   2500, 132000])"
            ]
          },
          "metadata": {},
          "execution_count": 96
        }
      ]
    },
    {
      "cell_type": "code",
      "source": [
        "car['kms_driven']"
      ],
      "metadata": {
        "colab": {
          "base_uri": "https://localhost:8080/"
        },
        "id": "ccnoJMbZn8DR",
        "outputId": "7cfc66da-7832-410c-afe6-170d75a459ae"
      },
      "execution_count": null,
      "outputs": [
        {
          "output_type": "execute_result",
          "data": {
            "text/plain": [
              "0       45000\n",
              "1          40\n",
              "3       28000\n",
              "4       36000\n",
              "6       41000\n",
              "        ...  \n",
              "883     50000\n",
              "885     30000\n",
              "886    132000\n",
              "888     27000\n",
              "889     40000\n",
              "Name: kms_driven, Length: 815, dtype: int64"
            ]
          },
          "metadata": {},
          "execution_count": 78
        }
      ]
    },
    {
      "cell_type": "markdown",
      "source": [
        "###Fuel type column"
      ],
      "metadata": {
        "id": "KJPbAOPFqZHQ"
      }
    },
    {
      "cell_type": "code",
      "source": [
        "car['fuel_type'].unique()"
      ],
      "metadata": {
        "colab": {
          "base_uri": "https://localhost:8080/"
        },
        "id": "VUdgfKQ6oUH2",
        "outputId": "1c588c34-b91c-463a-a5c4-d79178be2224"
      },
      "execution_count": null,
      "outputs": [
        {
          "output_type": "execute_result",
          "data": {
            "text/plain": [
              "array(['Petrol', 'Diesel', nan, 'LPG'], dtype=object)"
            ]
          },
          "metadata": {},
          "execution_count": 80
        }
      ]
    },
    {
      "cell_type": "markdown",
      "source": [
        "Fuel type column has nan values"
      ],
      "metadata": {
        "id": "AM4g8RRpobXp"
      }
    },
    {
      "cell_type": "code",
      "source": [
        "car=car[~car['fuel_type'].isna()]"
      ],
      "metadata": {
        "id": "v5lPuCIPodx8"
      },
      "execution_count": null,
      "outputs": []
    },
    {
      "cell_type": "code",
      "source": [
        "car['fuel_type'].unique()"
      ],
      "metadata": {
        "colab": {
          "base_uri": "https://localhost:8080/"
        },
        "id": "-Vwqr12fog0a",
        "outputId": "45462e58-cfec-4235-ed3d-30e5ad0fb7b3"
      },
      "execution_count": null,
      "outputs": [
        {
          "output_type": "execute_result",
          "data": {
            "text/plain": [
              "array(['Petrol', 'Diesel', 'LPG'], dtype=object)"
            ]
          },
          "metadata": {},
          "execution_count": 82
        }
      ]
    },
    {
      "cell_type": "code",
      "source": [
        "car['fuel_type']"
      ],
      "metadata": {
        "colab": {
          "base_uri": "https://localhost:8080/"
        },
        "id": "xwFq4nc5qfBs",
        "outputId": "a9f8440a-61cc-43db-886d-ed7b1e4d171c"
      },
      "execution_count": 18,
      "outputs": [
        {
          "output_type": "execute_result",
          "data": {
            "text/plain": [
              "0      Petrol\n",
              "1      Diesel\n",
              "3      Petrol\n",
              "4      Diesel\n",
              "6      Diesel\n",
              "        ...  \n",
              "886    Petrol\n",
              "888    Diesel\n",
              "889    Diesel\n",
              "890       NaN\n",
              "891       NaN\n",
              "Name: fuel_type, Length: 817, dtype: object"
            ]
          },
          "metadata": {},
          "execution_count": 18
        }
      ]
    },
    {
      "cell_type": "markdown",
      "source": [
        "###Name Column"
      ],
      "metadata": {
        "id": "awHMGZ9Uqdb4"
      }
    },
    {
      "cell_type": "code",
      "source": [
        "car['name'].unique()"
      ],
      "metadata": {
        "colab": {
          "base_uri": "https://localhost:8080/"
        },
        "id": "ZjhJUYFSon3a",
        "outputId": "940f4824-50aa-4eaa-95a6-360d8db3a1af"
      },
      "execution_count": 19,
      "outputs": [
        {
          "output_type": "execute_result",
          "data": {
            "text/plain": [
              "array(['Hyundai Santro Xing XO eRLX Euro III', 'Mahindra Jeep CL550 MDI',\n",
              "       'Hyundai Grand i10 Magna 1.2 Kappa VTVT',\n",
              "       'Ford EcoSport Titanium 1.5L TDCi', 'Ford Figo', 'Hyundai Eon',\n",
              "       'Ford EcoSport Ambiente 1.5L TDCi',\n",
              "       'Maruti Suzuki Alto K10 VXi AMT', 'Skoda Fabia Classic 1.2 MPI',\n",
              "       'Maruti Suzuki Stingray VXi', 'Hyundai Elite i20 Magna 1.2',\n",
              "       'Mahindra Scorpio SLE BS IV', 'Audi A8', 'Audi Q7',\n",
              "       'Mahindra Scorpio S10', 'Maruti Suzuki Alto 800',\n",
              "       'Maruti Suzuki Alto 800 Vxi', 'Hyundai i20 Sportz 1.2',\n",
              "       'Maruti Suzuki Alto 800 Lx', 'Maruti Suzuki Vitara Brezza ZDi',\n",
              "       'Maruti Suzuki Alto LX', 'Mahindra Bolero DI',\n",
              "       'Maruti Suzuki Swift Dzire ZDi', 'Mahindra Scorpio S10 4WD',\n",
              "       'Maruti Suzuki Swift Vdi BSIII',\n",
              "       'Maruti Suzuki Wagon R VXi BS III',\n",
              "       'Maruti Suzuki Wagon R VXi Minor',\n",
              "       'Toyota Innova 2.0 G 8 STR BS IV', 'Renault Lodgy 85 PS RXL',\n",
              "       'Skoda Yeti Ambition 2.0 TDI CR 4x2',\n",
              "       'Maruti Suzuki Baleno Delta 1.2',\n",
              "       'Renault Duster 110 PS RxZ Diesel Plus',\n",
              "       'Renault Duster 85 PS RxE Diesel', 'Honda City 1.5 S MT',\n",
              "       'Maruti Suzuki Dzire', 'Honda Amaze', 'Honda Amaze 1.5 SX i DTEC',\n",
              "       'Honda City', 'Datsun Redi GO S', 'Maruti Suzuki SX4 ZXI MT',\n",
              "       'Mitsubishi Pajero Sport Limited Edition',\n",
              "       'Maruti Suzuki Swift VXi 1.2 ABS BS IV', 'Honda City ZX CVT',\n",
              "       'Maruti Suzuki Wagon R LX BS IV', 'Tata Indigo eCS LS CR4 BS IV',\n",
              "       'Volkswagen Polo Highline Exquisite P', 'Chevrolet Spark LS 1.0',\n",
              "       'Renault Duster 110PS Diesel RxZ', 'Mini Cooper S 1.6',\n",
              "       'Skoda Fabia 1.2L Diesel Ambiente', 'Renault Duster',\n",
              "       'Mahindra Scorpio S4', 'Mahindra Scorpio VLX 2WD BS IV',\n",
              "       'Mahindra Quanto C8', 'Ford EcoSport', 'Honda Brio',\n",
              "       'Volkswagen Vento Highline Plus 1.5 Diesel AT',\n",
              "       'Hyundai i20 Magna', 'Toyota Corolla Altis Diesel D4DG',\n",
              "       'Hyundai Verna Transform SX VTVT',\n",
              "       'Toyota Corolla Altis Petrol Ltd', 'Honda City 1.5 EXi New',\n",
              "       'Skoda Fabia 1.2L Diesel Elegance', 'BMW 3 Series 320i',\n",
              "       'Maruti Suzuki A Star Lxi', 'Toyota Etios GD',\n",
              "       'Ford Figo Diesel EXI Option',\n",
              "       'Maruti Suzuki Swift Dzire VXi 1.2 BS IV',\n",
              "       'Chevrolet Beat LT Diesel', 'BMW 7 Series 740Li Sedan',\n",
              "       'Mahindra XUV500 W8 AWD 2013', 'Hyundai i10 Magna 1.2',\n",
              "       'Hyundai Verna Fluidic New', 'Maruti Suzuki Swift VXi 1.2 BS IV',\n",
              "       'Maruti Suzuki Ertiga ZXI Plus', 'Maruti Suzuki Ertiga Vxi',\n",
              "       'Maruti Suzuki Ertiga VDi', 'Maruti Suzuki Alto LXi BS III',\n",
              "       'Hyundai Grand i10 Asta 1.1 CRDi', 'Honda Amaze 1.2 S i VTEC',\n",
              "       'Hyundai i20 Asta 1.4 CRDI 6 Speed', 'Ford Figo Diesel EXI',\n",
              "       'Maruti Suzuki Eeco 5 STR WITH AC HTR', 'Maruti Suzuki Ertiga ZXi',\n",
              "       'Maruti Suzuki Esteem LXi BS III', 'Maruti Suzuki Ritz VXI',\n",
              "       'Maruti Suzuki Ritz LDi', 'Maruti Suzuki Dzire VDI',\n",
              "       'Toyota Etios Liva G', 'Hyundai i20 Sportz 1.4 CRDI',\n",
              "       'Chevrolet Spark', 'Nissan Micra XV', 'Maruti Suzuki Swift',\n",
              "       'Honda Amaze 1.5 S i DTEC', 'Chevrolet Beat', 'Toyota Corolla',\n",
              "       'Honda City 1.5 V MT', 'Ford EcoSport Trend 1.5L TDCi',\n",
              "       'Hyundai i20 Asta 1.2', 'Tata Indica V2 eLS',\n",
              "       'Hindustan Motors Ambassador', 'Toyota Corolla Altis 1.8 GL',\n",
              "       'Toyota Corolla Altis 1.8 J', 'Toyota Innova 2.5 GX BS IV 7 STR',\n",
              "       'Volkswagen Jetta Highline TDI AT',\n",
              "       'Volkswagen Polo Comfortline 1.2L P', 'Volkswagen Polo',\n",
              "       'Mahindra Scorpio', 'Nissan Sunny', 'Hyundai Elite i20',\n",
              "       'Renault Kwid', 'Mahindra Scorpio VLX Airbag',\n",
              "       'Maruti Suzuki Alto 800 Lxi', 'Chevrolet Spark LT 1.0',\n",
              "       'Datsun Redi GO T O', 'Maruti Suzuki Swift RS VDI',\n",
              "       'Fiat Punto Emotion 1.2', 'Hyundai i10 Sportz 1.2',\n",
              "       'Chevrolet Beat LT Opt Diesel', 'Chevrolet Beat LS Diesel',\n",
              "       'Tata Indigo CS', 'Maruti Suzuki Swift VDi',\n",
              "       'Hyundai Eon Era Plus', 'Mahindra XUV500', 'Ford Fiesta',\n",
              "       'Maruti Suzuki Wagon R', 'Hyundai i20',\n",
              "       'Tata Indigo eCS LX TDI BS III',\n",
              "       'Hyundai Fluidic Verna 1.6 CRDi SX', 'Fiat Petra ELX 1.2 PS',\n",
              "       'Hyundai Santro Xing XS', 'Maruti Suzuki Ciaz VXi Plus',\n",
              "       'Maruti Suzuki Zen VX', 'Hyundai Creta 1.6 SX Plus Petrol',\n",
              "       'Mahindra Scorpio SLX', 'Toyota Innova 2.5 G BS III 8 STR',\n",
              "       'Maruti Suzuki Wagon R LXI BS IV', 'Tata Nano Cx BSIV',\n",
              "       'Maruti Suzuki Alto Std BS IV', 'Maruti Suzuki Wagon R LXi BS III',\n",
              "       'Maruti Suzuki Swift VXI BSIII',\n",
              "       'Tata Sumo Victa EX 10 by 7 Str BSIII',\n",
              "       'Volkswagen Passat Diesel Comfortline AT',\n",
              "       'Renault Scala RxL Diesel Travelogue',\n",
              "       'Hyundai Grand i10 Sportz O 1.2 Kappa VTVT',\n",
              "       'Hyundai i20 Active 1.2 SX', 'Mahindra Xylo E4',\n",
              "       'Mahindra Jeep MM 550 XDB', 'Mahindra Bolero SLE BS IV',\n",
              "       'Force Motors Force One LX ABS 7 STR', 'Maruti Suzuki SX4',\n",
              "       'Toyota Etios', 'Honda City ZX VTEC',\n",
              "       'Maruti Suzuki Wagon R LX BS III', 'Honda City VX O MT Diesel',\n",
              "       'Mahindra Thar CRDe 4x4 AC',\n",
              "       'Audi A4 1.8 TFSI Multitronic Premium Plus',\n",
              "       'Mercedes Benz GLA Class 200 CDI Sport', 'Renault Kwid RXT',\n",
              "       'Tata Aria Pleasure 4X2', 'Mercedes Benz B Class B180 Sports',\n",
              "       'Datsun GO T O', 'Honda Jazz VX MT',\n",
              "       'Hyundai i20 Active 1.4L SX O', 'Mini Cooper S',\n",
              "       'Maruti Suzuki Ciaz ZXI Plus', 'Chevrolet Tavera Neo',\n",
              "       'Hyundai Eon Sportz', 'Tata Sumo Gold Select Variant',\n",
              "       'Maruti Suzuki Wagon R 1.0', 'Maruti Suzuki Esteem VXi BS III',\n",
              "       'Chevrolet Enjoy 1.4 LS 8 STR', 'Maruti Suzuki Wagon R 1.0 VXi',\n",
              "       'Nissan Terrano XL D Plus', 'Renault Duster 85 PS RxL Diesel',\n",
              "       'Maruti Suzuki Dzire ZXI', 'Renault Kwid RXT Opt',\n",
              "       'Maruti Suzuki Maruti 800 Std', 'Renault Kwid 1.0 RXT AMT',\n",
              "       'Renault Scala RxL Diesel',\n",
              "       'Hyundai Grand i10 Asta 1.2 Kappa VTVT O',\n",
              "       'Chevrolet Beat LS Petrol', 'Hyundai Accent GLX',\n",
              "       'Mahindra TUV300 T4 Plus', 'Tata Indica V2 Xeta e GLE',\n",
              "       'Tata Indigo CS LS DiCOR',\n",
              "       'Mahindra Scorpio VLX Special Edition BS III', 'Honda Accord',\n",
              "       'Ford EcoSport Titanium 1.5 TDCi', 'Maruti Suzuki Ertiga',\n",
              "       'Mahindra Scorpio 2.6 CRDe', 'Honda Mobilio',\n",
              "       'Toyota Corolla Altis', 'Skoda Laura', 'Hyundai Verna Fluidic',\n",
              "       'Maruti Suzuki Vitara Brezza', 'Tata Manza Aura Quadrajet',\n",
              "       'Chevrolet Sail UVA Petrol LT ABS',\n",
              "       'Hyundai Verna Fluidic 1.6 VTVT SX',\n",
              "       'Audi A4 2.0 TDI 177bhp Premium', 'Hyundai Elantra SX',\n",
              "       'Mahindra Scorpio VLX 4WD Airbag', 'Mahindra KUV100 K8 D 6 STR',\n",
              "       'Hyundai Grand i10', 'Hyundai i10', 'Hyundai i20 Active',\n",
              "       'Datsun Redi GO', 'Toyota Etios Liva', 'Hyundai Accent',\n",
              "       'Hyundai Verna', 'Toyota Fortuner', 'Hyundai i10 Sportz',\n",
              "       'Mahindra Bolero Power Plus SLE', 'Honda City 1.5 V MT Exclusive',\n",
              "       'Chevrolet Spark LT 1.0 Airbag', 'Tata Indigo eCS VX CR4 BS IV',\n",
              "       'Skoda Rapid Elegance 1.6 TDI CR MT', 'Tata Vista Quadrajet VX',\n",
              "       'Maruti Suzuki Alto K10 VXi AT', 'Maruti Suzuki Zen LXi BS III',\n",
              "       'Maruti Suzuki Swift Dzire Tour LDi', 'Honda City ZX EXi',\n",
              "       'Chevrolet Beat Diesel', 'Hyundai Verna 1.4 VTVT',\n",
              "       'Toyota Innova 2.5 E MS 7 STR BS IV',\n",
              "       'Maruti Suzuki Maruti 800 Std – Befo',\n",
              "       'Hyundai Elite i20 Asta 1.4 CRDI',\n",
              "       'Maruti Suzuki Versa DX2 8 SEATER BSIII',\n",
              "       'Tata Indigo LX TDI BS III',\n",
              "       'Volkswagen Vento Konekt Diesel Highline',\n",
              "       'Mercedes Benz C Class 200 CDI Classic', 'Hyundai Santro Xing GLS',\n",
              "       'Maruti Suzuki Omni Limited Edition',\n",
              "       'Hyundai Sonata Transform 2.4 GDi MT',\n",
              "       'Hyundai Elite i20 Sportz 1.2', 'Honda Jazz S MT',\n",
              "       'Hyundai Grand i10 Sportz 1.2 Kappa VTVT',\n",
              "       'Maruti Suzuki Zen LXi BSII',\n",
              "       'Mahindra Scorpio W Turbo 2.6DX 9 Seater',\n",
              "       'Maruti Suzuki Alto K10 VXi',\n",
              "       'Hyundai Grand i10 Asta 1.2 Kappa VTVT', 'Mahindra XUV500 W8',\n",
              "       'Hyundai i20 Magna O 1.2', 'Renault Duster 85 PS RxL Explore LE',\n",
              "       'Honda Brio V MT', 'Mahindra TUV300 T8',\n",
              "       'Nissan X Trail Select Variant', 'Ford Ikon 1.3 CLXi NXt Finesse',\n",
              "       'Toyota Fortuner 3.0 4x4 MT', 'Tata Manza ELAN Quadrajet',\n",
              "       'Mercedes Benz A Class A 180 Sport Petrol', 'Tata Indigo LS',\n",
              "       'Hyundai i20 Magna 1.2', 'Honda Amaze 1.5 E i DTEC',\n",
              "       'Hyundai Verna 1.6 EX VTVT', 'BMW 5 Series 520d Sedan',\n",
              "       'Skoda Superb 1.8 TFSI AT', 'Audi Q3 2.0 TDI quattro Premium',\n",
              "       'Mahindra Bolero DI BSII',\n",
              "       'Ford Figo Duratorq Diesel Titanium 1.4',\n",
              "       'Maruti Suzuki Wagon R VXI BS IV', 'Mahindra Logan Diesel 1.5 DLS',\n",
              "       'Tata Nano GenX XMA', 'Honda City SV', 'Ford Figo Petrol LXI',\n",
              "       'Hyundai i10 Magna 1.2 Kappa2', 'Toyota Corolla H2',\n",
              "       'Maruti Suzuki Swift Dzire Tour VXi', 'Tata Indigo CS eLS BS IV',\n",
              "       'Hyundai Xcent Base 1.1 CRDi', 'Hyundai Accent Executive Edition',\n",
              "       'Tata Zest XE 75 PS Diesel', 'Maruti Suzuki Dzire LDI',\n",
              "       'Tata Sumo Gold LX BS IV', 'Toyota Corolla Altis GL Petrol',\n",
              "       'Maruti Suzuki Eeco 7 STR', 'Toyota Fortuner 3.0 4x2 MT',\n",
              "       'Mahindra XUV500 W6', 'Tata Tigor Revotron XZ',\n",
              "       'Maruti Suzuki 800', 'Honda Mobilio S i DTEC',\n",
              "       'Hyundai Verna 1.6 CRDI E', 'Maruti Suzuki Omni Select Variant',\n",
              "       'Tata Indica', 'Hyundai Santro Xing', 'Maruti Suzuki Zen Estilo',\n",
              "       'Honda Brio VX AT', 'Maruti Suzuki Zen Estilo LXI Green CNG',\n",
              "       'Maruti Suzuki Wagon R Select Variant', 'Tata Nano Lx BSIV',\n",
              "       'Jaguar XE XE Portfolio', 'Hyundai Eon Magna Plus',\n",
              "       'Maruti Suzuki Ritz GENUS VXI',\n",
              "       'Hyundai Grand i10 Magna AT 1.2 Kappa VTVT',\n",
              "       'Hyundai Eon D Lite Plus', 'Honda Amaze 1.2 VX i VTEC',\n",
              "       'Maruti Suzuki Estilo VXi ABS BS IV',\n",
              "       'Maruti Suzuki Vitara Brezza LDi O',\n",
              "       'Hyundai Creta 1.6 SX Plus Petrol AT', 'Mahindra Scorpio Vlx BSIV',\n",
              "       'Mitsubishi Lancer 1.8 LXi', 'Maruti Suzuki Maruti 800 AC',\n",
              "       'Maruti Suzuki Alto 800 LXI CNG O', 'Ford Fiesta SXi 1.6 ABS',\n",
              "       'Maruti Suzuki Ritz VDi', 'Maruti Suzuki Estilo LX BS IV',\n",
              "       'Audi A6 2.0 TDI Premium', 'Maruti Suzuki Alto',\n",
              "       'Maruti Suzuki Baleno Sigma 1.2', 'Hyundai Verna 1.6 SX VTVT AT',\n",
              "       'Maruti Suzuki Swift GLAM', 'Hyundai Getz Prime 1.3 GVS',\n",
              "       'Hyundai Santro', 'Hyundai Getz Prime 1.3 GLX',\n",
              "       'Chevrolet Beat PS Diesel', 'Ford EcoSport Trend 1.5 Ti VCT',\n",
              "       'Tata Indica V2 DLG', 'BMW X1 xDrive20d xLine',\n",
              "       'Honda City 1.5 V AT', 'Tata Nano', 'Chevrolet Cruze LTZ AT',\n",
              "       'Maruti Suzuki Swift Dzire VDi', 'Mahindra XUV500 W10',\n",
              "       'Maruti Suzuki Alto K10 LXi CNG', 'Hyundai Accent GLE',\n",
              "       'Force Motors One SUV', 'Chevrolet Spark 1.0 LT',\n",
              "       'Toyota Etios Liva GD',\n",
              "       'Renault Duster 85PS Diesel RxL Optional with Nav',\n",
              "       'Chevrolet Enjoy', 'BMW 5 Series 530i', 'Chevrolet Cruze LTZ',\n",
              "       'Hyundai Verna VGT CRDi SX ABS', 'Maruti Suzuki Omni',\n",
              "       'Maruti Suzuki Celerio VDi', 'Tata Zest Quadrajet 1.3',\n",
              "       'Tata Indigo CS eLX BS IV', 'Hyundai i10 Era',\n",
              "       'Tata Indigo eCS LX CR4 BS IV', 'Tata Indigo Marina LS',\n",
              "       'Hyundai Xcent SX 1.2', 'Tata Nano LX Special Edition',\n",
              "       'Renault Duster 110 PS RxZ Diesel',\n",
              "       'Maruti Suzuki Wagon R AX BSIV', 'Maruti Suzuki Alto K10 New',\n",
              "       'Mahindra Xylo E8', 'Tata Manza Aqua Quadrajet',\n",
              "       'Renault Kwid 1.0', 'Tata Venture EX 8 STR',\n",
              "       'Maruti Suzuki Swift Dzire Tour LXi',\n",
              "       'Skoda Octavia Classic 1.9 TDI MT', 'Maruti Suzuki Omni LPG BS IV',\n",
              "       'Tata Sumo Gold EX BS IV', 'Hyundai Verna 1.6 CRDI SX',\n",
              "       'Mahindra Scorpio SLX 2.6 Turbo 8 Str', 'Ford Ikon 1.6 Nxt',\n",
              "       'Toyota Innova 2.5 V 7 STR', 'Nissan Sunny XL',\n",
              "       'Maruti Suzuki Swift VDi BS IV', 'Toyota Innova 2.0 G4',\n",
              "       'Maruti Suzuki Swift VDi ABS', 'Hyundai Elite i20 Asta 1.2',\n",
              "       'Volkswagen Polo Trendline 1.5L D', 'Toyota Etios Liva Diesel',\n",
              "       'Maruti Suzuki Ciaz ZXi Plus RS', 'Hyundai Elantra 1.8 S',\n",
              "       'Ford EcoSport Trend 1.5L Ti VCT', 'Tata Indica eV2 LS',\n",
              "       'Jaguar XF 2.2 Diesel Luxury',\n",
              "       'Audi Q5 2.0 TDI quattro Premium Plus', 'BMW 3 Series 320d Sedan',\n",
              "       'Maruti Suzuki Swift ZXi 1.2 BS IV', 'BMW X1 sDrive20d',\n",
              "       'Maruti Suzuki S Cross Sigma 1.3', 'Maruti Suzuki Ertiga LDi',\n",
              "       'Volkswagen Vento Comfortline Petrol', 'Mahindra KUV100',\n",
              "       'Maruti Suzuki Swift Dzire Tour VDi', 'Mahindra Scorpio 2.6 SLX',\n",
              "       'Maruti Suzuki Omni 8 STR BS III',\n",
              "       'Volkswagen Jetta Comfortline 1.9 TDI AT', 'Volvo S80 Summum D4',\n",
              "       'Toyota Corolla Altis VL AT Petrol',\n",
              "       'Mitsubishi Pajero Sport 2.5 AT', 'Chevrolet Beat LT Petrol',\n",
              "       'BMW X1', 'Mercedes Benz C Class C 220 CDI Avantgarde',\n",
              "       'Volkswagen Vento Comfortline Diesel', 'Tata Indigo CS GLS',\n",
              "       'Ford Figo Petrol Titanium', 'Honda City ZX GXi',\n",
              "       'Maruti Suzuki Wagon R Duo Lxi', 'Maruti Suzuki Zen LX BSII',\n",
              "       'Renault Duster RxL Petrol', 'Maruti Suzuki Baleno Zeta 1.2',\n",
              "       'Honda WR V S MT Petrol', 'Renault Duster 110 PS RxL Diesel',\n",
              "       'Mahindra Scorpio LX BS III',\n",
              "       'Maruti Suzuki SX4 Celebration Diesel',\n",
              "       'Audi A3 Cabriolet 40 TFSI', 'Hyundai Santro AE GLS Audio',\n",
              "       'Mahindra Xylo D2 BS IV', 'Hyundai Getz GLE',\n",
              "       'Hyundai Creta 1.6 SX', 'Hyundai Santro Xing XL AT eRLX Euro III',\n",
              "       'Hyundai Santro Xing XL eRLX Euro III',\n",
              "       'Tata Indica V2 DLS BS III', 'Honda City 1.5 E MT',\n",
              "       'Nissan Micra XL', 'Honda City 1.5 S Inspire',\n",
              "       'Tata Indica eV2 eXeta eGLX', 'Maruti Suzuki Omni E 8 STR BS IV',\n",
              "       'Maruti Suzuki Swift LDi', 'Hyundai Verna 1.6 CRDI SX Plus AT',\n",
              "       'Chevrolet Tavera LS B3 10 Seats BSII', 'Tata Tiago Revotron XM',\n",
              "       'Tata Tiago Revotorq XZ',\n",
              "       'Hindustan Motors Ambassador Classic Mark 4 – Befo',\n",
              "       'Ford Fusion 1.4 TDCi Diesel',\n",
              "       'Fiat Linea Emotion 1.4 L T Jet Petrol',\n",
              "       'Ford Ikon 1.3 Flair Josh 100', 'Tata Indica V2 LS',\n",
              "       'Mahindra Xylo D2', 'Hyundai Eon Magna',\n",
              "       'Tata Sumo Grande MKII GX', 'Volkswagen Polo Highline1.2L P',\n",
              "       'Tata Tiago Revotron XZ', 'Tata Indigo eCS',\n",
              "       'Mahindra Xylo E8 BS IV', 'Tata Sumo Gold FX BSIII',\n",
              "       'Hyundai Creta', 'Tata Bolt XM Petrol', 'Maruti Suzuki Ritz',\n",
              "       'Hyundai i20 Asta', 'Maruti Suzuki Swift Select Variant',\n",
              "       'Tata Indica V2 DLX BS III',\n",
              "       'Mahindra Scorpio VLX 2.2 mHawk Airbag BSIV',\n",
              "       'Toyota Innova 2.5 E 8 STR', 'Mahindra KUV100 K8 6 STR',\n",
              "       'Datsun Go Plus', 'Ford Endeavor 4x4 Thunder Plus',\n",
              "       'Tata Indica V2', 'Hyundai Santro Xing GL',\n",
              "       'Toyota Innova 2.5 Z Diesel 7 Seater', 'Maruti Suzuki Alto AX',\n",
              "       'Mahindra Logan', 'Maruti Suzuki 800 Std BS III',\n",
              "       'Chevrolet Sail 1.2 LS', 'Tata Manza', 'Toyota Etios G',\n",
              "       'Toyota Qualis', 'Mahindra Quanto C4', 'Maruti Suzuki Swift Dzire',\n",
              "       'Hyundai i20 Select Variant', 'Honda City VX Petrol',\n",
              "       'Hyundai Getz', 'Mercedes Benz C Class 200 K MT', 'Skoda Fabia',\n",
              "       'Maruti Suzuki Ritz VXI ABS', 'Tata Indica V2 DLE BS III',\n",
              "       'Tata Zest XM Diesel', 'Honda Amaze 1.2 E i VTEC',\n",
              "       'Chevrolet Sail 1.2 LT ABS'], dtype=object)"
            ]
          },
          "metadata": {},
          "execution_count": 19
        }
      ]
    },
    {
      "cell_type": "markdown",
      "source": [
        "#Cleaned Data"
      ],
      "metadata": {
        "id": "Deu04Oxoo4XP"
      }
    },
    {
      "cell_type": "code",
      "source": [
        "car"
      ],
      "metadata": {
        "colab": {
          "base_uri": "https://localhost:8080/",
          "height": 423
        },
        "id": "X83LKUyAo1uE",
        "outputId": "69b9bfce-8f91-4923-b603-244a04426bef"
      },
      "execution_count": 20,
      "outputs": [
        {
          "output_type": "execute_result",
          "data": {
            "text/plain": [
              "                                       name    company  year   Price  \\\n",
              "0      Hyundai Santro Xing XO eRLX Euro III    Hyundai  2007   80000   \n",
              "1                   Mahindra Jeep CL550 MDI   Mahindra  2006  425000   \n",
              "3    Hyundai Grand i10 Magna 1.2 Kappa VTVT    Hyundai  2014  325000   \n",
              "4          Ford EcoSport Titanium 1.5L TDCi       Ford  2014  575000   \n",
              "6                                 Ford Figo       Ford  2012  175000   \n",
              "..                                      ...        ...   ...     ...   \n",
              "886                    Toyota Corolla Altis     Toyota  2009  300000   \n",
              "888                     Tata Zest XM Diesel       Tata  2018  260000   \n",
              "889                      Mahindra Quanto C8   Mahindra  2013  390000   \n",
              "890                Honda Amaze 1.2 E i VTEC      Honda  2014  180000   \n",
              "891               Chevrolet Sail 1.2 LT ABS  Chevrolet  2014  160000   \n",
              "\n",
              "       kms_driven fuel_type  \n",
              "0      45,000 kms    Petrol  \n",
              "1          40 kms    Diesel  \n",
              "3      28,000 kms    Petrol  \n",
              "4      36,000 kms    Diesel  \n",
              "6      41,000 kms    Diesel  \n",
              "..            ...       ...  \n",
              "886  1,32,000 kms    Petrol  \n",
              "888    27,000 kms    Diesel  \n",
              "889    40,000 kms    Diesel  \n",
              "890        Petrol       NaN  \n",
              "891        Petrol       NaN  \n",
              "\n",
              "[817 rows x 6 columns]"
            ],
            "text/html": [
              "\n",
              "  <div id=\"df-5ccaba59-7bfb-4da5-a011-5fed0e718130\" class=\"colab-df-container\">\n",
              "    <div>\n",
              "<style scoped>\n",
              "    .dataframe tbody tr th:only-of-type {\n",
              "        vertical-align: middle;\n",
              "    }\n",
              "\n",
              "    .dataframe tbody tr th {\n",
              "        vertical-align: top;\n",
              "    }\n",
              "\n",
              "    .dataframe thead th {\n",
              "        text-align: right;\n",
              "    }\n",
              "</style>\n",
              "<table border=\"1\" class=\"dataframe\">\n",
              "  <thead>\n",
              "    <tr style=\"text-align: right;\">\n",
              "      <th></th>\n",
              "      <th>name</th>\n",
              "      <th>company</th>\n",
              "      <th>year</th>\n",
              "      <th>Price</th>\n",
              "      <th>kms_driven</th>\n",
              "      <th>fuel_type</th>\n",
              "    </tr>\n",
              "  </thead>\n",
              "  <tbody>\n",
              "    <tr>\n",
              "      <th>0</th>\n",
              "      <td>Hyundai Santro Xing XO eRLX Euro III</td>\n",
              "      <td>Hyundai</td>\n",
              "      <td>2007</td>\n",
              "      <td>80000</td>\n",
              "      <td>45,000 kms</td>\n",
              "      <td>Petrol</td>\n",
              "    </tr>\n",
              "    <tr>\n",
              "      <th>1</th>\n",
              "      <td>Mahindra Jeep CL550 MDI</td>\n",
              "      <td>Mahindra</td>\n",
              "      <td>2006</td>\n",
              "      <td>425000</td>\n",
              "      <td>40 kms</td>\n",
              "      <td>Diesel</td>\n",
              "    </tr>\n",
              "    <tr>\n",
              "      <th>3</th>\n",
              "      <td>Hyundai Grand i10 Magna 1.2 Kappa VTVT</td>\n",
              "      <td>Hyundai</td>\n",
              "      <td>2014</td>\n",
              "      <td>325000</td>\n",
              "      <td>28,000 kms</td>\n",
              "      <td>Petrol</td>\n",
              "    </tr>\n",
              "    <tr>\n",
              "      <th>4</th>\n",
              "      <td>Ford EcoSport Titanium 1.5L TDCi</td>\n",
              "      <td>Ford</td>\n",
              "      <td>2014</td>\n",
              "      <td>575000</td>\n",
              "      <td>36,000 kms</td>\n",
              "      <td>Diesel</td>\n",
              "    </tr>\n",
              "    <tr>\n",
              "      <th>6</th>\n",
              "      <td>Ford Figo</td>\n",
              "      <td>Ford</td>\n",
              "      <td>2012</td>\n",
              "      <td>175000</td>\n",
              "      <td>41,000 kms</td>\n",
              "      <td>Diesel</td>\n",
              "    </tr>\n",
              "    <tr>\n",
              "      <th>...</th>\n",
              "      <td>...</td>\n",
              "      <td>...</td>\n",
              "      <td>...</td>\n",
              "      <td>...</td>\n",
              "      <td>...</td>\n",
              "      <td>...</td>\n",
              "    </tr>\n",
              "    <tr>\n",
              "      <th>886</th>\n",
              "      <td>Toyota Corolla Altis</td>\n",
              "      <td>Toyota</td>\n",
              "      <td>2009</td>\n",
              "      <td>300000</td>\n",
              "      <td>1,32,000 kms</td>\n",
              "      <td>Petrol</td>\n",
              "    </tr>\n",
              "    <tr>\n",
              "      <th>888</th>\n",
              "      <td>Tata Zest XM Diesel</td>\n",
              "      <td>Tata</td>\n",
              "      <td>2018</td>\n",
              "      <td>260000</td>\n",
              "      <td>27,000 kms</td>\n",
              "      <td>Diesel</td>\n",
              "    </tr>\n",
              "    <tr>\n",
              "      <th>889</th>\n",
              "      <td>Mahindra Quanto C8</td>\n",
              "      <td>Mahindra</td>\n",
              "      <td>2013</td>\n",
              "      <td>390000</td>\n",
              "      <td>40,000 kms</td>\n",
              "      <td>Diesel</td>\n",
              "    </tr>\n",
              "    <tr>\n",
              "      <th>890</th>\n",
              "      <td>Honda Amaze 1.2 E i VTEC</td>\n",
              "      <td>Honda</td>\n",
              "      <td>2014</td>\n",
              "      <td>180000</td>\n",
              "      <td>Petrol</td>\n",
              "      <td>NaN</td>\n",
              "    </tr>\n",
              "    <tr>\n",
              "      <th>891</th>\n",
              "      <td>Chevrolet Sail 1.2 LT ABS</td>\n",
              "      <td>Chevrolet</td>\n",
              "      <td>2014</td>\n",
              "      <td>160000</td>\n",
              "      <td>Petrol</td>\n",
              "      <td>NaN</td>\n",
              "    </tr>\n",
              "  </tbody>\n",
              "</table>\n",
              "<p>817 rows × 6 columns</p>\n",
              "</div>\n",
              "    <div class=\"colab-df-buttons\">\n",
              "\n",
              "  <div class=\"colab-df-container\">\n",
              "    <button class=\"colab-df-convert\" onclick=\"convertToInteractive('df-5ccaba59-7bfb-4da5-a011-5fed0e718130')\"\n",
              "            title=\"Convert this dataframe to an interactive table.\"\n",
              "            style=\"display:none;\">\n",
              "\n",
              "  <svg xmlns=\"http://www.w3.org/2000/svg\" height=\"24px\" viewBox=\"0 -960 960 960\">\n",
              "    <path d=\"M120-120v-720h720v720H120Zm60-500h600v-160H180v160Zm220 220h160v-160H400v160Zm0 220h160v-160H400v160ZM180-400h160v-160H180v160Zm440 0h160v-160H620v160ZM180-180h160v-160H180v160Zm440 0h160v-160H620v160Z\"/>\n",
              "  </svg>\n",
              "    </button>\n",
              "\n",
              "  <style>\n",
              "    .colab-df-container {\n",
              "      display:flex;\n",
              "      gap: 12px;\n",
              "    }\n",
              "\n",
              "    .colab-df-convert {\n",
              "      background-color: #E8F0FE;\n",
              "      border: none;\n",
              "      border-radius: 50%;\n",
              "      cursor: pointer;\n",
              "      display: none;\n",
              "      fill: #1967D2;\n",
              "      height: 32px;\n",
              "      padding: 0 0 0 0;\n",
              "      width: 32px;\n",
              "    }\n",
              "\n",
              "    .colab-df-convert:hover {\n",
              "      background-color: #E2EBFA;\n",
              "      box-shadow: 0px 1px 2px rgba(60, 64, 67, 0.3), 0px 1px 3px 1px rgba(60, 64, 67, 0.15);\n",
              "      fill: #174EA6;\n",
              "    }\n",
              "\n",
              "    .colab-df-buttons div {\n",
              "      margin-bottom: 4px;\n",
              "    }\n",
              "\n",
              "    [theme=dark] .colab-df-convert {\n",
              "      background-color: #3B4455;\n",
              "      fill: #D2E3FC;\n",
              "    }\n",
              "\n",
              "    [theme=dark] .colab-df-convert:hover {\n",
              "      background-color: #434B5C;\n",
              "      box-shadow: 0px 1px 3px 1px rgba(0, 0, 0, 0.15);\n",
              "      filter: drop-shadow(0px 1px 2px rgba(0, 0, 0, 0.3));\n",
              "      fill: #FFFFFF;\n",
              "    }\n",
              "  </style>\n",
              "\n",
              "    <script>\n",
              "      const buttonEl =\n",
              "        document.querySelector('#df-5ccaba59-7bfb-4da5-a011-5fed0e718130 button.colab-df-convert');\n",
              "      buttonEl.style.display =\n",
              "        google.colab.kernel.accessAllowed ? 'block' : 'none';\n",
              "\n",
              "      async function convertToInteractive(key) {\n",
              "        const element = document.querySelector('#df-5ccaba59-7bfb-4da5-a011-5fed0e718130');\n",
              "        const dataTable =\n",
              "          await google.colab.kernel.invokeFunction('convertToInteractive',\n",
              "                                                    [key], {});\n",
              "        if (!dataTable) return;\n",
              "\n",
              "        const docLinkHtml = 'Like what you see? Visit the ' +\n",
              "          '<a target=\"_blank\" href=https://colab.research.google.com/notebooks/data_table.ipynb>data table notebook</a>'\n",
              "          + ' to learn more about interactive tables.';\n",
              "        element.innerHTML = '';\n",
              "        dataTable['output_type'] = 'display_data';\n",
              "        await google.colab.output.renderOutput(dataTable, element);\n",
              "        const docLink = document.createElement('div');\n",
              "        docLink.innerHTML = docLinkHtml;\n",
              "        element.appendChild(docLink);\n",
              "      }\n",
              "    </script>\n",
              "  </div>\n",
              "\n",
              "\n",
              "<div id=\"df-6447127d-547c-40ec-b096-5e39b3758c79\">\n",
              "  <button class=\"colab-df-quickchart\" onclick=\"quickchart('df-6447127d-547c-40ec-b096-5e39b3758c79')\"\n",
              "            title=\"Suggest charts\"\n",
              "            style=\"display:none;\">\n",
              "\n",
              "<svg xmlns=\"http://www.w3.org/2000/svg\" height=\"24px\"viewBox=\"0 0 24 24\"\n",
              "     width=\"24px\">\n",
              "    <g>\n",
              "        <path d=\"M19 3H5c-1.1 0-2 .9-2 2v14c0 1.1.9 2 2 2h14c1.1 0 2-.9 2-2V5c0-1.1-.9-2-2-2zM9 17H7v-7h2v7zm4 0h-2V7h2v10zm4 0h-2v-4h2v4z\"/>\n",
              "    </g>\n",
              "</svg>\n",
              "  </button>\n",
              "\n",
              "<style>\n",
              "  .colab-df-quickchart {\n",
              "      --bg-color: #E8F0FE;\n",
              "      --fill-color: #1967D2;\n",
              "      --hover-bg-color: #E2EBFA;\n",
              "      --hover-fill-color: #174EA6;\n",
              "      --disabled-fill-color: #AAA;\n",
              "      --disabled-bg-color: #DDD;\n",
              "  }\n",
              "\n",
              "  [theme=dark] .colab-df-quickchart {\n",
              "      --bg-color: #3B4455;\n",
              "      --fill-color: #D2E3FC;\n",
              "      --hover-bg-color: #434B5C;\n",
              "      --hover-fill-color: #FFFFFF;\n",
              "      --disabled-bg-color: #3B4455;\n",
              "      --disabled-fill-color: #666;\n",
              "  }\n",
              "\n",
              "  .colab-df-quickchart {\n",
              "    background-color: var(--bg-color);\n",
              "    border: none;\n",
              "    border-radius: 50%;\n",
              "    cursor: pointer;\n",
              "    display: none;\n",
              "    fill: var(--fill-color);\n",
              "    height: 32px;\n",
              "    padding: 0;\n",
              "    width: 32px;\n",
              "  }\n",
              "\n",
              "  .colab-df-quickchart:hover {\n",
              "    background-color: var(--hover-bg-color);\n",
              "    box-shadow: 0 1px 2px rgba(60, 64, 67, 0.3), 0 1px 3px 1px rgba(60, 64, 67, 0.15);\n",
              "    fill: var(--button-hover-fill-color);\n",
              "  }\n",
              "\n",
              "  .colab-df-quickchart-complete:disabled,\n",
              "  .colab-df-quickchart-complete:disabled:hover {\n",
              "    background-color: var(--disabled-bg-color);\n",
              "    fill: var(--disabled-fill-color);\n",
              "    box-shadow: none;\n",
              "  }\n",
              "\n",
              "  .colab-df-spinner {\n",
              "    border: 2px solid var(--fill-color);\n",
              "    border-color: transparent;\n",
              "    border-bottom-color: var(--fill-color);\n",
              "    animation:\n",
              "      spin 1s steps(1) infinite;\n",
              "  }\n",
              "\n",
              "  @keyframes spin {\n",
              "    0% {\n",
              "      border-color: transparent;\n",
              "      border-bottom-color: var(--fill-color);\n",
              "      border-left-color: var(--fill-color);\n",
              "    }\n",
              "    20% {\n",
              "      border-color: transparent;\n",
              "      border-left-color: var(--fill-color);\n",
              "      border-top-color: var(--fill-color);\n",
              "    }\n",
              "    30% {\n",
              "      border-color: transparent;\n",
              "      border-left-color: var(--fill-color);\n",
              "      border-top-color: var(--fill-color);\n",
              "      border-right-color: var(--fill-color);\n",
              "    }\n",
              "    40% {\n",
              "      border-color: transparent;\n",
              "      border-right-color: var(--fill-color);\n",
              "      border-top-color: var(--fill-color);\n",
              "    }\n",
              "    60% {\n",
              "      border-color: transparent;\n",
              "      border-right-color: var(--fill-color);\n",
              "    }\n",
              "    80% {\n",
              "      border-color: transparent;\n",
              "      border-right-color: var(--fill-color);\n",
              "      border-bottom-color: var(--fill-color);\n",
              "    }\n",
              "    90% {\n",
              "      border-color: transparent;\n",
              "      border-bottom-color: var(--fill-color);\n",
              "    }\n",
              "  }\n",
              "</style>\n",
              "\n",
              "  <script>\n",
              "    async function quickchart(key) {\n",
              "      const quickchartButtonEl =\n",
              "        document.querySelector('#' + key + ' button');\n",
              "      quickchartButtonEl.disabled = true;  // To prevent multiple clicks.\n",
              "      quickchartButtonEl.classList.add('colab-df-spinner');\n",
              "      try {\n",
              "        const charts = await google.colab.kernel.invokeFunction(\n",
              "            'suggestCharts', [key], {});\n",
              "      } catch (error) {\n",
              "        console.error('Error during call to suggestCharts:', error);\n",
              "      }\n",
              "      quickchartButtonEl.classList.remove('colab-df-spinner');\n",
              "      quickchartButtonEl.classList.add('colab-df-quickchart-complete');\n",
              "    }\n",
              "    (() => {\n",
              "      let quickchartButtonEl =\n",
              "        document.querySelector('#df-6447127d-547c-40ec-b096-5e39b3758c79 button');\n",
              "      quickchartButtonEl.style.display =\n",
              "        google.colab.kernel.accessAllowed ? 'block' : 'none';\n",
              "    })();\n",
              "  </script>\n",
              "</div>\n",
              "\n",
              "  <div id=\"id_b06eaef0-707b-4dc1-b76c-976151ed4901\">\n",
              "    <style>\n",
              "      .colab-df-generate {\n",
              "        background-color: #E8F0FE;\n",
              "        border: none;\n",
              "        border-radius: 50%;\n",
              "        cursor: pointer;\n",
              "        display: none;\n",
              "        fill: #1967D2;\n",
              "        height: 32px;\n",
              "        padding: 0 0 0 0;\n",
              "        width: 32px;\n",
              "      }\n",
              "\n",
              "      .colab-df-generate:hover {\n",
              "        background-color: #E2EBFA;\n",
              "        box-shadow: 0px 1px 2px rgba(60, 64, 67, 0.3), 0px 1px 3px 1px rgba(60, 64, 67, 0.15);\n",
              "        fill: #174EA6;\n",
              "      }\n",
              "\n",
              "      [theme=dark] .colab-df-generate {\n",
              "        background-color: #3B4455;\n",
              "        fill: #D2E3FC;\n",
              "      }\n",
              "\n",
              "      [theme=dark] .colab-df-generate:hover {\n",
              "        background-color: #434B5C;\n",
              "        box-shadow: 0px 1px 3px 1px rgba(0, 0, 0, 0.15);\n",
              "        filter: drop-shadow(0px 1px 2px rgba(0, 0, 0, 0.3));\n",
              "        fill: #FFFFFF;\n",
              "      }\n",
              "    </style>\n",
              "    <button class=\"colab-df-generate\" onclick=\"generateWithVariable('car')\"\n",
              "            title=\"Generate code using this dataframe.\"\n",
              "            style=\"display:none;\">\n",
              "\n",
              "  <svg xmlns=\"http://www.w3.org/2000/svg\" height=\"24px\"viewBox=\"0 0 24 24\"\n",
              "       width=\"24px\">\n",
              "    <path d=\"M7,19H8.4L18.45,9,17,7.55,7,17.6ZM5,21V16.75L18.45,3.32a2,2,0,0,1,2.83,0l1.4,1.43a1.91,1.91,0,0,1,.58,1.4,1.91,1.91,0,0,1-.58,1.4L9.25,21ZM18.45,9,17,7.55Zm-12,3A5.31,5.31,0,0,0,4.9,8.1,5.31,5.31,0,0,0,1,6.5,5.31,5.31,0,0,0,4.9,4.9,5.31,5.31,0,0,0,6.5,1,5.31,5.31,0,0,0,8.1,4.9,5.31,5.31,0,0,0,12,6.5,5.46,5.46,0,0,0,6.5,12Z\"/>\n",
              "  </svg>\n",
              "    </button>\n",
              "    <script>\n",
              "      (() => {\n",
              "      const buttonEl =\n",
              "        document.querySelector('#id_b06eaef0-707b-4dc1-b76c-976151ed4901 button.colab-df-generate');\n",
              "      buttonEl.style.display =\n",
              "        google.colab.kernel.accessAllowed ? 'block' : 'none';\n",
              "\n",
              "      buttonEl.onclick = () => {\n",
              "        google.colab.notebook.generateWithVariable('car');\n",
              "      }\n",
              "      })();\n",
              "    </script>\n",
              "  </div>\n",
              "\n",
              "    </div>\n",
              "  </div>\n"
            ],
            "application/vnd.google.colaboratory.intrinsic+json": {
              "type": "dataframe",
              "variable_name": "car",
              "summary": "{\n  \"name\": \"car\",\n  \"rows\": 817,\n  \"fields\": [\n    {\n      \"column\": \"name\",\n      \"properties\": {\n        \"dtype\": \"string\",\n        \"num_unique_values\": 463,\n        \"samples\": [\n          \"Maruti Suzuki Maruti 800 Std \\u2013 Befo\",\n          \"Maruti Suzuki Baleno Delta 1.2\",\n          \"Maruti Suzuki SX4 ZXI MT\"\n        ],\n        \"semantic_type\": \"\",\n        \"description\": \"\"\n      }\n    },\n    {\n      \"column\": \"company\",\n      \"properties\": {\n        \"dtype\": \"category\",\n        \"num_unique_values\": 23,\n        \"samples\": [\n          \"Bmw\",\n          \"Datsun\",\n          \"Hyundai\"\n        ],\n        \"semantic_type\": \"\",\n        \"description\": \"\"\n      }\n    },\n    {\n      \"column\": \"year\",\n      \"properties\": {\n        \"dtype\": \"number\",\n        \"std\": 4,\n        \"min\": 1995,\n        \"max\": 2019,\n        \"num_unique_values\": 21,\n        \"samples\": [\n          2007,\n          2004,\n          2000\n        ],\n        \"semantic_type\": \"\",\n        \"description\": \"\"\n      }\n    },\n    {\n      \"column\": \"Price\",\n      \"properties\": {\n        \"dtype\": \"category\",\n        \"num_unique_values\": 271,\n        \"samples\": [\n          \"280000\",\n          \"355000\",\n          \"450000\"\n        ],\n        \"semantic_type\": \"\",\n        \"description\": \"\"\n      }\n    },\n    {\n      \"column\": \"kms_driven\",\n      \"properties\": {\n        \"dtype\": \"category\",\n        \"num_unique_values\": 249,\n        \"samples\": [\n          \"1,29,000 kms\",\n          \"24,530 kms\",\n          \"60 kms\"\n        ],\n        \"semantic_type\": \"\",\n        \"description\": \"\"\n      }\n    },\n    {\n      \"column\": \"fuel_type\",\n      \"properties\": {\n        \"dtype\": \"category\",\n        \"num_unique_values\": 3,\n        \"samples\": [\n          \"Petrol\",\n          \"Diesel\",\n          \"LPG\"\n        ],\n        \"semantic_type\": \"\",\n        \"description\": \"\"\n      }\n    }\n  ]\n}"
            }
          },
          "metadata": {},
          "execution_count": 20
        }
      ]
    },
    {
      "cell_type": "markdown",
      "source": [
        "hemlo\n"
      ],
      "metadata": {
        "id": "ohp6Mt3SRdOm"
      }
    },
    {
      "cell_type": "code",
      "source": [],
      "metadata": {
        "id": "PLpRNQchRhZW"
      },
      "execution_count": null,
      "outputs": []
    }
  ]
}