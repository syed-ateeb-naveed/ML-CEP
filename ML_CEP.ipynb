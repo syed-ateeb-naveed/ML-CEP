{
  "nbformat": 4,
  "nbformat_minor": 0,
  "metadata": {
    "colab": {
      "provenance": [],
      "include_colab_link": true
    },
    "kernelspec": {
      "name": "python3",
      "display_name": "Python 3"
    },
    "language_info": {
      "name": "python"
    }
  },
  "cells": [
    {
      "cell_type": "markdown",
      "metadata": {
        "id": "view-in-github",
        "colab_type": "text"
      },
      "source": [
        "<a href=\"https://colab.research.google.com/github/syed-ateeb-naveed/ML-CEP/blob/main/ML_CEP.ipynb\" target=\"_parent\"><img src=\"https://colab.research.google.com/assets/colab-badge.svg\" alt=\"Open In Colab\"/></a>"
      ]
    },
    {
      "cell_type": "markdown",
      "source": [
        "#ML CEP\n",
        "\n",
        "This is a car price prediction model made using supervised learning algorithms."
      ],
      "metadata": {
        "id": "F1c_82kDiseE"
      }
    },
    {
      "cell_type": "code",
      "source": [
        "import numpy as np\n",
        "import pandas as pd\n",
        "import matplotlib.pyplot as plt\n",
        "import seaborn as sns\n",
        "from sklearn.preprocessing import LabelEncoder\n",
        "from sklearn.preprocessing import OneHotEncoder\n",
        "from sklearn.preprocessing import MinMaxScaler\n",
        "from sklearn.compose import make_column_transformer\n",
        "from sklearn.pipeline import make_pipeline\n",
        "from sklearn.linear_model import LinearRegression\n",
        "from sklearn.model_selection import train_test_split\n",
        "from sklearn.metrics import r2_score\n",
        "from sklearn.metrics import mean_squared_error\n",
        "from sklearn.metrics import mean_absolute_error\n",
        "from sklearn.model_selection import GridSearchCV\n",
        "from sklearn.tree import DecisionTreeRegressor\n",
        "from sklearn.ensemble import RandomForestRegressor\n",
        "import seaborn as sns"
      ],
      "metadata": {
        "id": "EjLCSRBki5WF"
      },
      "execution_count": 250,
      "outputs": []
    },
    {
      "cell_type": "markdown",
      "source": [
        "##Data Collection"
      ],
      "metadata": {
        "id": "si8BqRSHXqgx"
      }
    },
    {
      "cell_type": "code",
      "source": [
        "from google.colab import drive\n",
        "drive.mount('/content/drive')"
      ],
      "metadata": {
        "id": "8DcxDB5_L6Ut",
        "outputId": "cb71611c-43ab-430c-f099-b63bc102f01b",
        "colab": {
          "base_uri": "https://localhost:8080/"
        }
      },
      "execution_count": 251,
      "outputs": [
        {
          "output_type": "stream",
          "name": "stdout",
          "text": [
            "Drive already mounted at /content/drive; to attempt to forcibly remount, call drive.mount(\"/content/drive\", force_remount=True).\n"
          ]
        }
      ]
    },
    {
      "cell_type": "code",
      "source": [
        "#Importing data as panda's DataFrame\n",
        "\n",
        "car = pd.read_csv(\"/content/drive/MyDrive/ML CEP Dataset/quikr_car.csv\")\n",
        "# car = pd.read_csv(\"/content/sample_data/quikr_car.csv\")\n",
        "car.head()"
      ],
      "metadata": {
        "colab": {
          "base_uri": "https://localhost:8080/",
          "height": 206
        },
        "id": "_qFBAPC-Wt3H",
        "outputId": "3ebd75e4-f09e-47aa-a47d-20164d64607b"
      },
      "execution_count": 252,
      "outputs": [
        {
          "output_type": "execute_result",
          "data": {
            "text/plain": [
              "                                     name   company  year          Price  \\\n",
              "0    Hyundai Santro Xing XO eRLX Euro III   Hyundai  2007         80,000   \n",
              "1                 Mahindra Jeep CL550 MDI  Mahindra  2006       4,25,000   \n",
              "2              Maruti Suzuki Alto 800 Vxi    Maruti  2018  Ask For Price   \n",
              "3  Hyundai Grand i10 Magna 1.2 Kappa VTVT   Hyundai  2014       3,25,000   \n",
              "4        Ford EcoSport Titanium 1.5L TDCi      Ford  2014       5,75,000   \n",
              "\n",
              "   kms_driven fuel_type  \n",
              "0  45,000 kms    Petrol  \n",
              "1      40 kms    Diesel  \n",
              "2  22,000 kms    Petrol  \n",
              "3  28,000 kms    Petrol  \n",
              "4  36,000 kms    Diesel  "
            ],
            "text/html": [
              "\n",
              "  <div id=\"df-e4f59f6b-9f72-4952-b212-d8c704715cc0\" class=\"colab-df-container\">\n",
              "    <div>\n",
              "<style scoped>\n",
              "    .dataframe tbody tr th:only-of-type {\n",
              "        vertical-align: middle;\n",
              "    }\n",
              "\n",
              "    .dataframe tbody tr th {\n",
              "        vertical-align: top;\n",
              "    }\n",
              "\n",
              "    .dataframe thead th {\n",
              "        text-align: right;\n",
              "    }\n",
              "</style>\n",
              "<table border=\"1\" class=\"dataframe\">\n",
              "  <thead>\n",
              "    <tr style=\"text-align: right;\">\n",
              "      <th></th>\n",
              "      <th>name</th>\n",
              "      <th>company</th>\n",
              "      <th>year</th>\n",
              "      <th>Price</th>\n",
              "      <th>kms_driven</th>\n",
              "      <th>fuel_type</th>\n",
              "    </tr>\n",
              "  </thead>\n",
              "  <tbody>\n",
              "    <tr>\n",
              "      <th>0</th>\n",
              "      <td>Hyundai Santro Xing XO eRLX Euro III</td>\n",
              "      <td>Hyundai</td>\n",
              "      <td>2007</td>\n",
              "      <td>80,000</td>\n",
              "      <td>45,000 kms</td>\n",
              "      <td>Petrol</td>\n",
              "    </tr>\n",
              "    <tr>\n",
              "      <th>1</th>\n",
              "      <td>Mahindra Jeep CL550 MDI</td>\n",
              "      <td>Mahindra</td>\n",
              "      <td>2006</td>\n",
              "      <td>4,25,000</td>\n",
              "      <td>40 kms</td>\n",
              "      <td>Diesel</td>\n",
              "    </tr>\n",
              "    <tr>\n",
              "      <th>2</th>\n",
              "      <td>Maruti Suzuki Alto 800 Vxi</td>\n",
              "      <td>Maruti</td>\n",
              "      <td>2018</td>\n",
              "      <td>Ask For Price</td>\n",
              "      <td>22,000 kms</td>\n",
              "      <td>Petrol</td>\n",
              "    </tr>\n",
              "    <tr>\n",
              "      <th>3</th>\n",
              "      <td>Hyundai Grand i10 Magna 1.2 Kappa VTVT</td>\n",
              "      <td>Hyundai</td>\n",
              "      <td>2014</td>\n",
              "      <td>3,25,000</td>\n",
              "      <td>28,000 kms</td>\n",
              "      <td>Petrol</td>\n",
              "    </tr>\n",
              "    <tr>\n",
              "      <th>4</th>\n",
              "      <td>Ford EcoSport Titanium 1.5L TDCi</td>\n",
              "      <td>Ford</td>\n",
              "      <td>2014</td>\n",
              "      <td>5,75,000</td>\n",
              "      <td>36,000 kms</td>\n",
              "      <td>Diesel</td>\n",
              "    </tr>\n",
              "  </tbody>\n",
              "</table>\n",
              "</div>\n",
              "    <div class=\"colab-df-buttons\">\n",
              "\n",
              "  <div class=\"colab-df-container\">\n",
              "    <button class=\"colab-df-convert\" onclick=\"convertToInteractive('df-e4f59f6b-9f72-4952-b212-d8c704715cc0')\"\n",
              "            title=\"Convert this dataframe to an interactive table.\"\n",
              "            style=\"display:none;\">\n",
              "\n",
              "  <svg xmlns=\"http://www.w3.org/2000/svg\" height=\"24px\" viewBox=\"0 -960 960 960\">\n",
              "    <path d=\"M120-120v-720h720v720H120Zm60-500h600v-160H180v160Zm220 220h160v-160H400v160Zm0 220h160v-160H400v160ZM180-400h160v-160H180v160Zm440 0h160v-160H620v160ZM180-180h160v-160H180v160Zm440 0h160v-160H620v160Z\"/>\n",
              "  </svg>\n",
              "    </button>\n",
              "\n",
              "  <style>\n",
              "    .colab-df-container {\n",
              "      display:flex;\n",
              "      gap: 12px;\n",
              "    }\n",
              "\n",
              "    .colab-df-convert {\n",
              "      background-color: #E8F0FE;\n",
              "      border: none;\n",
              "      border-radius: 50%;\n",
              "      cursor: pointer;\n",
              "      display: none;\n",
              "      fill: #1967D2;\n",
              "      height: 32px;\n",
              "      padding: 0 0 0 0;\n",
              "      width: 32px;\n",
              "    }\n",
              "\n",
              "    .colab-df-convert:hover {\n",
              "      background-color: #E2EBFA;\n",
              "      box-shadow: 0px 1px 2px rgba(60, 64, 67, 0.3), 0px 1px 3px 1px rgba(60, 64, 67, 0.15);\n",
              "      fill: #174EA6;\n",
              "    }\n",
              "\n",
              "    .colab-df-buttons div {\n",
              "      margin-bottom: 4px;\n",
              "    }\n",
              "\n",
              "    [theme=dark] .colab-df-convert {\n",
              "      background-color: #3B4455;\n",
              "      fill: #D2E3FC;\n",
              "    }\n",
              "\n",
              "    [theme=dark] .colab-df-convert:hover {\n",
              "      background-color: #434B5C;\n",
              "      box-shadow: 0px 1px 3px 1px rgba(0, 0, 0, 0.15);\n",
              "      filter: drop-shadow(0px 1px 2px rgba(0, 0, 0, 0.3));\n",
              "      fill: #FFFFFF;\n",
              "    }\n",
              "  </style>\n",
              "\n",
              "    <script>\n",
              "      const buttonEl =\n",
              "        document.querySelector('#df-e4f59f6b-9f72-4952-b212-d8c704715cc0 button.colab-df-convert');\n",
              "      buttonEl.style.display =\n",
              "        google.colab.kernel.accessAllowed ? 'block' : 'none';\n",
              "\n",
              "      async function convertToInteractive(key) {\n",
              "        const element = document.querySelector('#df-e4f59f6b-9f72-4952-b212-d8c704715cc0');\n",
              "        const dataTable =\n",
              "          await google.colab.kernel.invokeFunction('convertToInteractive',\n",
              "                                                    [key], {});\n",
              "        if (!dataTable) return;\n",
              "\n",
              "        const docLinkHtml = 'Like what you see? Visit the ' +\n",
              "          '<a target=\"_blank\" href=https://colab.research.google.com/notebooks/data_table.ipynb>data table notebook</a>'\n",
              "          + ' to learn more about interactive tables.';\n",
              "        element.innerHTML = '';\n",
              "        dataTable['output_type'] = 'display_data';\n",
              "        await google.colab.output.renderOutput(dataTable, element);\n",
              "        const docLink = document.createElement('div');\n",
              "        docLink.innerHTML = docLinkHtml;\n",
              "        element.appendChild(docLink);\n",
              "      }\n",
              "    </script>\n",
              "  </div>\n",
              "\n",
              "\n",
              "<div id=\"df-66dae853-55cc-4b34-bb6d-09a6d27c4803\">\n",
              "  <button class=\"colab-df-quickchart\" onclick=\"quickchart('df-66dae853-55cc-4b34-bb6d-09a6d27c4803')\"\n",
              "            title=\"Suggest charts\"\n",
              "            style=\"display:none;\">\n",
              "\n",
              "<svg xmlns=\"http://www.w3.org/2000/svg\" height=\"24px\"viewBox=\"0 0 24 24\"\n",
              "     width=\"24px\">\n",
              "    <g>\n",
              "        <path d=\"M19 3H5c-1.1 0-2 .9-2 2v14c0 1.1.9 2 2 2h14c1.1 0 2-.9 2-2V5c0-1.1-.9-2-2-2zM9 17H7v-7h2v7zm4 0h-2V7h2v10zm4 0h-2v-4h2v4z\"/>\n",
              "    </g>\n",
              "</svg>\n",
              "  </button>\n",
              "\n",
              "<style>\n",
              "  .colab-df-quickchart {\n",
              "      --bg-color: #E8F0FE;\n",
              "      --fill-color: #1967D2;\n",
              "      --hover-bg-color: #E2EBFA;\n",
              "      --hover-fill-color: #174EA6;\n",
              "      --disabled-fill-color: #AAA;\n",
              "      --disabled-bg-color: #DDD;\n",
              "  }\n",
              "\n",
              "  [theme=dark] .colab-df-quickchart {\n",
              "      --bg-color: #3B4455;\n",
              "      --fill-color: #D2E3FC;\n",
              "      --hover-bg-color: #434B5C;\n",
              "      --hover-fill-color: #FFFFFF;\n",
              "      --disabled-bg-color: #3B4455;\n",
              "      --disabled-fill-color: #666;\n",
              "  }\n",
              "\n",
              "  .colab-df-quickchart {\n",
              "    background-color: var(--bg-color);\n",
              "    border: none;\n",
              "    border-radius: 50%;\n",
              "    cursor: pointer;\n",
              "    display: none;\n",
              "    fill: var(--fill-color);\n",
              "    height: 32px;\n",
              "    padding: 0;\n",
              "    width: 32px;\n",
              "  }\n",
              "\n",
              "  .colab-df-quickchart:hover {\n",
              "    background-color: var(--hover-bg-color);\n",
              "    box-shadow: 0 1px 2px rgba(60, 64, 67, 0.3), 0 1px 3px 1px rgba(60, 64, 67, 0.15);\n",
              "    fill: var(--button-hover-fill-color);\n",
              "  }\n",
              "\n",
              "  .colab-df-quickchart-complete:disabled,\n",
              "  .colab-df-quickchart-complete:disabled:hover {\n",
              "    background-color: var(--disabled-bg-color);\n",
              "    fill: var(--disabled-fill-color);\n",
              "    box-shadow: none;\n",
              "  }\n",
              "\n",
              "  .colab-df-spinner {\n",
              "    border: 2px solid var(--fill-color);\n",
              "    border-color: transparent;\n",
              "    border-bottom-color: var(--fill-color);\n",
              "    animation:\n",
              "      spin 1s steps(1) infinite;\n",
              "  }\n",
              "\n",
              "  @keyframes spin {\n",
              "    0% {\n",
              "      border-color: transparent;\n",
              "      border-bottom-color: var(--fill-color);\n",
              "      border-left-color: var(--fill-color);\n",
              "    }\n",
              "    20% {\n",
              "      border-color: transparent;\n",
              "      border-left-color: var(--fill-color);\n",
              "      border-top-color: var(--fill-color);\n",
              "    }\n",
              "    30% {\n",
              "      border-color: transparent;\n",
              "      border-left-color: var(--fill-color);\n",
              "      border-top-color: var(--fill-color);\n",
              "      border-right-color: var(--fill-color);\n",
              "    }\n",
              "    40% {\n",
              "      border-color: transparent;\n",
              "      border-right-color: var(--fill-color);\n",
              "      border-top-color: var(--fill-color);\n",
              "    }\n",
              "    60% {\n",
              "      border-color: transparent;\n",
              "      border-right-color: var(--fill-color);\n",
              "    }\n",
              "    80% {\n",
              "      border-color: transparent;\n",
              "      border-right-color: var(--fill-color);\n",
              "      border-bottom-color: var(--fill-color);\n",
              "    }\n",
              "    90% {\n",
              "      border-color: transparent;\n",
              "      border-bottom-color: var(--fill-color);\n",
              "    }\n",
              "  }\n",
              "</style>\n",
              "\n",
              "  <script>\n",
              "    async function quickchart(key) {\n",
              "      const quickchartButtonEl =\n",
              "        document.querySelector('#' + key + ' button');\n",
              "      quickchartButtonEl.disabled = true;  // To prevent multiple clicks.\n",
              "      quickchartButtonEl.classList.add('colab-df-spinner');\n",
              "      try {\n",
              "        const charts = await google.colab.kernel.invokeFunction(\n",
              "            'suggestCharts', [key], {});\n",
              "      } catch (error) {\n",
              "        console.error('Error during call to suggestCharts:', error);\n",
              "      }\n",
              "      quickchartButtonEl.classList.remove('colab-df-spinner');\n",
              "      quickchartButtonEl.classList.add('colab-df-quickchart-complete');\n",
              "    }\n",
              "    (() => {\n",
              "      let quickchartButtonEl =\n",
              "        document.querySelector('#df-66dae853-55cc-4b34-bb6d-09a6d27c4803 button');\n",
              "      quickchartButtonEl.style.display =\n",
              "        google.colab.kernel.accessAllowed ? 'block' : 'none';\n",
              "    })();\n",
              "  </script>\n",
              "</div>\n",
              "\n",
              "    </div>\n",
              "  </div>\n"
            ],
            "application/vnd.google.colaboratory.intrinsic+json": {
              "type": "dataframe",
              "variable_name": "car",
              "summary": "{\n  \"name\": \"car\",\n  \"rows\": 892,\n  \"fields\": [\n    {\n      \"column\": \"name\",\n      \"properties\": {\n        \"dtype\": \"string\",\n        \"num_unique_values\": 525,\n        \"samples\": [\n          \"Maruti Suzuki Ritz GENUS VXI\",\n          \"Toyota Innova 2.0 G4\",\n          \"Hyundai Eon\"\n        ],\n        \"semantic_type\": \"\",\n        \"description\": \"\"\n      }\n    },\n    {\n      \"column\": \"company\",\n      \"properties\": {\n        \"dtype\": \"category\",\n        \"num_unique_values\": 48,\n        \"samples\": [\n          \"URJENT\",\n          \"7\",\n          \"selling\"\n        ],\n        \"semantic_type\": \"\",\n        \"description\": \"\"\n      }\n    },\n    {\n      \"column\": \"year\",\n      \"properties\": {\n        \"dtype\": \"category\",\n        \"num_unique_values\": 61,\n        \"samples\": [\n          \"2007\",\n          \"2012\",\n          \"n...\"\n        ],\n        \"semantic_type\": \"\",\n        \"description\": \"\"\n      }\n    },\n    {\n      \"column\": \"Price\",\n      \"properties\": {\n        \"dtype\": \"category\",\n        \"num_unique_values\": 274,\n        \"samples\": [\n          \"4,89,999\",\n          \"2,39,999\",\n          \"1,40,000\"\n        ],\n        \"semantic_type\": \"\",\n        \"description\": \"\"\n      }\n    },\n    {\n      \"column\": \"kms_driven\",\n      \"properties\": {\n        \"dtype\": \"category\",\n        \"num_unique_values\": 258,\n        \"samples\": [\n          \"24,330 kms\",\n          \"50,000 kms\",\n          \"60,000 kms\"\n        ],\n        \"semantic_type\": \"\",\n        \"description\": \"\"\n      }\n    },\n    {\n      \"column\": \"fuel_type\",\n      \"properties\": {\n        \"dtype\": \"category\",\n        \"num_unique_values\": 3,\n        \"samples\": [\n          \"Petrol\",\n          \"Diesel\",\n          \"LPG\"\n        ],\n        \"semantic_type\": \"\",\n        \"description\": \"\"\n      }\n    }\n  ]\n}"
            }
          },
          "metadata": {},
          "execution_count": 252
        }
      ]
    },
    {
      "cell_type": "code",
      "source": [
        "car.shape"
      ],
      "metadata": {
        "colab": {
          "base_uri": "https://localhost:8080/"
        },
        "id": "9OJWLnKKZafQ",
        "outputId": "b2447aa9-e215-456f-b180-e678c4770a21"
      },
      "execution_count": 253,
      "outputs": [
        {
          "output_type": "execute_result",
          "data": {
            "text/plain": [
              "(892, 6)"
            ]
          },
          "metadata": {},
          "execution_count": 253
        }
      ]
    },
    {
      "cell_type": "code",
      "source": [
        "car.info()"
      ],
      "metadata": {
        "colab": {
          "base_uri": "https://localhost:8080/"
        },
        "id": "Ck0qn6VDZmkP",
        "outputId": "56da296b-b84f-45d2-c570-8bdf79e48fd1"
      },
      "execution_count": 254,
      "outputs": [
        {
          "output_type": "stream",
          "name": "stdout",
          "text": [
            "<class 'pandas.core.frame.DataFrame'>\n",
            "RangeIndex: 892 entries, 0 to 891\n",
            "Data columns (total 6 columns):\n",
            " #   Column      Non-Null Count  Dtype \n",
            "---  ------      --------------  ----- \n",
            " 0   name        892 non-null    object\n",
            " 1   company     892 non-null    object\n",
            " 2   year        892 non-null    object\n",
            " 3   Price       892 non-null    object\n",
            " 4   kms_driven  840 non-null    object\n",
            " 5   fuel_type   837 non-null    object\n",
            "dtypes: object(6)\n",
            "memory usage: 41.9+ KB\n"
          ]
        }
      ]
    },
    {
      "cell_type": "markdown",
      "source": [
        "##Data Preprocessing"
      ],
      "metadata": {
        "id": "WXrDiEL6dnYx"
      }
    },
    {
      "cell_type": "markdown",
      "source": [
        "###Company Column"
      ],
      "metadata": {
        "id": "R6Y9Ws2spLrW"
      }
    },
    {
      "cell_type": "code",
      "source": [
        "car[\"company\"].unique()"
      ],
      "metadata": {
        "colab": {
          "base_uri": "https://localhost:8080/"
        },
        "id": "s31-9NBVZ1AG",
        "outputId": "6a6f0d49-c7fa-4ede-cb16-82e37eca7447"
      },
      "execution_count": 255,
      "outputs": [
        {
          "output_type": "execute_result",
          "data": {
            "text/plain": [
              "array(['Hyundai', 'Mahindra', 'Maruti', 'Ford', 'Skoda', 'Audi', 'Toyota',\n",
              "       'Renault', 'Honda', 'Datsun', 'Mitsubishi', 'Tata', 'Volkswagen',\n",
              "       'I', 'Chevrolet', 'Mini', 'BMW', 'Nissan', 'Hindustan', 'Fiat',\n",
              "       'Commercial', 'MARUTI', 'Force', 'Mercedes', 'Land', 'Yamaha',\n",
              "       'selling', 'URJENT', 'Swift', 'Used', 'Jaguar', 'Jeep', 'tata',\n",
              "       'Sale', 'very', 'Volvo', 'i', '2012', 'Well', 'all', '7', '9',\n",
              "       'scratch', 'urgent', 'sell', 'TATA', 'Any', 'Tara'], dtype=object)"
            ]
          },
          "metadata": {},
          "execution_count": 255
        }
      ]
    },
    {
      "cell_type": "markdown",
      "source": [
        "Inconsistent and invalid company names"
      ],
      "metadata": {
        "id": "PGNQs4gLdxu2"
      }
    },
    {
      "cell_type": "code",
      "source": [
        "#Capitalizing first letter of all company names\n",
        "car[\"company\"] = car[\"company\"].str.lower()\n",
        "car[\"company\"] = car[\"company\"].str.capitalize()\n",
        "car[\"company\"].unique()"
      ],
      "metadata": {
        "colab": {
          "base_uri": "https://localhost:8080/"
        },
        "id": "Yxz5EqPKbY7B",
        "outputId": "1a8b6841-b10d-4dbb-da91-d8f2aa5e3722"
      },
      "execution_count": 256,
      "outputs": [
        {
          "output_type": "execute_result",
          "data": {
            "text/plain": [
              "array(['Hyundai', 'Mahindra', 'Maruti', 'Ford', 'Skoda', 'Audi', 'Toyota',\n",
              "       'Renault', 'Honda', 'Datsun', 'Mitsubishi', 'Tata', 'Volkswagen',\n",
              "       'I', 'Chevrolet', 'Mini', 'Bmw', 'Nissan', 'Hindustan', 'Fiat',\n",
              "       'Commercial', 'Force', 'Mercedes', 'Land', 'Yamaha', 'Selling',\n",
              "       'Urjent', 'Swift', 'Used', 'Jaguar', 'Jeep', 'Sale', 'Very',\n",
              "       'Volvo', '2012', 'Well', 'All', '7', '9', 'Scratch', 'Urgent',\n",
              "       'Sell', 'Any', 'Tara'], dtype=object)"
            ]
          },
          "metadata": {},
          "execution_count": 256
        }
      ]
    },
    {
      "cell_type": "code",
      "source": [
        "#Filtering invalid company names\n",
        "invalid_companies = ['Any', 'Sell', 'Sale', 'Used', 'Scratch', 'Very', 'Urjent', 'Urgent', 'Land', 'Jeep', 'Commercial', 'Selling', '2012', 'Well', 'All', '7', '9']\n",
        "car = car[~car['company'].isin(invalid_companies)]\n"
      ],
      "metadata": {
        "id": "7GaiVMrMbwJi"
      },
      "execution_count": 257,
      "outputs": []
    },
    {
      "cell_type": "code",
      "source": [
        "car[\"company\"].unique()"
      ],
      "metadata": {
        "colab": {
          "base_uri": "https://localhost:8080/"
        },
        "id": "CUs1z2l0pSn7",
        "outputId": "00b7f9bc-dd0b-41f7-bbe7-fb1c7999ccfe"
      },
      "execution_count": 258,
      "outputs": [
        {
          "output_type": "execute_result",
          "data": {
            "text/plain": [
              "array(['Hyundai', 'Mahindra', 'Maruti', 'Ford', 'Skoda', 'Audi', 'Toyota',\n",
              "       'Renault', 'Honda', 'Datsun', 'Mitsubishi', 'Tata', 'Volkswagen',\n",
              "       'I', 'Chevrolet', 'Mini', 'Bmw', 'Nissan', 'Hindustan', 'Fiat',\n",
              "       'Force', 'Mercedes', 'Yamaha', 'Swift', 'Jaguar', 'Volvo', 'Tara'],\n",
              "      dtype=object)"
            ]
          },
          "metadata": {},
          "execution_count": 258
        }
      ]
    },
    {
      "cell_type": "markdown",
      "source": [
        "###Year Column"
      ],
      "metadata": {
        "id": "ZoIlIlJjpU0X"
      }
    },
    {
      "cell_type": "code",
      "source": [
        "car['year'].unique()"
      ],
      "metadata": {
        "colab": {
          "base_uri": "https://localhost:8080/"
        },
        "id": "4a9b74vIhOiU",
        "outputId": "b3657b8c-8ac9-4015-8f30-1bf497aced79"
      },
      "execution_count": 259,
      "outputs": [
        {
          "output_type": "execute_result",
          "data": {
            "text/plain": [
              "array(['2007', '2006', '2018', '2014', '2015', '2012', '2013', '2016',\n",
              "       '2010', '2017', '2008', '2011', '2019', '2009', '2005', '2000',\n",
              "       '150k', 'TOUR', '2003', 'r 15', '2004', '/-Rs', 'sale', '1995',\n",
              "       'ara)', '2002', '2001', 'tion', 'odel', '2 bs', 'Eon', 'emi',\n",
              "       'car', 'o...', 'd...', 'SALE', 'digo', 'e...', 'cent', 'cab',\n",
              "       't xe', 'EV2', 'zest'], dtype=object)"
            ]
          },
          "metadata": {},
          "execution_count": 259
        }
      ]
    },
    {
      "cell_type": "markdown",
      "source": [
        "Year column contains non-numeric values"
      ],
      "metadata": {
        "id": "qHvi6MO1hkc6"
      }
    },
    {
      "cell_type": "code",
      "source": [
        "#Removing non-numeric values\n",
        "car = car[car['year'].str.isnumeric()]\n",
        "car[\"year\"].unique()"
      ],
      "metadata": {
        "colab": {
          "base_uri": "https://localhost:8080/"
        },
        "id": "a43UIT8XkfMF",
        "outputId": "e1548759-3df3-4a81-a772-53bff5d35531"
      },
      "execution_count": 260,
      "outputs": [
        {
          "output_type": "execute_result",
          "data": {
            "text/plain": [
              "array(['2007', '2006', '2018', '2014', '2015', '2012', '2013', '2016',\n",
              "       '2010', '2017', '2008', '2011', '2019', '2009', '2005', '2000',\n",
              "       '2003', '2004', '1995', '2002', '2001'], dtype=object)"
            ]
          },
          "metadata": {},
          "execution_count": 260
        }
      ]
    },
    {
      "cell_type": "code",
      "source": [
        "#Converting to type int\n",
        "car[\"year\"] = car[\"year\"].astype(int)\n",
        "car[\"year\"].unique()"
      ],
      "metadata": {
        "colab": {
          "base_uri": "https://localhost:8080/"
        },
        "id": "BdHc7RS-krAA",
        "outputId": "c8225692-fc27-45cb-c3d9-07f9e6c28858"
      },
      "execution_count": 261,
      "outputs": [
        {
          "output_type": "execute_result",
          "data": {
            "text/plain": [
              "array([2007, 2006, 2018, 2014, 2015, 2012, 2013, 2016, 2010, 2017, 2008,\n",
              "       2011, 2019, 2009, 2005, 2000, 2003, 2004, 1995, 2002, 2001])"
            ]
          },
          "metadata": {},
          "execution_count": 261
        }
      ]
    },
    {
      "cell_type": "code",
      "source": [
        "car[\"year\"]"
      ],
      "metadata": {
        "colab": {
          "base_uri": "https://localhost:8080/"
        },
        "id": "jw5VRndKpZvJ",
        "outputId": "4524eea4-d240-46dc-d5a4-27d21a52e61f"
      },
      "execution_count": 262,
      "outputs": [
        {
          "output_type": "execute_result",
          "data": {
            "text/plain": [
              "0      2007\n",
              "1      2006\n",
              "2      2018\n",
              "3      2014\n",
              "4      2014\n",
              "       ... \n",
              "886    2009\n",
              "888    2018\n",
              "889    2013\n",
              "890    2014\n",
              "891    2014\n",
              "Name: year, Length: 840, dtype: int64"
            ]
          },
          "metadata": {},
          "execution_count": 262
        }
      ]
    },
    {
      "cell_type": "markdown",
      "source": [
        "###Price Column"
      ],
      "metadata": {
        "id": "Scz6ovAFpgtK"
      }
    },
    {
      "cell_type": "code",
      "source": [
        "car[\"Price\"].unique()"
      ],
      "metadata": {
        "colab": {
          "base_uri": "https://localhost:8080/"
        },
        "id": "NLI_0ohblHZr",
        "outputId": "84aebdde-63b7-418f-f653-c32f2747482e"
      },
      "execution_count": 263,
      "outputs": [
        {
          "output_type": "execute_result",
          "data": {
            "text/plain": [
              "array(['80,000', '4,25,000', 'Ask For Price', '3,25,000', '5,75,000',\n",
              "       '1,75,000', '1,90,000', '8,30,000', '2,50,000', '1,82,000',\n",
              "       '3,15,000', '4,15,000', '3,20,000', '10,00,000', '5,00,000',\n",
              "       '3,50,000', '1,60,000', '3,10,000', '75,000', '1,00,000',\n",
              "       '2,90,000', '95,000', '1,80,000', '3,85,000', '1,05,000',\n",
              "       '6,50,000', '6,89,999', '4,48,000', '5,49,000', '5,01,000',\n",
              "       '4,89,999', '2,80,000', '3,49,999', '2,84,999', '3,45,000',\n",
              "       '4,99,999', '2,35,000', '2,49,999', '14,75,000', '3,95,000',\n",
              "       '2,20,000', '1,70,000', '85,000', '2,00,000', '5,70,000',\n",
              "       '1,10,000', '4,48,999', '18,91,111', '1,59,500', '3,44,999',\n",
              "       '4,49,999', '8,65,000', '6,99,000', '3,75,000', '2,24,999',\n",
              "       '12,00,000', '1,95,000', '3,51,000', '2,40,000', '90,000',\n",
              "       '1,55,000', '6,00,000', '1,89,500', '2,10,000', '3,90,000',\n",
              "       '1,35,000', '16,00,000', '7,01,000', '2,65,000', '5,25,000',\n",
              "       '3,72,000', '6,35,000', '5,50,000', '4,85,000', '3,29,500',\n",
              "       '2,51,111', '5,69,999', '69,999', '2,99,999', '3,99,999',\n",
              "       '4,50,000', '2,70,000', '1,58,400', '1,79,000', '1,25,000',\n",
              "       '2,99,000', '1,50,000', '2,75,000', '2,85,000', '3,40,000',\n",
              "       '70,000', '2,89,999', '8,49,999', '7,49,999', '2,74,999',\n",
              "       '9,84,999', '5,99,999', '2,44,999', '4,74,999', '2,45,000',\n",
              "       '1,69,500', '3,70,000', '1,68,000', '1,45,000', '98,500',\n",
              "       '2,09,000', '1,85,000', '9,00,000', '6,99,999', '1,99,999',\n",
              "       '5,44,999', '1,99,000', '5,40,000', '49,000', '7,00,000', '55,000',\n",
              "       '8,95,000', '3,55,000', '5,65,000', '3,65,000', '40,000',\n",
              "       '4,00,000', '3,30,000', '5,80,000', '3,79,000', '2,19,000',\n",
              "       '5,19,000', '7,30,000', '20,00,000', '14,00,000', '3,11,000',\n",
              "       '8,55,000', '5,35,000', '1,78,000', '3,00,000', '2,55,000',\n",
              "       '5,49,999', '3,80,000', '57,000', '4,10,000', '2,25,000',\n",
              "       '1,20,000', '59,000', '5,99,000', '6,75,000', '72,500', '6,10,000',\n",
              "       '2,30,000', '5,20,000', '5,24,999', '4,24,999', '6,44,999',\n",
              "       '5,84,999', '7,99,999', '4,44,999', '6,49,999', '9,44,999',\n",
              "       '5,74,999', '3,74,999', '1,30,000', '4,01,000', '13,50,000',\n",
              "       '1,74,999', '2,39,999', '99,999', '3,24,999', '10,74,999',\n",
              "       '11,30,000', '1,49,000', '7,70,000', '30,000', '3,35,000',\n",
              "       '3,99,000', '65,000', '1,69,999', '1,65,000', '5,60,000',\n",
              "       '9,50,000', '7,15,000', '45,000', '9,40,000', '1,55,555',\n",
              "       '15,00,000', '4,95,000', '8,00,000', '12,99,000', '5,30,000',\n",
              "       '14,99,000', '32,000', '4,05,000', '7,60,000', '7,50,000',\n",
              "       '4,19,000', '1,40,000', '15,40,000', '1,23,000', '4,98,000',\n",
              "       '4,80,000', '4,88,000', '15,25,000', '5,48,900', '7,25,000',\n",
              "       '99,000', '52,000', '28,00,000', '4,99,000', '3,81,000',\n",
              "       '2,78,000', '6,90,000', '2,60,000', '90,001', '1,15,000',\n",
              "       '15,99,000', '1,59,000', '51,999', '2,15,000', '35,000',\n",
              "       '11,50,000', '2,69,000', '60,000', '4,30,000', '85,00,003',\n",
              "       '4,01,919', '4,90,000', '4,24,000', '2,05,000', '5,49,900',\n",
              "       '4,35,000', '1,89,700', '3,89,700', '3,60,000', '2,95,000',\n",
              "       '1,14,990', '10,65,000', '4,70,000', '48,000', '1,88,000',\n",
              "       '4,65,000', '1,79,999', '21,90,000', '23,90,000', '10,75,000',\n",
              "       '4,75,000', '10,25,000', '6,15,000', '19,00,000', '14,90,000',\n",
              "       '15,10,000', '18,50,000', '7,90,000', '17,25,000', '12,25,000',\n",
              "       '68,000', '9,70,000', '31,00,000', '8,99,000', '88,000', '53,000',\n",
              "       '5,68,500', '71,000', '5,90,000', '7,95,000', '42,000', '1,89,000',\n",
              "       '1,62,000', '35,999', '29,00,000', '39,999', '50,500', '5,10,000',\n",
              "       '8,60,000', '5,00,001'], dtype=object)"
            ]
          },
          "metadata": {},
          "execution_count": 263
        }
      ]
    },
    {
      "cell_type": "markdown",
      "source": [
        "Price values are in strings and have commas in them. Third row has the value 'Ask for Price'."
      ],
      "metadata": {
        "id": "-gx9akBNlgMm"
      }
    },
    {
      "cell_type": "code",
      "source": [
        "#Removing commas\n",
        "car['Price'] = car['Price'].str.replace(',', '')"
      ],
      "metadata": {
        "id": "z8vOhT5glkVN"
      },
      "execution_count": 264,
      "outputs": []
    },
    {
      "cell_type": "code",
      "source": [
        "#Getting rid from 'Ask For Price' values\n",
        "car=car[car['Price']!='Ask For Price']"
      ],
      "metadata": {
        "id": "i1AdHOdylp1f"
      },
      "execution_count": 265,
      "outputs": []
    },
    {
      "cell_type": "code",
      "source": [
        "#Converting to type int\n",
        "car['Price'] = car['Price'].astype(int)\n"
      ],
      "metadata": {
        "id": "K4XKY9xNmNUI"
      },
      "execution_count": 266,
      "outputs": []
    },
    {
      "cell_type": "code",
      "source": [
        "car['Price']"
      ],
      "metadata": {
        "colab": {
          "base_uri": "https://localhost:8080/"
        },
        "id": "G5sWR8_hp2AK",
        "outputId": "9ca319be-898d-4226-e22e-36d4bf2c7f92"
      },
      "execution_count": 267,
      "outputs": [
        {
          "output_type": "execute_result",
          "data": {
            "text/plain": [
              "0       80000\n",
              "1      425000\n",
              "3      325000\n",
              "4      575000\n",
              "6      175000\n",
              "        ...  \n",
              "886    300000\n",
              "888    260000\n",
              "889    390000\n",
              "890    180000\n",
              "891    160000\n",
              "Name: Price, Length: 817, dtype: int64"
            ]
          },
          "metadata": {},
          "execution_count": 267
        }
      ]
    },
    {
      "cell_type": "code",
      "source": [
        "car[\"Price\"].unique()"
      ],
      "metadata": {
        "colab": {
          "base_uri": "https://localhost:8080/"
        },
        "id": "mIe7ltmxmtUM",
        "outputId": "2e479418-e1dc-418a-d7c5-70a2191546c2"
      },
      "execution_count": 268,
      "outputs": [
        {
          "output_type": "execute_result",
          "data": {
            "text/plain": [
              "array([  80000,  425000,  325000,  575000,  175000,  190000,  830000,\n",
              "        250000,  182000,  315000,  415000,  320000, 1000000,  500000,\n",
              "        350000,  160000,  310000,   75000,  100000,  290000,   95000,\n",
              "        180000,  385000,  105000,  650000,  689999,  448000,  549000,\n",
              "        501000,  489999,  280000,  349999,  284999,  345000,  499999,\n",
              "        235000,  249999, 1475000,  395000,  220000,  170000,   85000,\n",
              "        200000,  570000,  110000,  448999, 1891111,  159500,  344999,\n",
              "        449999,  865000,  699000,  375000,  224999, 1200000,  195000,\n",
              "        351000,  240000,   90000,  155000,  600000,  189500,  210000,\n",
              "        390000,  135000, 1600000,  701000,  265000,  525000,  372000,\n",
              "        635000,  550000,  485000,  329500,  251111,  569999,   69999,\n",
              "        299999,  399999,  450000,  270000,  158400,  179000,  125000,\n",
              "        299000,  150000,  275000,  285000,  340000,   70000,  289999,\n",
              "        849999,  749999,  274999,  984999,  599999,  244999,  474999,\n",
              "        245000,  169500,  370000,  168000,  145000,   98500,  209000,\n",
              "        185000,  900000,  699999,  199999,  544999,  199000,  540000,\n",
              "         49000,  700000,   55000,  895000,  355000,  565000,  365000,\n",
              "         40000,  400000,  330000,  580000,  379000,  219000,  519000,\n",
              "        730000, 2000000, 1400000,  311000,  855000,  535000,  178000,\n",
              "        300000,  255000,  549999,  380000,   57000,  410000,  225000,\n",
              "        120000,   59000,  599000,  675000,   72500,  610000,  230000,\n",
              "        520000,  524999,  424999,  644999,  584999,  799999,  444999,\n",
              "        649999,  944999,  574999,  374999,  130000,  401000, 1350000,\n",
              "        174999,  239999,   99999,  324999, 1074999, 1130000,  149000,\n",
              "        770000,   30000,  335000,  399000,   65000,  169999,  165000,\n",
              "        560000,  950000,  715000,   45000,  940000,  155555, 1500000,\n",
              "        495000,  800000, 1299000,  530000, 1499000,   32000,  405000,\n",
              "        760000,  750000,  419000,  140000, 1540000,  123000,  498000,\n",
              "        480000,  488000, 1525000,  548900,  725000,   99000,   52000,\n",
              "       2800000,  499000,  381000,  278000,  690000,  260000,   90001,\n",
              "        115000, 1599000,  159000,   51999,  215000,   35000, 1150000,\n",
              "        269000,   60000,  430000, 8500003,  401919,  490000,  424000,\n",
              "        205000,  549900,  435000,  189700,  389700,  360000,  295000,\n",
              "        114990, 1065000,  470000,   48000,  188000,  465000,  179999,\n",
              "       2190000, 2390000, 1075000,  475000, 1025000,  615000, 1900000,\n",
              "       1490000, 1510000, 1850000,  790000, 1725000, 1225000,   68000,\n",
              "        970000, 3100000,  899000,   88000,   53000,  568500,   71000,\n",
              "        590000,  795000,   42000,  189000,  162000,   35999, 2900000,\n",
              "         39999,   50500,  510000,  860000,  500001])"
            ]
          },
          "metadata": {},
          "execution_count": 268
        }
      ]
    },
    {
      "cell_type": "markdown",
      "source": [
        "###kms_driven Column"
      ],
      "metadata": {
        "id": "1UbS4bMAp4BR"
      }
    },
    {
      "cell_type": "code",
      "source": [
        "car[\"kms_driven\"].unique()"
      ],
      "metadata": {
        "colab": {
          "base_uri": "https://localhost:8080/"
        },
        "id": "RH0cvAAqm2EP",
        "outputId": "2a7e9b6a-5b77-49df-ee4e-f2c45490cb2a"
      },
      "execution_count": 269,
      "outputs": [
        {
          "output_type": "execute_result",
          "data": {
            "text/plain": [
              "array(['45,000 kms', '40 kms', '28,000 kms', '36,000 kms', '41,000 kms',\n",
              "       '25,000 kms', '24,530 kms', '60,000 kms', '30,000 kms',\n",
              "       '32,000 kms', '48,660 kms', '4,000 kms', '16,934 kms',\n",
              "       '43,000 kms', '35,550 kms', '39,522 kms', '39,000 kms',\n",
              "       '55,000 kms', '72,000 kms', '15,975 kms', '70,000 kms',\n",
              "       '23,452 kms', '35,522 kms', '48,508 kms', '15,487 kms',\n",
              "       '82,000 kms', '20,000 kms', '68,000 kms', '38,000 kms',\n",
              "       '27,000 kms', '33,000 kms', '46,000 kms', '16,000 kms',\n",
              "       '47,000 kms', '35,000 kms', '30,874 kms', '15,000 kms',\n",
              "       '29,685 kms', '1,30,000 kms', '19,000 kms', '54,000 kms',\n",
              "       '13,000 kms', '38,200 kms', '22,000 kms', '50,000 kms',\n",
              "       '13,500 kms', '3,600 kms', '45,863 kms', '60,500 kms',\n",
              "       '12,500 kms', '18,000 kms', '13,349 kms', '29,000 kms',\n",
              "       '44,000 kms', '42,000 kms', '14,000 kms', '49,000 kms',\n",
              "       '36,200 kms', '51,000 kms', '1,04,000 kms', '33,333 kms',\n",
              "       '33,600 kms', '5,600 kms', '7,500 kms', '26,000 kms', '24,330 kms',\n",
              "       '65,480 kms', '2,00,000 kms', '59,000 kms', '99,000 kms',\n",
              "       '2,800 kms', '21,000 kms', '11,000 kms', '66,000 kms', '3,000 kms',\n",
              "       '7,000 kms', '38,500 kms', '37,200 kms', '43,200 kms',\n",
              "       '24,800 kms', '45,872 kms', '40,000 kms', '11,400 kms',\n",
              "       '97,200 kms', '52,000 kms', '31,000 kms', '1,75,430 kms',\n",
              "       '37,000 kms', '65,000 kms', '3,350 kms', '75,000 kms',\n",
              "       '62,000 kms', '73,000 kms', '2,200 kms', '54,870 kms',\n",
              "       '34,580 kms', '97,000 kms', '60 kms', '80,200 kms', '3,200 kms',\n",
              "       '0,000 kms', '5,000 kms', '588 kms', '71,200 kms', '1,75,400 kms',\n",
              "       '9,300 kms', '56,758 kms', '10,000 kms', '56,450 kms',\n",
              "       '56,000 kms', '32,700 kms', '9,000 kms', '73 kms', '1,60,000 kms',\n",
              "       '58,559 kms', '57,000 kms', '1,70,000 kms', '80,000 kms',\n",
              "       '6,821 kms', '23,000 kms', '34,000 kms', '1,800 kms',\n",
              "       '4,00,000 kms', '48,000 kms', '90,000 kms', '12,000 kms',\n",
              "       '69,900 kms', '1,66,000 kms', '122 kms', '0 kms', '36,469 kms',\n",
              "       '7,800 kms', '24,695 kms', '15,141 kms', '59,910 kms',\n",
              "       '1,00,000 kms', '4,500 kms', '1,29,000 kms', '300 kms',\n",
              "       '1,31,000 kms', '1,11,111 kms', '59,466 kms', '25,500 kms',\n",
              "       '44,005 kms', '2,110 kms', '43,222 kms', '1,00,200 kms', '65 kms',\n",
              "       '1,40,000 kms', '1,03,553 kms', '58,000 kms', '1,20,000 kms',\n",
              "       '49,800 kms', '100 kms', '81,876 kms', '6,020 kms', '55,700 kms',\n",
              "       '18,500 kms', '53,000 kms', '35,500 kms', '22,134 kms',\n",
              "       '1,000 kms', '8,500 kms', '87,000 kms', '6,000 kms', '8,000 kms',\n",
              "       '55,800 kms', '56,400 kms', '72,160 kms', '11,500 kms',\n",
              "       '1,33,000 kms', '2,000 kms', '88,000 kms', '65,422 kms',\n",
              "       '1,17,000 kms', '1,50,000 kms', '10,750 kms', '6,800 kms',\n",
              "       '9,800 kms', '57,923 kms', '30,201 kms', '6,200 kms', '37,518 kms',\n",
              "       '24,652 kms', '383 kms', '95,000 kms', '52,500 kms', '47,900 kms',\n",
              "       '52,800 kms', '1,95,000 kms', '48,008 kms', '48,247 kms',\n",
              "       '9,400 kms', '64,000 kms', '2,137 kms', '10,544 kms',\n",
              "       '1,47,000 kms', '90,001 kms', '48,006 kms', '74,000 kms',\n",
              "       '85,000 kms', '29,500 kms', '39,700 kms', '67,000 kms',\n",
              "       '19,336 kms', '60,105 kms', '45,933 kms', '1,02,563 kms',\n",
              "       '28,600 kms', '41,800 kms', '1,16,000 kms', '42,590 kms',\n",
              "       '7,400 kms', '54,500 kms', '76,000 kms', '00 kms', '11,523 kms',\n",
              "       '38,600 kms', '95,500 kms', '37,458 kms', '85,960 kms',\n",
              "       '12,516 kms', '30,600 kms', '2,550 kms', '62,500 kms',\n",
              "       '69,000 kms', '28,400 kms', '68,485 kms', '3,500 kms',\n",
              "       '85,455 kms', '63,000 kms', '1,600 kms', '77,000 kms',\n",
              "       '26,500 kms', '2,875 kms', '13,900 kms', '1,500 kms', '2,450 kms',\n",
              "       '1,625 kms', '33,400 kms', '60,123 kms', '1,37,495 kms',\n",
              "       '91,200 kms', '1,46,000 kms', '1,00,800 kms', '2,100 kms',\n",
              "       '2,500 kms', '1,32,000 kms', 'Petrol'], dtype=object)"
            ]
          },
          "metadata": {},
          "execution_count": 269
        }
      ]
    },
    {
      "cell_type": "markdown",
      "source": [
        "Many inconsistencies. Invalid values as well as string values having 'kms' in them."
      ],
      "metadata": {
        "id": "wd20OjA1m-ew"
      }
    },
    {
      "cell_type": "code",
      "source": [
        "#Getting rid of commas and 'kms'\n",
        "car['kms_driven']=car['kms_driven'].str.split().str.get(0).str.replace(',','')"
      ],
      "metadata": {
        "id": "25jMrNUknn3E"
      },
      "execution_count": 270,
      "outputs": []
    },
    {
      "cell_type": "code",
      "source": [
        "#Filtering non-numeric values\n",
        "car=car[car['kms_driven'].str.isnumeric()]"
      ],
      "metadata": {
        "id": "d3hhJsJBnxwo"
      },
      "execution_count": 271,
      "outputs": []
    },
    {
      "cell_type": "code",
      "source": [
        "#Converting to type int\n",
        "car['kms_driven']=car['kms_driven'].astype(int)"
      ],
      "metadata": {
        "id": "OiCJY_3in4FK"
      },
      "execution_count": 272,
      "outputs": []
    },
    {
      "cell_type": "code",
      "source": [
        "car['kms_driven'].unique()"
      ],
      "metadata": {
        "colab": {
          "base_uri": "https://localhost:8080/"
        },
        "id": "y_SZZJCGqTJ6",
        "outputId": "c9eb01b0-cf00-4545-916a-a3edf079201d"
      },
      "execution_count": 273,
      "outputs": [
        {
          "output_type": "execute_result",
          "data": {
            "text/plain": [
              "array([ 45000,     40,  28000,  36000,  41000,  25000,  24530,  60000,\n",
              "        30000,  32000,  48660,   4000,  16934,  43000,  35550,  39522,\n",
              "        39000,  55000,  72000,  15975,  70000,  23452,  35522,  48508,\n",
              "        15487,  82000,  20000,  68000,  38000,  27000,  33000,  46000,\n",
              "        16000,  47000,  35000,  30874,  15000,  29685, 130000,  19000,\n",
              "        54000,  13000,  38200,  22000,  50000,  13500,   3600,  45863,\n",
              "        60500,  12500,  18000,  13349,  29000,  44000,  42000,  14000,\n",
              "        49000,  36200,  51000, 104000,  33333,  33600,   5600,   7500,\n",
              "        26000,  24330,  65480, 200000,  59000,  99000,   2800,  21000,\n",
              "        11000,  66000,   3000,   7000,  38500,  37200,  43200,  24800,\n",
              "        45872,  40000,  11400,  97200,  52000,  31000, 175430,  37000,\n",
              "        65000,   3350,  75000,  62000,  73000,   2200,  54870,  34580,\n",
              "        97000,     60,  80200,   3200,      0,   5000,    588,  71200,\n",
              "       175400,   9300,  56758,  10000,  56450,  56000,  32700,   9000,\n",
              "           73, 160000,  58559,  57000, 170000,  80000,   6821,  23000,\n",
              "        34000,   1800, 400000,  48000,  90000,  12000,  69900, 166000,\n",
              "          122,  36469,   7800,  24695,  15141,  59910, 100000,   4500,\n",
              "       129000,    300, 131000, 111111,  59466,  25500,  44005,   2110,\n",
              "        43222, 100200,     65, 140000, 103553,  58000, 120000,  49800,\n",
              "          100,  81876,   6020,  55700,  18500,  53000,  35500,  22134,\n",
              "         1000,   8500,  87000,   6000,   8000,  55800,  56400,  72160,\n",
              "        11500, 133000,   2000,  88000,  65422, 117000, 150000,  10750,\n",
              "         6800,   9800,  57923,  30201,   6200,  37518,  24652,    383,\n",
              "        95000,  52500,  47900,  52800, 195000,  48008,  48247,   9400,\n",
              "        64000,   2137,  10544, 147000,  90001,  48006,  74000,  85000,\n",
              "        29500,  39700,  67000,  19336,  60105,  45933, 102563,  28600,\n",
              "        41800, 116000,  42590,   7400,  54500,  76000,  11523,  38600,\n",
              "        95500,  37458,  85960,  12516,  30600,   2550,  62500,  69000,\n",
              "        28400,  68485,   3500,  85455,  63000,   1600,  77000,  26500,\n",
              "         2875,  13900,   1500,   2450,   1625,  33400,  60123, 137495,\n",
              "        91200, 146000, 100800,   2100,   2500, 132000])"
            ]
          },
          "metadata": {},
          "execution_count": 273
        }
      ]
    },
    {
      "cell_type": "code",
      "source": [
        "car['kms_driven']"
      ],
      "metadata": {
        "colab": {
          "base_uri": "https://localhost:8080/"
        },
        "id": "ccnoJMbZn8DR",
        "outputId": "9119cfed-5468-413c-bf61-56c45ef5156c"
      },
      "execution_count": 274,
      "outputs": [
        {
          "output_type": "execute_result",
          "data": {
            "text/plain": [
              "0       45000\n",
              "1          40\n",
              "3       28000\n",
              "4       36000\n",
              "6       41000\n",
              "        ...  \n",
              "883     50000\n",
              "885     30000\n",
              "886    132000\n",
              "888     27000\n",
              "889     40000\n",
              "Name: kms_driven, Length: 815, dtype: int64"
            ]
          },
          "metadata": {},
          "execution_count": 274
        }
      ]
    },
    {
      "cell_type": "markdown",
      "source": [
        "###Fuel type column"
      ],
      "metadata": {
        "id": "KJPbAOPFqZHQ"
      }
    },
    {
      "cell_type": "code",
      "source": [
        "car['fuel_type'].unique()"
      ],
      "metadata": {
        "colab": {
          "base_uri": "https://localhost:8080/"
        },
        "id": "VUdgfKQ6oUH2",
        "outputId": "e5d07548-f402-4924-f0ad-988922d17d0f"
      },
      "execution_count": 275,
      "outputs": [
        {
          "output_type": "execute_result",
          "data": {
            "text/plain": [
              "array(['Petrol', 'Diesel', nan, 'LPG'], dtype=object)"
            ]
          },
          "metadata": {},
          "execution_count": 275
        }
      ]
    },
    {
      "cell_type": "markdown",
      "source": [
        "Fuel type column has nan values"
      ],
      "metadata": {
        "id": "AM4g8RRpobXp"
      }
    },
    {
      "cell_type": "code",
      "source": [
        "car=car[~car['fuel_type'].isna()]"
      ],
      "metadata": {
        "id": "v5lPuCIPodx8"
      },
      "execution_count": 276,
      "outputs": []
    },
    {
      "cell_type": "code",
      "source": [
        "car['fuel_type'].unique()"
      ],
      "metadata": {
        "colab": {
          "base_uri": "https://localhost:8080/"
        },
        "id": "-Vwqr12fog0a",
        "outputId": "dcff3a7c-e2ab-423f-ecbd-3568a9710ecd"
      },
      "execution_count": 277,
      "outputs": [
        {
          "output_type": "execute_result",
          "data": {
            "text/plain": [
              "array(['Petrol', 'Diesel', 'LPG'], dtype=object)"
            ]
          },
          "metadata": {},
          "execution_count": 277
        }
      ]
    },
    {
      "cell_type": "code",
      "source": [
        "car['fuel_type']"
      ],
      "metadata": {
        "colab": {
          "base_uri": "https://localhost:8080/"
        },
        "id": "xwFq4nc5qfBs",
        "outputId": "31928ec9-68ae-4406-c958-9244ffe42bc4"
      },
      "execution_count": 278,
      "outputs": [
        {
          "output_type": "execute_result",
          "data": {
            "text/plain": [
              "0      Petrol\n",
              "1      Diesel\n",
              "3      Petrol\n",
              "4      Diesel\n",
              "6      Diesel\n",
              "        ...  \n",
              "883    Petrol\n",
              "885    Diesel\n",
              "886    Petrol\n",
              "888    Diesel\n",
              "889    Diesel\n",
              "Name: fuel_type, Length: 814, dtype: object"
            ]
          },
          "metadata": {},
          "execution_count": 278
        }
      ]
    },
    {
      "cell_type": "markdown",
      "source": [
        "###Name Column"
      ],
      "metadata": {
        "id": "awHMGZ9Uqdb4"
      }
    },
    {
      "cell_type": "code",
      "source": [
        "car['name'].unique()"
      ],
      "metadata": {
        "colab": {
          "base_uri": "https://localhost:8080/"
        },
        "id": "ZjhJUYFSon3a",
        "outputId": "802babd5-8387-4e29-e459-d8a6b6a655ff"
      },
      "execution_count": 279,
      "outputs": [
        {
          "output_type": "execute_result",
          "data": {
            "text/plain": [
              "array(['Hyundai Santro Xing XO eRLX Euro III', 'Mahindra Jeep CL550 MDI',\n",
              "       'Hyundai Grand i10 Magna 1.2 Kappa VTVT',\n",
              "       'Ford EcoSport Titanium 1.5L TDCi', 'Ford Figo', 'Hyundai Eon',\n",
              "       'Ford EcoSport Ambiente 1.5L TDCi',\n",
              "       'Maruti Suzuki Alto K10 VXi AMT', 'Skoda Fabia Classic 1.2 MPI',\n",
              "       'Maruti Suzuki Stingray VXi', 'Hyundai Elite i20 Magna 1.2',\n",
              "       'Mahindra Scorpio SLE BS IV', 'Audi A8', 'Audi Q7',\n",
              "       'Mahindra Scorpio S10', 'Maruti Suzuki Alto 800',\n",
              "       'Maruti Suzuki Alto 800 Vxi', 'Hyundai i20 Sportz 1.2',\n",
              "       'Maruti Suzuki Alto 800 Lx', 'Maruti Suzuki Vitara Brezza ZDi',\n",
              "       'Maruti Suzuki Alto LX', 'Mahindra Bolero DI',\n",
              "       'Maruti Suzuki Swift Dzire ZDi', 'Mahindra Scorpio S10 4WD',\n",
              "       'Maruti Suzuki Swift Vdi BSIII',\n",
              "       'Maruti Suzuki Wagon R VXi BS III',\n",
              "       'Maruti Suzuki Wagon R VXi Minor',\n",
              "       'Toyota Innova 2.0 G 8 STR BS IV', 'Renault Lodgy 85 PS RXL',\n",
              "       'Skoda Yeti Ambition 2.0 TDI CR 4x2',\n",
              "       'Maruti Suzuki Baleno Delta 1.2',\n",
              "       'Renault Duster 110 PS RxZ Diesel Plus',\n",
              "       'Renault Duster 85 PS RxE Diesel', 'Honda City 1.5 S MT',\n",
              "       'Maruti Suzuki Dzire', 'Honda Amaze', 'Honda Amaze 1.5 SX i DTEC',\n",
              "       'Honda City', 'Datsun Redi GO S', 'Maruti Suzuki SX4 ZXI MT',\n",
              "       'Mitsubishi Pajero Sport Limited Edition',\n",
              "       'Maruti Suzuki Swift VXi 1.2 ABS BS IV', 'Honda City ZX CVT',\n",
              "       'Maruti Suzuki Wagon R LX BS IV', 'Tata Indigo eCS LS CR4 BS IV',\n",
              "       'Volkswagen Polo Highline Exquisite P', 'Chevrolet Spark LS 1.0',\n",
              "       'Renault Duster 110PS Diesel RxZ', 'Mini Cooper S 1.6',\n",
              "       'Skoda Fabia 1.2L Diesel Ambiente', 'Renault Duster',\n",
              "       'Mahindra Scorpio S4', 'Mahindra Scorpio VLX 2WD BS IV',\n",
              "       'Mahindra Quanto C8', 'Ford EcoSport', 'Honda Brio',\n",
              "       'Volkswagen Vento Highline Plus 1.5 Diesel AT',\n",
              "       'Hyundai i20 Magna', 'Toyota Corolla Altis Diesel D4DG',\n",
              "       'Hyundai Verna Transform SX VTVT',\n",
              "       'Toyota Corolla Altis Petrol Ltd', 'Honda City 1.5 EXi New',\n",
              "       'Skoda Fabia 1.2L Diesel Elegance', 'BMW 3 Series 320i',\n",
              "       'Maruti Suzuki A Star Lxi', 'Toyota Etios GD',\n",
              "       'Ford Figo Diesel EXI Option',\n",
              "       'Maruti Suzuki Swift Dzire VXi 1.2 BS IV',\n",
              "       'Chevrolet Beat LT Diesel', 'BMW 7 Series 740Li Sedan',\n",
              "       'Mahindra XUV500 W8 AWD 2013', 'Hyundai i10 Magna 1.2',\n",
              "       'Hyundai Verna Fluidic New', 'Maruti Suzuki Swift VXi 1.2 BS IV',\n",
              "       'Maruti Suzuki Ertiga ZXI Plus', 'Maruti Suzuki Ertiga Vxi',\n",
              "       'Maruti Suzuki Ertiga VDi', 'Maruti Suzuki Alto LXi BS III',\n",
              "       'Hyundai Grand i10 Asta 1.1 CRDi', 'Honda Amaze 1.2 S i VTEC',\n",
              "       'Hyundai i20 Asta 1.4 CRDI 6 Speed', 'Ford Figo Diesel EXI',\n",
              "       'Maruti Suzuki Eeco 5 STR WITH AC HTR', 'Maruti Suzuki Ertiga ZXi',\n",
              "       'Maruti Suzuki Esteem LXi BS III', 'Maruti Suzuki Ritz VXI',\n",
              "       'Maruti Suzuki Ritz LDi', 'Maruti Suzuki Dzire VDI',\n",
              "       'Toyota Etios Liva G', 'Hyundai i20 Sportz 1.4 CRDI',\n",
              "       'Chevrolet Spark', 'Nissan Micra XV', 'Maruti Suzuki Swift',\n",
              "       'Honda Amaze 1.5 S i DTEC', 'Chevrolet Beat',\n",
              "       'Honda City 1.5 V MT', 'Ford EcoSport Trend 1.5L TDCi',\n",
              "       'Hyundai i20 Asta 1.2', 'Tata Indica V2 eLS',\n",
              "       'Hindustan Motors Ambassador', 'Toyota Corolla Altis 1.8 GL',\n",
              "       'Toyota Corolla Altis 1.8 J', 'Toyota Innova 2.5 GX BS IV 7 STR',\n",
              "       'Volkswagen Jetta Highline TDI AT',\n",
              "       'Volkswagen Polo Comfortline 1.2L P', 'Volkswagen Polo',\n",
              "       'Mahindra Scorpio', 'Nissan Sunny', 'Hyundai Elite i20',\n",
              "       'Renault Kwid', 'Mahindra Scorpio VLX Airbag',\n",
              "       'Maruti Suzuki Alto 800 Lxi', 'Chevrolet Spark LT 1.0',\n",
              "       'Datsun Redi GO T O', 'Maruti Suzuki Swift RS VDI',\n",
              "       'Fiat Punto Emotion 1.2', 'Hyundai i10 Sportz 1.2',\n",
              "       'Chevrolet Beat LT Opt Diesel', 'Chevrolet Beat LS Diesel',\n",
              "       'Tata Indigo CS', 'Maruti Suzuki Swift VDi',\n",
              "       'Hyundai Eon Era Plus', 'Mahindra XUV500', 'Ford Fiesta',\n",
              "       'Maruti Suzuki Wagon R', 'Hyundai i20',\n",
              "       'Tata Indigo eCS LX TDI BS III',\n",
              "       'Hyundai Fluidic Verna 1.6 CRDi SX', 'Fiat Petra ELX 1.2 PS',\n",
              "       'Hyundai Santro Xing XS', 'Maruti Suzuki Ciaz VXi Plus',\n",
              "       'Maruti Suzuki Zen VX', 'Hyundai Creta 1.6 SX Plus Petrol',\n",
              "       'Mahindra Scorpio SLX', 'Toyota Innova 2.5 G BS III 8 STR',\n",
              "       'Maruti Suzuki Wagon R LXI BS IV', 'Tata Nano Cx BSIV',\n",
              "       'Maruti Suzuki Alto Std BS IV', 'Maruti Suzuki Wagon R LXi BS III',\n",
              "       'Maruti Suzuki Swift VXI BSIII',\n",
              "       'Tata Sumo Victa EX 10 by 7 Str BSIII',\n",
              "       'Volkswagen Passat Diesel Comfortline AT',\n",
              "       'Renault Scala RxL Diesel Travelogue',\n",
              "       'Hyundai Grand i10 Sportz O 1.2 Kappa VTVT',\n",
              "       'Hyundai i20 Active 1.2 SX', 'Mahindra Xylo E4',\n",
              "       'Mahindra Jeep MM 550 XDB', 'Mahindra Bolero SLE BS IV',\n",
              "       'Force Motors Force One LX ABS 7 STR', 'Maruti Suzuki SX4',\n",
              "       'Toyota Etios', 'Honda City ZX VTEC',\n",
              "       'Maruti Suzuki Wagon R LX BS III', 'Honda City VX O MT Diesel',\n",
              "       'Mahindra Thar CRDe 4x4 AC',\n",
              "       'Audi A4 1.8 TFSI Multitronic Premium Plus',\n",
              "       'Mercedes Benz GLA Class 200 CDI Sport', 'Renault Kwid RXT',\n",
              "       'Tata Aria Pleasure 4X2', 'Mercedes Benz B Class B180 Sports',\n",
              "       'Datsun GO T O', 'Honda Jazz VX MT',\n",
              "       'Hyundai i20 Active 1.4L SX O', 'Mini Cooper S',\n",
              "       'Maruti Suzuki Ciaz ZXI Plus', 'Chevrolet Tavera Neo',\n",
              "       'Hyundai Eon Sportz', 'Tata Sumo Gold Select Variant',\n",
              "       'Maruti Suzuki Wagon R 1.0', 'Maruti Suzuki Esteem VXi BS III',\n",
              "       'Chevrolet Enjoy 1.4 LS 8 STR', 'Maruti Suzuki Wagon R 1.0 VXi',\n",
              "       'Nissan Terrano XL D Plus', 'Renault Duster 85 PS RxL Diesel',\n",
              "       'Maruti Suzuki Dzire ZXI', 'Renault Kwid RXT Opt',\n",
              "       'Maruti Suzuki Maruti 800 Std', 'Renault Kwid 1.0 RXT AMT',\n",
              "       'Renault Scala RxL Diesel',\n",
              "       'Hyundai Grand i10 Asta 1.2 Kappa VTVT O',\n",
              "       'Chevrolet Beat LS Petrol', 'Hyundai Accent GLX',\n",
              "       'Mahindra TUV300 T4 Plus', 'Tata Indica V2 Xeta e GLE',\n",
              "       'Tata Indigo CS LS DiCOR',\n",
              "       'Mahindra Scorpio VLX Special Edition BS III', 'Honda Accord',\n",
              "       'Ford EcoSport Titanium 1.5 TDCi', 'Maruti Suzuki Ertiga',\n",
              "       'Mahindra Scorpio 2.6 CRDe', 'Honda Mobilio',\n",
              "       'Toyota Corolla Altis', 'Skoda Laura', 'Hyundai Verna Fluidic',\n",
              "       'Maruti Suzuki Vitara Brezza', 'Tata Manza Aura Quadrajet',\n",
              "       'Chevrolet Sail UVA Petrol LT ABS',\n",
              "       'Hyundai Verna Fluidic 1.6 VTVT SX',\n",
              "       'Audi A4 2.0 TDI 177bhp Premium', 'Hyundai Elantra SX',\n",
              "       'Mahindra Scorpio VLX 4WD Airbag', 'Mahindra KUV100 K8 D 6 STR',\n",
              "       'Hyundai Grand i10', 'Hyundai i10', 'Hyundai i20 Active',\n",
              "       'Datsun Redi GO', 'Toyota Etios Liva', 'Hyundai Accent',\n",
              "       'Hyundai Verna', 'Toyota Fortuner', 'Hyundai i10 Sportz',\n",
              "       'Mahindra Bolero Power Plus SLE', 'Honda City 1.5 V MT Exclusive',\n",
              "       'Chevrolet Spark LT 1.0 Airbag', 'Tata Indigo eCS VX CR4 BS IV',\n",
              "       'Skoda Rapid Elegance 1.6 TDI CR MT', 'Tata Vista Quadrajet VX',\n",
              "       'Maruti Suzuki Alto K10 VXi AT', 'Maruti Suzuki Zen LXi BS III',\n",
              "       'Maruti Suzuki Swift Dzire Tour LDi', 'Honda City ZX EXi',\n",
              "       'Chevrolet Beat Diesel', 'Hyundai Verna 1.4 VTVT',\n",
              "       'Toyota Innova 2.5 E MS 7 STR BS IV',\n",
              "       'Maruti Suzuki Maruti 800 Std – Befo',\n",
              "       'Hyundai Elite i20 Asta 1.4 CRDI',\n",
              "       'Maruti Suzuki Versa DX2 8 SEATER BSIII',\n",
              "       'Tata Indigo LX TDI BS III',\n",
              "       'Volkswagen Vento Konekt Diesel Highline',\n",
              "       'Mercedes Benz C Class 200 CDI Classic', 'Hyundai Santro Xing GLS',\n",
              "       'Maruti Suzuki Omni Limited Edition',\n",
              "       'Hyundai Sonata Transform 2.4 GDi MT',\n",
              "       'Hyundai Elite i20 Sportz 1.2', 'Honda Jazz S MT',\n",
              "       'Hyundai Grand i10 Sportz 1.2 Kappa VTVT',\n",
              "       'Maruti Suzuki Zen LXi BSII',\n",
              "       'Mahindra Scorpio W Turbo 2.6DX 9 Seater',\n",
              "       'Maruti Suzuki Alto K10 VXi',\n",
              "       'Hyundai Grand i10 Asta 1.2 Kappa VTVT', 'Mahindra XUV500 W8',\n",
              "       'Hyundai i20 Magna O 1.2', 'Renault Duster 85 PS RxL Explore LE',\n",
              "       'Honda Brio V MT', 'Mahindra TUV300 T8',\n",
              "       'Nissan X Trail Select Variant', 'Ford Ikon 1.3 CLXi NXt Finesse',\n",
              "       'Toyota Fortuner 3.0 4x4 MT', 'Tata Manza ELAN Quadrajet',\n",
              "       'Mercedes Benz A Class A 180 Sport Petrol', 'Tata Indigo LS',\n",
              "       'Hyundai i20 Magna 1.2', 'Honda Amaze 1.5 E i DTEC',\n",
              "       'Hyundai Verna 1.6 EX VTVT', 'BMW 5 Series 520d Sedan',\n",
              "       'Skoda Superb 1.8 TFSI AT', 'Audi Q3 2.0 TDI quattro Premium',\n",
              "       'Mahindra Bolero DI BSII',\n",
              "       'Ford Figo Duratorq Diesel Titanium 1.4',\n",
              "       'Maruti Suzuki Wagon R VXI BS IV', 'Mahindra Logan Diesel 1.5 DLS',\n",
              "       'Tata Nano GenX XMA', 'Honda City SV', 'Ford Figo Petrol LXI',\n",
              "       'Hyundai i10 Magna 1.2 Kappa2', 'Toyota Corolla H2',\n",
              "       'Maruti Suzuki Swift Dzire Tour VXi', 'Tata Indigo CS eLS BS IV',\n",
              "       'Hyundai Xcent Base 1.1 CRDi', 'Hyundai Accent Executive Edition',\n",
              "       'Tata Zest XE 75 PS Diesel', 'Maruti Suzuki Dzire LDI',\n",
              "       'Tata Sumo Gold LX BS IV', 'Toyota Corolla Altis GL Petrol',\n",
              "       'Maruti Suzuki Eeco 7 STR', 'Toyota Fortuner 3.0 4x2 MT',\n",
              "       'Mahindra XUV500 W6', 'Tata Tigor Revotron XZ',\n",
              "       'Maruti Suzuki 800', 'Honda Mobilio S i DTEC',\n",
              "       'Hyundai Verna 1.6 CRDI E', 'Maruti Suzuki Omni Select Variant',\n",
              "       'Tata Indica', 'Hyundai Santro Xing', 'Maruti Suzuki Zen Estilo',\n",
              "       'Honda Brio VX AT', 'Maruti Suzuki Zen Estilo LXI Green CNG',\n",
              "       'Maruti Suzuki Wagon R Select Variant', 'Tata Nano Lx BSIV',\n",
              "       'Jaguar XE XE Portfolio', 'Hyundai Eon Magna Plus',\n",
              "       'Maruti Suzuki Ritz GENUS VXI',\n",
              "       'Hyundai Grand i10 Magna AT 1.2 Kappa VTVT',\n",
              "       'Hyundai Eon D Lite Plus', 'Honda Amaze 1.2 VX i VTEC',\n",
              "       'Maruti Suzuki Estilo VXi ABS BS IV',\n",
              "       'Maruti Suzuki Vitara Brezza LDi O',\n",
              "       'Hyundai Creta 1.6 SX Plus Petrol AT', 'Mahindra Scorpio Vlx BSIV',\n",
              "       'Mitsubishi Lancer 1.8 LXi', 'Maruti Suzuki Maruti 800 AC',\n",
              "       'Maruti Suzuki Alto 800 LXI CNG O', 'Ford Fiesta SXi 1.6 ABS',\n",
              "       'Maruti Suzuki Ritz VDi', 'Maruti Suzuki Estilo LX BS IV',\n",
              "       'Audi A6 2.0 TDI Premium', 'Maruti Suzuki Alto',\n",
              "       'Maruti Suzuki Baleno Sigma 1.2', 'Hyundai Verna 1.6 SX VTVT AT',\n",
              "       'Maruti Suzuki Swift GLAM', 'Hyundai Getz Prime 1.3 GVS',\n",
              "       'Hyundai Santro', 'Hyundai Getz Prime 1.3 GLX',\n",
              "       'Chevrolet Beat PS Diesel', 'Ford EcoSport Trend 1.5 Ti VCT',\n",
              "       'Tata Indica V2 DLG', 'BMW X1 xDrive20d xLine',\n",
              "       'Honda City 1.5 V AT', 'Tata Nano', 'Chevrolet Cruze LTZ AT',\n",
              "       'Maruti Suzuki Swift Dzire VDi', 'Mahindra XUV500 W10',\n",
              "       'Maruti Suzuki Alto K10 LXi CNG', 'Hyundai Accent GLE',\n",
              "       'Force Motors One SUV', 'Chevrolet Spark 1.0 LT',\n",
              "       'Toyota Etios Liva GD',\n",
              "       'Renault Duster 85PS Diesel RxL Optional with Nav',\n",
              "       'Chevrolet Enjoy', 'BMW 5 Series 530i', 'Chevrolet Cruze LTZ',\n",
              "       'Hyundai Verna VGT CRDi SX ABS', 'Maruti Suzuki Omni',\n",
              "       'Maruti Suzuki Celerio VDi', 'Tata Zest Quadrajet 1.3',\n",
              "       'Tata Indigo CS eLX BS IV', 'Hyundai i10 Era',\n",
              "       'Tata Indigo eCS LX CR4 BS IV', 'Tata Indigo Marina LS',\n",
              "       'Hyundai Xcent SX 1.2', 'Tata Nano LX Special Edition',\n",
              "       'Renault Duster 110 PS RxZ Diesel',\n",
              "       'Maruti Suzuki Wagon R AX BSIV', 'Maruti Suzuki Alto K10 New',\n",
              "       'Mahindra Xylo E8', 'Tata Manza Aqua Quadrajet',\n",
              "       'Renault Kwid 1.0', 'Tata Venture EX 8 STR',\n",
              "       'Maruti Suzuki Swift Dzire Tour LXi',\n",
              "       'Skoda Octavia Classic 1.9 TDI MT', 'Maruti Suzuki Omni LPG BS IV',\n",
              "       'Tata Sumo Gold EX BS IV', 'Hyundai Verna 1.6 CRDI SX',\n",
              "       'Mahindra Scorpio SLX 2.6 Turbo 8 Str', 'Ford Ikon 1.6 Nxt',\n",
              "       'Toyota Innova 2.5 V 7 STR', 'Nissan Sunny XL',\n",
              "       'Maruti Suzuki Swift VDi BS IV', 'Toyota Innova 2.0 G4',\n",
              "       'Maruti Suzuki Swift VDi ABS', 'Hyundai Elite i20 Asta 1.2',\n",
              "       'Volkswagen Polo Trendline 1.5L D', 'Toyota Etios Liva Diesel',\n",
              "       'Maruti Suzuki Ciaz ZXi Plus RS', 'Hyundai Elantra 1.8 S',\n",
              "       'Ford EcoSport Trend 1.5L Ti VCT', 'Tata Indica eV2 LS',\n",
              "       'Jaguar XF 2.2 Diesel Luxury',\n",
              "       'Audi Q5 2.0 TDI quattro Premium Plus', 'BMW 3 Series 320d Sedan',\n",
              "       'Maruti Suzuki Swift ZXi 1.2 BS IV', 'BMW X1 sDrive20d',\n",
              "       'Maruti Suzuki S Cross Sigma 1.3', 'Maruti Suzuki Ertiga LDi',\n",
              "       'Volkswagen Vento Comfortline Petrol', 'Mahindra KUV100',\n",
              "       'Maruti Suzuki Swift Dzire Tour VDi', 'Mahindra Scorpio 2.6 SLX',\n",
              "       'Maruti Suzuki Omni 8 STR BS III',\n",
              "       'Volkswagen Jetta Comfortline 1.9 TDI AT', 'Volvo S80 Summum D4',\n",
              "       'Toyota Corolla Altis VL AT Petrol',\n",
              "       'Mitsubishi Pajero Sport 2.5 AT', 'Chevrolet Beat LT Petrol',\n",
              "       'BMW X1', 'Mercedes Benz C Class C 220 CDI Avantgarde',\n",
              "       'Volkswagen Vento Comfortline Diesel', 'Tata Indigo CS GLS',\n",
              "       'Ford Figo Petrol Titanium', 'Honda City ZX GXi',\n",
              "       'Maruti Suzuki Wagon R Duo Lxi', 'Maruti Suzuki Zen LX BSII',\n",
              "       'Renault Duster RxL Petrol', 'Maruti Suzuki Baleno Zeta 1.2',\n",
              "       'Honda WR V S MT Petrol', 'Renault Duster 110 PS RxL Diesel',\n",
              "       'Mahindra Scorpio LX BS III',\n",
              "       'Maruti Suzuki SX4 Celebration Diesel',\n",
              "       'Audi A3 Cabriolet 40 TFSI', 'Hyundai Santro AE GLS Audio',\n",
              "       'Mahindra Xylo D2 BS IV', 'Hyundai Getz GLE',\n",
              "       'Hyundai Creta 1.6 SX', 'Hyundai Santro Xing XL AT eRLX Euro III',\n",
              "       'Hyundai Santro Xing XL eRLX Euro III',\n",
              "       'Tata Indica V2 DLS BS III', 'Honda City 1.5 E MT',\n",
              "       'Nissan Micra XL', 'Honda City 1.5 S Inspire',\n",
              "       'Tata Indica eV2 eXeta eGLX', 'Maruti Suzuki Omni E 8 STR BS IV',\n",
              "       'Maruti Suzuki Swift LDi', 'Hyundai Verna 1.6 CRDI SX Plus AT',\n",
              "       'Chevrolet Tavera LS B3 10 Seats BSII', 'Tata Tiago Revotron XM',\n",
              "       'Tata Tiago Revotorq XZ',\n",
              "       'Hindustan Motors Ambassador Classic Mark 4 – Befo',\n",
              "       'Ford Fusion 1.4 TDCi Diesel',\n",
              "       'Fiat Linea Emotion 1.4 L T Jet Petrol',\n",
              "       'Ford Ikon 1.3 Flair Josh 100', 'Tata Indica V2 LS',\n",
              "       'Mahindra Xylo D2', 'Toyota Corolla', 'Hyundai Eon Magna',\n",
              "       'Tata Sumo Grande MKII GX', 'Volkswagen Polo Highline1.2L P',\n",
              "       'Tata Tiago Revotron XZ', 'Tata Indigo eCS',\n",
              "       'Mahindra Xylo E8 BS IV', 'Tata Sumo Gold FX BSIII',\n",
              "       'Hyundai Creta', 'Tata Bolt XM Petrol', 'Maruti Suzuki Ritz',\n",
              "       'Hyundai i20 Asta', 'Maruti Suzuki Swift Select Variant',\n",
              "       'Tata Indica V2 DLX BS III',\n",
              "       'Mahindra Scorpio VLX 2.2 mHawk Airbag BSIV',\n",
              "       'Toyota Innova 2.5 E 8 STR', 'Mahindra KUV100 K8 6 STR',\n",
              "       'Datsun Go Plus', 'Ford Endeavor 4x4 Thunder Plus',\n",
              "       'Tata Indica V2', 'Hyundai Santro Xing GL',\n",
              "       'Toyota Innova 2.5 Z Diesel 7 Seater', 'Maruti Suzuki Alto AX',\n",
              "       'Mahindra Logan', 'Maruti Suzuki 800 Std BS III',\n",
              "       'Chevrolet Sail 1.2 LS', 'Tata Manza', 'Toyota Etios G',\n",
              "       'Toyota Qualis', 'Mahindra Quanto C4', 'Maruti Suzuki Swift Dzire',\n",
              "       'Hyundai i20 Select Variant', 'Honda City VX Petrol',\n",
              "       'Hyundai Getz', 'Mercedes Benz C Class 200 K MT', 'Skoda Fabia',\n",
              "       'Maruti Suzuki Ritz VXI ABS', 'Tata Indica V2 DLE BS III',\n",
              "       'Tata Zest XM Diesel'], dtype=object)"
            ]
          },
          "metadata": {},
          "execution_count": 279
        }
      ]
    },
    {
      "cell_type": "markdown",
      "source": [
        "##Cleaned Data"
      ],
      "metadata": {
        "id": "Deu04Oxoo4XP"
      }
    },
    {
      "cell_type": "code",
      "source": [
        "car"
      ],
      "metadata": {
        "colab": {
          "base_uri": "https://localhost:8080/",
          "height": 423
        },
        "id": "X83LKUyAo1uE",
        "outputId": "0e981bf2-f613-42cf-9958-97869ffb3a00"
      },
      "execution_count": 280,
      "outputs": [
        {
          "output_type": "execute_result",
          "data": {
            "text/plain": [
              "                                       name   company  year   Price  \\\n",
              "0      Hyundai Santro Xing XO eRLX Euro III   Hyundai  2007   80000   \n",
              "1                   Mahindra Jeep CL550 MDI  Mahindra  2006  425000   \n",
              "3    Hyundai Grand i10 Magna 1.2 Kappa VTVT   Hyundai  2014  325000   \n",
              "4          Ford EcoSport Titanium 1.5L TDCi      Ford  2014  575000   \n",
              "6                                 Ford Figo      Ford  2012  175000   \n",
              "..                                      ...       ...   ...     ...   \n",
              "883              Maruti Suzuki Ritz VXI ABS    Maruti  2011  270000   \n",
              "885               Tata Indica V2 DLE BS III      Tata  2009  110000   \n",
              "886                    Toyota Corolla Altis    Toyota  2009  300000   \n",
              "888                     Tata Zest XM Diesel      Tata  2018  260000   \n",
              "889                      Mahindra Quanto C8  Mahindra  2013  390000   \n",
              "\n",
              "     kms_driven fuel_type  \n",
              "0         45000    Petrol  \n",
              "1            40    Diesel  \n",
              "3         28000    Petrol  \n",
              "4         36000    Diesel  \n",
              "6         41000    Diesel  \n",
              "..          ...       ...  \n",
              "883       50000    Petrol  \n",
              "885       30000    Diesel  \n",
              "886      132000    Petrol  \n",
              "888       27000    Diesel  \n",
              "889       40000    Diesel  \n",
              "\n",
              "[814 rows x 6 columns]"
            ],
            "text/html": [
              "\n",
              "  <div id=\"df-6367c589-701a-4e11-855f-3f15e0f4496f\" class=\"colab-df-container\">\n",
              "    <div>\n",
              "<style scoped>\n",
              "    .dataframe tbody tr th:only-of-type {\n",
              "        vertical-align: middle;\n",
              "    }\n",
              "\n",
              "    .dataframe tbody tr th {\n",
              "        vertical-align: top;\n",
              "    }\n",
              "\n",
              "    .dataframe thead th {\n",
              "        text-align: right;\n",
              "    }\n",
              "</style>\n",
              "<table border=\"1\" class=\"dataframe\">\n",
              "  <thead>\n",
              "    <tr style=\"text-align: right;\">\n",
              "      <th></th>\n",
              "      <th>name</th>\n",
              "      <th>company</th>\n",
              "      <th>year</th>\n",
              "      <th>Price</th>\n",
              "      <th>kms_driven</th>\n",
              "      <th>fuel_type</th>\n",
              "    </tr>\n",
              "  </thead>\n",
              "  <tbody>\n",
              "    <tr>\n",
              "      <th>0</th>\n",
              "      <td>Hyundai Santro Xing XO eRLX Euro III</td>\n",
              "      <td>Hyundai</td>\n",
              "      <td>2007</td>\n",
              "      <td>80000</td>\n",
              "      <td>45000</td>\n",
              "      <td>Petrol</td>\n",
              "    </tr>\n",
              "    <tr>\n",
              "      <th>1</th>\n",
              "      <td>Mahindra Jeep CL550 MDI</td>\n",
              "      <td>Mahindra</td>\n",
              "      <td>2006</td>\n",
              "      <td>425000</td>\n",
              "      <td>40</td>\n",
              "      <td>Diesel</td>\n",
              "    </tr>\n",
              "    <tr>\n",
              "      <th>3</th>\n",
              "      <td>Hyundai Grand i10 Magna 1.2 Kappa VTVT</td>\n",
              "      <td>Hyundai</td>\n",
              "      <td>2014</td>\n",
              "      <td>325000</td>\n",
              "      <td>28000</td>\n",
              "      <td>Petrol</td>\n",
              "    </tr>\n",
              "    <tr>\n",
              "      <th>4</th>\n",
              "      <td>Ford EcoSport Titanium 1.5L TDCi</td>\n",
              "      <td>Ford</td>\n",
              "      <td>2014</td>\n",
              "      <td>575000</td>\n",
              "      <td>36000</td>\n",
              "      <td>Diesel</td>\n",
              "    </tr>\n",
              "    <tr>\n",
              "      <th>6</th>\n",
              "      <td>Ford Figo</td>\n",
              "      <td>Ford</td>\n",
              "      <td>2012</td>\n",
              "      <td>175000</td>\n",
              "      <td>41000</td>\n",
              "      <td>Diesel</td>\n",
              "    </tr>\n",
              "    <tr>\n",
              "      <th>...</th>\n",
              "      <td>...</td>\n",
              "      <td>...</td>\n",
              "      <td>...</td>\n",
              "      <td>...</td>\n",
              "      <td>...</td>\n",
              "      <td>...</td>\n",
              "    </tr>\n",
              "    <tr>\n",
              "      <th>883</th>\n",
              "      <td>Maruti Suzuki Ritz VXI ABS</td>\n",
              "      <td>Maruti</td>\n",
              "      <td>2011</td>\n",
              "      <td>270000</td>\n",
              "      <td>50000</td>\n",
              "      <td>Petrol</td>\n",
              "    </tr>\n",
              "    <tr>\n",
              "      <th>885</th>\n",
              "      <td>Tata Indica V2 DLE BS III</td>\n",
              "      <td>Tata</td>\n",
              "      <td>2009</td>\n",
              "      <td>110000</td>\n",
              "      <td>30000</td>\n",
              "      <td>Diesel</td>\n",
              "    </tr>\n",
              "    <tr>\n",
              "      <th>886</th>\n",
              "      <td>Toyota Corolla Altis</td>\n",
              "      <td>Toyota</td>\n",
              "      <td>2009</td>\n",
              "      <td>300000</td>\n",
              "      <td>132000</td>\n",
              "      <td>Petrol</td>\n",
              "    </tr>\n",
              "    <tr>\n",
              "      <th>888</th>\n",
              "      <td>Tata Zest XM Diesel</td>\n",
              "      <td>Tata</td>\n",
              "      <td>2018</td>\n",
              "      <td>260000</td>\n",
              "      <td>27000</td>\n",
              "      <td>Diesel</td>\n",
              "    </tr>\n",
              "    <tr>\n",
              "      <th>889</th>\n",
              "      <td>Mahindra Quanto C8</td>\n",
              "      <td>Mahindra</td>\n",
              "      <td>2013</td>\n",
              "      <td>390000</td>\n",
              "      <td>40000</td>\n",
              "      <td>Diesel</td>\n",
              "    </tr>\n",
              "  </tbody>\n",
              "</table>\n",
              "<p>814 rows × 6 columns</p>\n",
              "</div>\n",
              "    <div class=\"colab-df-buttons\">\n",
              "\n",
              "  <div class=\"colab-df-container\">\n",
              "    <button class=\"colab-df-convert\" onclick=\"convertToInteractive('df-6367c589-701a-4e11-855f-3f15e0f4496f')\"\n",
              "            title=\"Convert this dataframe to an interactive table.\"\n",
              "            style=\"display:none;\">\n",
              "\n",
              "  <svg xmlns=\"http://www.w3.org/2000/svg\" height=\"24px\" viewBox=\"0 -960 960 960\">\n",
              "    <path d=\"M120-120v-720h720v720H120Zm60-500h600v-160H180v160Zm220 220h160v-160H400v160Zm0 220h160v-160H400v160ZM180-400h160v-160H180v160Zm440 0h160v-160H620v160ZM180-180h160v-160H180v160Zm440 0h160v-160H620v160Z\"/>\n",
              "  </svg>\n",
              "    </button>\n",
              "\n",
              "  <style>\n",
              "    .colab-df-container {\n",
              "      display:flex;\n",
              "      gap: 12px;\n",
              "    }\n",
              "\n",
              "    .colab-df-convert {\n",
              "      background-color: #E8F0FE;\n",
              "      border: none;\n",
              "      border-radius: 50%;\n",
              "      cursor: pointer;\n",
              "      display: none;\n",
              "      fill: #1967D2;\n",
              "      height: 32px;\n",
              "      padding: 0 0 0 0;\n",
              "      width: 32px;\n",
              "    }\n",
              "\n",
              "    .colab-df-convert:hover {\n",
              "      background-color: #E2EBFA;\n",
              "      box-shadow: 0px 1px 2px rgba(60, 64, 67, 0.3), 0px 1px 3px 1px rgba(60, 64, 67, 0.15);\n",
              "      fill: #174EA6;\n",
              "    }\n",
              "\n",
              "    .colab-df-buttons div {\n",
              "      margin-bottom: 4px;\n",
              "    }\n",
              "\n",
              "    [theme=dark] .colab-df-convert {\n",
              "      background-color: #3B4455;\n",
              "      fill: #D2E3FC;\n",
              "    }\n",
              "\n",
              "    [theme=dark] .colab-df-convert:hover {\n",
              "      background-color: #434B5C;\n",
              "      box-shadow: 0px 1px 3px 1px rgba(0, 0, 0, 0.15);\n",
              "      filter: drop-shadow(0px 1px 2px rgba(0, 0, 0, 0.3));\n",
              "      fill: #FFFFFF;\n",
              "    }\n",
              "  </style>\n",
              "\n",
              "    <script>\n",
              "      const buttonEl =\n",
              "        document.querySelector('#df-6367c589-701a-4e11-855f-3f15e0f4496f button.colab-df-convert');\n",
              "      buttonEl.style.display =\n",
              "        google.colab.kernel.accessAllowed ? 'block' : 'none';\n",
              "\n",
              "      async function convertToInteractive(key) {\n",
              "        const element = document.querySelector('#df-6367c589-701a-4e11-855f-3f15e0f4496f');\n",
              "        const dataTable =\n",
              "          await google.colab.kernel.invokeFunction('convertToInteractive',\n",
              "                                                    [key], {});\n",
              "        if (!dataTable) return;\n",
              "\n",
              "        const docLinkHtml = 'Like what you see? Visit the ' +\n",
              "          '<a target=\"_blank\" href=https://colab.research.google.com/notebooks/data_table.ipynb>data table notebook</a>'\n",
              "          + ' to learn more about interactive tables.';\n",
              "        element.innerHTML = '';\n",
              "        dataTable['output_type'] = 'display_data';\n",
              "        await google.colab.output.renderOutput(dataTable, element);\n",
              "        const docLink = document.createElement('div');\n",
              "        docLink.innerHTML = docLinkHtml;\n",
              "        element.appendChild(docLink);\n",
              "      }\n",
              "    </script>\n",
              "  </div>\n",
              "\n",
              "\n",
              "<div id=\"df-51a3a6b9-4111-42b9-8d86-abe497af9164\">\n",
              "  <button class=\"colab-df-quickchart\" onclick=\"quickchart('df-51a3a6b9-4111-42b9-8d86-abe497af9164')\"\n",
              "            title=\"Suggest charts\"\n",
              "            style=\"display:none;\">\n",
              "\n",
              "<svg xmlns=\"http://www.w3.org/2000/svg\" height=\"24px\"viewBox=\"0 0 24 24\"\n",
              "     width=\"24px\">\n",
              "    <g>\n",
              "        <path d=\"M19 3H5c-1.1 0-2 .9-2 2v14c0 1.1.9 2 2 2h14c1.1 0 2-.9 2-2V5c0-1.1-.9-2-2-2zM9 17H7v-7h2v7zm4 0h-2V7h2v10zm4 0h-2v-4h2v4z\"/>\n",
              "    </g>\n",
              "</svg>\n",
              "  </button>\n",
              "\n",
              "<style>\n",
              "  .colab-df-quickchart {\n",
              "      --bg-color: #E8F0FE;\n",
              "      --fill-color: #1967D2;\n",
              "      --hover-bg-color: #E2EBFA;\n",
              "      --hover-fill-color: #174EA6;\n",
              "      --disabled-fill-color: #AAA;\n",
              "      --disabled-bg-color: #DDD;\n",
              "  }\n",
              "\n",
              "  [theme=dark] .colab-df-quickchart {\n",
              "      --bg-color: #3B4455;\n",
              "      --fill-color: #D2E3FC;\n",
              "      --hover-bg-color: #434B5C;\n",
              "      --hover-fill-color: #FFFFFF;\n",
              "      --disabled-bg-color: #3B4455;\n",
              "      --disabled-fill-color: #666;\n",
              "  }\n",
              "\n",
              "  .colab-df-quickchart {\n",
              "    background-color: var(--bg-color);\n",
              "    border: none;\n",
              "    border-radius: 50%;\n",
              "    cursor: pointer;\n",
              "    display: none;\n",
              "    fill: var(--fill-color);\n",
              "    height: 32px;\n",
              "    padding: 0;\n",
              "    width: 32px;\n",
              "  }\n",
              "\n",
              "  .colab-df-quickchart:hover {\n",
              "    background-color: var(--hover-bg-color);\n",
              "    box-shadow: 0 1px 2px rgba(60, 64, 67, 0.3), 0 1px 3px 1px rgba(60, 64, 67, 0.15);\n",
              "    fill: var(--button-hover-fill-color);\n",
              "  }\n",
              "\n",
              "  .colab-df-quickchart-complete:disabled,\n",
              "  .colab-df-quickchart-complete:disabled:hover {\n",
              "    background-color: var(--disabled-bg-color);\n",
              "    fill: var(--disabled-fill-color);\n",
              "    box-shadow: none;\n",
              "  }\n",
              "\n",
              "  .colab-df-spinner {\n",
              "    border: 2px solid var(--fill-color);\n",
              "    border-color: transparent;\n",
              "    border-bottom-color: var(--fill-color);\n",
              "    animation:\n",
              "      spin 1s steps(1) infinite;\n",
              "  }\n",
              "\n",
              "  @keyframes spin {\n",
              "    0% {\n",
              "      border-color: transparent;\n",
              "      border-bottom-color: var(--fill-color);\n",
              "      border-left-color: var(--fill-color);\n",
              "    }\n",
              "    20% {\n",
              "      border-color: transparent;\n",
              "      border-left-color: var(--fill-color);\n",
              "      border-top-color: var(--fill-color);\n",
              "    }\n",
              "    30% {\n",
              "      border-color: transparent;\n",
              "      border-left-color: var(--fill-color);\n",
              "      border-top-color: var(--fill-color);\n",
              "      border-right-color: var(--fill-color);\n",
              "    }\n",
              "    40% {\n",
              "      border-color: transparent;\n",
              "      border-right-color: var(--fill-color);\n",
              "      border-top-color: var(--fill-color);\n",
              "    }\n",
              "    60% {\n",
              "      border-color: transparent;\n",
              "      border-right-color: var(--fill-color);\n",
              "    }\n",
              "    80% {\n",
              "      border-color: transparent;\n",
              "      border-right-color: var(--fill-color);\n",
              "      border-bottom-color: var(--fill-color);\n",
              "    }\n",
              "    90% {\n",
              "      border-color: transparent;\n",
              "      border-bottom-color: var(--fill-color);\n",
              "    }\n",
              "  }\n",
              "</style>\n",
              "\n",
              "  <script>\n",
              "    async function quickchart(key) {\n",
              "      const quickchartButtonEl =\n",
              "        document.querySelector('#' + key + ' button');\n",
              "      quickchartButtonEl.disabled = true;  // To prevent multiple clicks.\n",
              "      quickchartButtonEl.classList.add('colab-df-spinner');\n",
              "      try {\n",
              "        const charts = await google.colab.kernel.invokeFunction(\n",
              "            'suggestCharts', [key], {});\n",
              "      } catch (error) {\n",
              "        console.error('Error during call to suggestCharts:', error);\n",
              "      }\n",
              "      quickchartButtonEl.classList.remove('colab-df-spinner');\n",
              "      quickchartButtonEl.classList.add('colab-df-quickchart-complete');\n",
              "    }\n",
              "    (() => {\n",
              "      let quickchartButtonEl =\n",
              "        document.querySelector('#df-51a3a6b9-4111-42b9-8d86-abe497af9164 button');\n",
              "      quickchartButtonEl.style.display =\n",
              "        google.colab.kernel.accessAllowed ? 'block' : 'none';\n",
              "    })();\n",
              "  </script>\n",
              "</div>\n",
              "\n",
              "  <div id=\"id_6c487c97-1dc8-46ce-be9e-385d17a84705\">\n",
              "    <style>\n",
              "      .colab-df-generate {\n",
              "        background-color: #E8F0FE;\n",
              "        border: none;\n",
              "        border-radius: 50%;\n",
              "        cursor: pointer;\n",
              "        display: none;\n",
              "        fill: #1967D2;\n",
              "        height: 32px;\n",
              "        padding: 0 0 0 0;\n",
              "        width: 32px;\n",
              "      }\n",
              "\n",
              "      .colab-df-generate:hover {\n",
              "        background-color: #E2EBFA;\n",
              "        box-shadow: 0px 1px 2px rgba(60, 64, 67, 0.3), 0px 1px 3px 1px rgba(60, 64, 67, 0.15);\n",
              "        fill: #174EA6;\n",
              "      }\n",
              "\n",
              "      [theme=dark] .colab-df-generate {\n",
              "        background-color: #3B4455;\n",
              "        fill: #D2E3FC;\n",
              "      }\n",
              "\n",
              "      [theme=dark] .colab-df-generate:hover {\n",
              "        background-color: #434B5C;\n",
              "        box-shadow: 0px 1px 3px 1px rgba(0, 0, 0, 0.15);\n",
              "        filter: drop-shadow(0px 1px 2px rgba(0, 0, 0, 0.3));\n",
              "        fill: #FFFFFF;\n",
              "      }\n",
              "    </style>\n",
              "    <button class=\"colab-df-generate\" onclick=\"generateWithVariable('car')\"\n",
              "            title=\"Generate code using this dataframe.\"\n",
              "            style=\"display:none;\">\n",
              "\n",
              "  <svg xmlns=\"http://www.w3.org/2000/svg\" height=\"24px\"viewBox=\"0 0 24 24\"\n",
              "       width=\"24px\">\n",
              "    <path d=\"M7,19H8.4L18.45,9,17,7.55,7,17.6ZM5,21V16.75L18.45,3.32a2,2,0,0,1,2.83,0l1.4,1.43a1.91,1.91,0,0,1,.58,1.4,1.91,1.91,0,0,1-.58,1.4L9.25,21ZM18.45,9,17,7.55Zm-12,3A5.31,5.31,0,0,0,4.9,8.1,5.31,5.31,0,0,0,1,6.5,5.31,5.31,0,0,0,4.9,4.9,5.31,5.31,0,0,0,6.5,1,5.31,5.31,0,0,0,8.1,4.9,5.31,5.31,0,0,0,12,6.5,5.46,5.46,0,0,0,6.5,12Z\"/>\n",
              "  </svg>\n",
              "    </button>\n",
              "    <script>\n",
              "      (() => {\n",
              "      const buttonEl =\n",
              "        document.querySelector('#id_6c487c97-1dc8-46ce-be9e-385d17a84705 button.colab-df-generate');\n",
              "      buttonEl.style.display =\n",
              "        google.colab.kernel.accessAllowed ? 'block' : 'none';\n",
              "\n",
              "      buttonEl.onclick = () => {\n",
              "        google.colab.notebook.generateWithVariable('car');\n",
              "      }\n",
              "      })();\n",
              "    </script>\n",
              "  </div>\n",
              "\n",
              "    </div>\n",
              "  </div>\n"
            ],
            "application/vnd.google.colaboratory.intrinsic+json": {
              "type": "dataframe",
              "variable_name": "car",
              "summary": "{\n  \"name\": \"car\",\n  \"rows\": 814,\n  \"fields\": [\n    {\n      \"column\": \"name\",\n      \"properties\": {\n        \"dtype\": \"string\",\n        \"num_unique_values\": 461,\n        \"samples\": [\n          \"Hyundai Elite i20 Asta 1.4 CRDI\",\n          \"Maruti Suzuki Baleno Delta 1.2\",\n          \"Maruti Suzuki SX4 ZXI MT\"\n        ],\n        \"semantic_type\": \"\",\n        \"description\": \"\"\n      }\n    },\n    {\n      \"column\": \"company\",\n      \"properties\": {\n        \"dtype\": \"category\",\n        \"num_unique_values\": 23,\n        \"samples\": [\n          \"Bmw\",\n          \"Datsun\",\n          \"Hyundai\"\n        ],\n        \"semantic_type\": \"\",\n        \"description\": \"\"\n      }\n    },\n    {\n      \"column\": \"year\",\n      \"properties\": {\n        \"dtype\": \"number\",\n        \"std\": 4,\n        \"min\": 1995,\n        \"max\": 2019,\n        \"num_unique_values\": 21,\n        \"samples\": [\n          2007,\n          2004,\n          2000\n        ],\n        \"semantic_type\": \"\",\n        \"description\": \"\"\n      }\n    },\n    {\n      \"column\": \"Price\",\n      \"properties\": {\n        \"dtype\": \"number\",\n        \"std\": 471684,\n        \"min\": 30000,\n        \"max\": 8500003,\n        \"num_unique_values\": 271,\n        \"samples\": [\n          280000,\n          355000,\n          450000\n        ],\n        \"semantic_type\": \"\",\n        \"description\": \"\"\n      }\n    },\n    {\n      \"column\": \"kms_driven\",\n      \"properties\": {\n        \"dtype\": \"number\",\n        \"std\": 34302,\n        \"min\": 0,\n        \"max\": 400000,\n        \"num_unique_values\": 245,\n        \"samples\": [\n          15487,\n          24530,\n          6020\n        ],\n        \"semantic_type\": \"\",\n        \"description\": \"\"\n      }\n    },\n    {\n      \"column\": \"fuel_type\",\n      \"properties\": {\n        \"dtype\": \"category\",\n        \"num_unique_values\": 3,\n        \"samples\": [\n          \"Petrol\",\n          \"Diesel\",\n          \"LPG\"\n        ],\n        \"semantic_type\": \"\",\n        \"description\": \"\"\n      }\n    }\n  ]\n}"
            }
          },
          "metadata": {},
          "execution_count": 280
        }
      ]
    },
    {
      "cell_type": "markdown",
      "source": [
        "##Exploratory data analysis (EDA)"
      ],
      "metadata": {
        "id": "S6sWaZInHeAW"
      }
    },
    {
      "cell_type": "markdown",
      "source": [
        "###Number Of Cars In Each Company"
      ],
      "metadata": {
        "id": "hSO-KxMGzMFB"
      }
    },
    {
      "cell_type": "code",
      "source": [
        "plt.figure(figsize=(12, 7))\n",
        "sns.countplot(x='company', data=car)\n",
        "plt.xticks(rotation=90)\n",
        "plt.yticks(range(0, car['company'].value_counts().max() + 1, 20))\n",
        "plt.show()"
      ],
      "metadata": {
        "id": "rX80G2fX5TFo",
        "outputId": "08e82d9d-3e8d-43ea-f015-666d8aa3d354",
        "colab": {
          "base_uri": "https://localhost:8080/",
          "height": 687
        }
      },
      "execution_count": 281,
      "outputs": [
        {
          "output_type": "display_data",
          "data": {
            "text/plain": [
              "<Figure size 1200x700 with 1 Axes>"
            ],
            "image/png": "[encoded data removed]"
          },
          "metadata": {}
        }
      ]
    },
    {
      "cell_type": "markdown",
      "source": [
        "**Conclusions:**\n",
        "\n",
        "\n",
        "\n",
        "*   Maruti is the most popular car company by far.\n",
        "*   Hyundai and Mahindra are the second and third most popular companies.\n",
        "*   There are a large number of car companies with very few cars in the dataset.\n",
        "\n",
        "\n",
        "\n"
      ],
      "metadata": {
        "id": "eNfjQnZ9zrrk"
      }
    },
    {
      "cell_type": "markdown",
      "source": [
        "###Year vs kms_driven"
      ],
      "metadata": {
        "id": "QFz0VyQYlPp-"
      }
    },
    {
      "source": [
        "def _plot_series(series, series_name, series_index=0):\n",
        "  palette = list(sns.palettes.mpl_palette('Dark2'))\n",
        "  xs = series['year']\n",
        "  ys = series['kms_driven']\n",
        "\n",
        "  plt.plot(xs, ys, label=series_name, color=palette[series_index % len(palette)])\n",
        "\n",
        "fig, ax = plt.subplots(figsize=(10, 5.2), layout='constrained')\n",
        "df_sorted = car.sort_values('year', ascending=True)\n",
        "for i, (series_name, series) in enumerate(df_sorted.groupby('fuel_type')):\n",
        "  _plot_series(series, series_name, i)\n",
        "  fig.legend(title='fuel_type', bbox_to_anchor=(1, 1), loc='upper left')\n",
        "sns.despine(fig=fig, ax=ax)\n",
        "plt.xlabel('year')\n",
        "_ = plt.ylabel('kms_driven')"
      ],
      "cell_type": "code",
      "execution_count": 282,
      "outputs": [
        {
          "output_type": "display_data",
          "data": {
            "text/plain": [
              "<Figure size 1000x520 with 1 Axes>"
            ],
            "image/png": "[encoded data removed]"
          },
          "metadata": {}
        }
      ],
      "metadata": {
        "colab": {
          "base_uri": "https://localhost:8080/",
          "height": 548
        },
        "id": "G4qx2YCZQo4M",
        "outputId": "92e0f6a9-5195-467a-e228-7abbd63c6a53"
      }
    },
    {
      "cell_type": "markdown",
      "source": [
        "**Conclusion:**\n",
        "\n",
        "\n",
        "*   1995-2000: Petrol cars show low and consistent mileage around 50,000 kilometers, with some minor variations. Diesel cars are less frequent with variable mileage.\n",
        "*   2000-2005: There is an increase in the variability of kilometers driven for both petrol and diesel cars, with petrol cars showing slightly higher mileage spikes.\n",
        "*   2005-2010: Both petrol and diesel cars exhibit high variability in mileage, with peaks reaching up to 200,000 kilometers. LPG cars start appearing with moderate mileage.\n",
        "*   2010-2015: The mileage for petrol and diesel cars continues to be highly variable, with some peaks exceeding 250,000 kilometers. LPG cars show limited data points with moderate mileage.\n",
        "*   2015-2020: The variability in mileage for petrol and diesel cars decreases slightly, with fewer extreme peaks. LPG cars are present but less frequent, maintaining moderate mileage.\n",
        "\n",
        "In summary, the plot shows significant variability in mileage for petrol and diesel cars over the years, with peaks during 2005-2015, while LPG cars consistently show moderate mileage.\n",
        "\n",
        "\n",
        "\n",
        "\n",
        "\n"
      ],
      "metadata": {
        "id": "jdUzBBiWR3fB"
      }
    },
    {
      "cell_type": "markdown",
      "source": [
        "###Fuel type vs kms_driven"
      ],
      "metadata": {
        "id": "uUxsUNGqlmjJ"
      }
    },
    {
      "source": [
        "figsize = (12, 1.2 * len(car['fuel_type'].unique()))\n",
        "plt.figure(figsize=figsize)\n",
        "sns.violinplot(car, x='kms_driven', y='fuel_type', inner='box', palette='Dark2')\n",
        "sns.despine(top=True, right=True, bottom=True, left=True)"
      ],
      "cell_type": "code",
      "execution_count": 283,
      "outputs": [
        {
          "output_type": "stream",
          "name": "stderr",
          "text": [
            "<ipython-input-283-f2bd820f0c48>:3: FutureWarning: \n",
            "\n",
            "Passing `palette` without assigning `hue` is deprecated and will be removed in v0.14.0. Assign the `y` variable to `hue` and set `legend=False` for the same effect.\n",
            "\n",
            "  sns.violinplot(car, x='kms_driven', y='fuel_type', inner='box', palette='Dark2')\n"
          ]
        },
        {
          "output_type": "display_data",
          "data": {
            "text/plain": [
              "<Figure size 1200x360 with 1 Axes>"
            ],
            "image/png": "[encoded data removed]"
          },
          "metadata": {}
        }
      ],
      "metadata": {
        "colab": {
          "base_uri": "https://localhost:8080/",
          "height": 448
        },
        "id": "nC6gXEssJfMI",
        "outputId": "4e980450-4e5e-47d1-b3b6-98f4bbb71b55"
      }
    },
    {
      "cell_type": "markdown",
      "source": [
        "**Conclusion:**\n",
        "\n",
        "*   Petrol Cars: Most petrol cars have been driven between 50,000 and 100,000 kilometers, with some outliers reaching up to 400,000 kilometers.\n",
        "*   Diesel Cars: Diesel cars typically have lower mileage than petrol cars, peaking around 50,000 kilometers, with some reaching up to 300,000 kilometers.\n",
        "*   LPG Cars: LPG cars have a consistent mileage distribution, mostly between 50,000 and 100,000 kilometers, without extreme high-mileage outliers.\n",
        "\n",
        "\n",
        "\n",
        "\n",
        "\n",
        "\n",
        "\n",
        "\n",
        "\n"
      ],
      "metadata": {
        "id": "HitG03ASLePI"
      }
    },
    {
      "cell_type": "markdown",
      "source": [
        "###Year Distribution"
      ],
      "metadata": {
        "id": "QinKBqM0lvkm"
      }
    },
    {
      "source": [
        "car['year'].plot(kind='hist', bins=20, title='Year Distribution')\n",
        "plt.xlabel('Year')\n",
        "plt.ylabel('Number of Cars')\n",
        "plt.gca().spines[['top', 'right']].set_visible(False)\n",
        "plt.grid(True)\n",
        "plt.show()"
      ],
      "cell_type": "code",
      "execution_count": 284,
      "outputs": [
        {
          "output_type": "display_data",
          "data": {
            "text/plain": [
              "<Figure size 640x480 with 1 Axes>"
            ],
            "image/png": "[encoded data removed]"
          },
          "metadata": {}
        }
      ],
      "metadata": {
        "colab": {
          "base_uri": "https://localhost:8080/",
          "height": 472
        },
        "id": "5UcxRo2tGRMB",
        "outputId": "805a2abc-1b57-44c4-e969-1b457fd69539"
      }
    },
    {
      "cell_type": "markdown",
      "source": [
        "**Conclusion:**\n",
        "\n",
        "1995 to 2005, indicating older models are rare. There is a gradual increase in cars from 2005 to 2010, reflecting a growing presence of mid-2000s models. The number of cars peaks sharply between 2010 and 2015, with 2014 being the most represented year, suggesting a high volume of cars from this period. After 2015, the number of cars starts to decline but still shows a significant presence of recent models up to 2020.\n",
        "\n"
      ],
      "metadata": {
        "id": "91dM32zvPP_I"
      }
    },
    {
      "cell_type": "markdown",
      "source": [
        "###Fuel Type Distribution"
      ],
      "metadata": {
        "id": "0NoIZfqZlzn-"
      }
    },
    {
      "source": [
        "fuel_type_counts = car['fuel_type'].value_counts()\n",
        "fuel_type_counts.plot(kind='bar', figsize=(8, 4), title='Fuel Type Distribution')\n",
        "plt.xlabel('Fuel Type')\n",
        "plt.ylabel('Number of Cars')\n",
        "plt.gca().spines[['top', 'right']].set_visible(False)\n",
        "plt.grid(True)\n",
        "plt.show()"
      ],
      "cell_type": "code",
      "execution_count": 285,
      "outputs": [
        {
          "output_type": "display_data",
          "data": {
            "text/plain": [
              "<Figure size 800x400 with 1 Axes>"
            ],
            "image/png": "[encoded data removed]"
          },
          "metadata": {}
        }
      ],
      "metadata": {
        "colab": {
          "base_uri": "https://localhost:8080/",
          "height": 439
        },
        "id": "oxcAWBs9HXQ9",
        "outputId": "ac22ab83-211b-4d1b-8df0-2f89120a6443"
      }
    },
    {
      "cell_type": "markdown",
      "source": [
        "**Conclusion:**\n",
        "\n",
        "*   Number of Petrol Cars: Petrol cars are the most common in the dataset, with over 400 cars.\n",
        "*   Number of Diesel Cars: Diesel cars are also well-represented, with just slightly fewer than petrol cars, totaling slightly below 400 cars.\n",
        "*   Number of LPG Cars: LPG cars are rare in the dataset, with fewer than 50 cars.\n",
        "\n",
        "\n",
        "\n",
        "\n",
        "\n",
        "\n"
      ],
      "metadata": {
        "id": "ohp6Mt3SRdOm"
      }
    },
    {
      "cell_type": "markdown",
      "source": [
        "###Checking Relationships with Price"
      ],
      "metadata": {
        "id": "E-U9S85gmM4q"
      }
    },
    {
      "cell_type": "markdown",
      "source": [
        "####Year vs Price"
      ],
      "metadata": {
        "id": "3bL3XEaVl4cG"
      }
    },
    {
      "cell_type": "code",
      "source": [
        "car.plot(kind='scatter', x='year', y='Price', s=32, alpha=.6)\n",
        "plt.gca().spines[['top', 'right',]].set_visible(False)"
      ],
      "metadata": {
        "id": "xUJhM7ygQDBl",
        "outputId": "97a7b711-450e-4c00-cba4-366ac72d1d64",
        "colab": {
          "base_uri": "https://localhost:8080/",
          "height": 465
        }
      },
      "execution_count": 286,
      "outputs": [
        {
          "output_type": "display_data",
          "data": {
            "text/plain": [
              "<Figure size 640x480 with 1 Axes>"
            ],
            "image/png": "[encoded data removed]"
          },
          "metadata": {}
        }
      ]
    },
    {
      "cell_type": "markdown",
      "source": [
        "**Conclusion:**\n",
        "\n",
        "*   1995-2000: Car prices are generally low, with very few high-priced outliers.\n",
        "*   2000-2005: There is a slight increase in the number of cars, with prices remaining relatively low.\n",
        "*   2005-2010: Car prices start to increase, with a more significant number of higher-priced cars appearing.\n",
        "*   2010-2015: There is a noticeable rise in both the number of cars and their prices, with many cars priced between 1,000,000 and 2,000,000 units.\n",
        "* 2015-2020: While the number of cars remains high, there is a mix of prices, with some cars priced above 2,000,000 units and a few outliers reaching up to 8,000,000 units.\n",
        "\n",
        "\n",
        "\n",
        "\n",
        "\n",
        "\n",
        "\n",
        "\n",
        "\n",
        "\n"
      ],
      "metadata": {
        "id": "Sp6CA3AAQ3_z"
      }
    },
    {
      "cell_type": "markdown",
      "source": [
        "####Kilometers driven vs Price"
      ],
      "metadata": {
        "id": "dbQIv9jAl66C"
      }
    },
    {
      "source": [
        "car.plot(kind='scatter', x='Price', y='kms_driven', s=32, alpha=0.8)\n",
        "plt.xlabel('Price')\n",
        "plt.ylabel('Kilometers Driven')\n",
        "plt.gca().spines[['top', 'right']].set_visible(False)\n",
        "plt.grid(True)\n",
        "plt.show()"
      ],
      "cell_type": "code",
      "execution_count": 287,
      "outputs": [
        {
          "output_type": "display_data",
          "data": {
            "text/plain": [
              "<Figure size 640x480 with 1 Axes>"
            ],
            "image/png": "[encoded data removed]"
          },
          "metadata": {}
        }
      ],
      "metadata": {
        "colab": {
          "base_uri": "https://localhost:8080/",
          "height": 449
        },
        "id": "QgAu0EdxJkOA",
        "outputId": "b58b7913-b512-4d3a-ab10-654bdcc5b439"
      }
    },
    {
      "cell_type": "markdown",
      "source": [
        "**Conclusion:**\n",
        "\n",
        "\n",
        "*   High Price Outlier: There is a single point around 8,000,000 units for the price and approximately 100,000 kilometers driven. This indicates a high-value car that has moderate mileage.\n",
        "*   High Mileage Outlier: Another single point stands out at around 400,000 kilometers driven with a price below 2,000,000 units. This is likely a vehicle with extremely high usage, reflecting a low resale value due to the high mileage.\n",
        "\n",
        "\n",
        "\n",
        "\n",
        "\n",
        "\n",
        "\n",
        "\n",
        "\n",
        "The high-price outlier might be a luxury vehicle that retains significant value despite its mileage.\n",
        "The high-mileage outlier represents a car that has been used extensively, resulting in a lower market price."
      ],
      "metadata": {
        "id": "KdjhMqOEJX0x"
      }
    },
    {
      "cell_type": "markdown",
      "source": [
        "####Fuel type vs Price"
      ],
      "metadata": {
        "id": "U-MdAW8mmAor"
      }
    },
    {
      "source": [
        "figsize = (12, 1.2 * len(car['fuel_type'].unique()))\n",
        "plt.figure(figsize=figsize)\n",
        "sns.violinplot(car, x='Price', y='fuel_type', inner='box', palette='Dark2')\n",
        "sns.despine(top=True, right=True, bottom=True, left=True)"
      ],
      "cell_type": "code",
      "execution_count": 288,
      "outputs": [
        {
          "output_type": "stream",
          "name": "stderr",
          "text": [
            "<ipython-input-288-8272dfadbd08>:3: FutureWarning: \n",
            "\n",
            "Passing `palette` without assigning `hue` is deprecated and will be removed in v0.14.0. Assign the `y` variable to `hue` and set `legend=False` for the same effect.\n",
            "\n",
            "  sns.violinplot(car, x='Price', y='fuel_type', inner='box', palette='Dark2')\n"
          ]
        },
        {
          "output_type": "display_data",
          "data": {
            "text/plain": [
              "<Figure size 1200x360 with 1 Axes>"
            ],
            "image/png": "[encoded data removed]"
          },
          "metadata": {}
        }
      ],
      "metadata": {
        "colab": {
          "base_uri": "https://localhost:8080/",
          "height": 448
        },
        "id": "0ax2Ln_mJItI",
        "outputId": "ea6841b4-6b97-49c9-c01f-1079484266cc"
      }
    },
    {
      "cell_type": "markdown",
      "source": [
        "**Conclusion:**\n",
        "\n",
        "\n",
        "*   Petrol Cars: The prices of petrol cars are widely distributed, with most prices concentrated below 2,000,000 units.\n",
        "*   Diesel Cars: Diesel cars also show a wide price distribution, but the majority of prices are below 1,500,000 units.\n",
        "*   LPG Cars: LPG cars have a much narrower price range, with most prices concentrated below 500,000 units.\n",
        "\n",
        "\n",
        "\n"
      ],
      "metadata": {
        "id": "xsA6DJoLM6jC"
      }
    },
    {
      "cell_type": "markdown",
      "source": [
        "####Company vs Price"
      ],
      "metadata": {
        "id": "XvlPes94mXM_"
      }
    },
    {
      "cell_type": "code",
      "source": [
        "car['company'].nunique()"
      ],
      "metadata": {
        "colab": {
          "base_uri": "https://localhost:8080/"
        },
        "id": "S9z3RP2mmhOB",
        "outputId": "d20d2a77-ab7b-40a5-b251-93c85dbdd3dc"
      },
      "execution_count": 289,
      "outputs": [
        {
          "output_type": "execute_result",
          "data": {
            "text/plain": [
              "23"
            ]
          },
          "metadata": {},
          "execution_count": 289
        }
      ]
    },
    {
      "cell_type": "code",
      "source": [
        "plt.subplots(figsize=(15,7))\n",
        "ax=sns.boxplot(x='company',y='Price',data=car)\n",
        "ax.set_xticklabels(ax.get_xticklabels(),rotation=40,ha='right')\n",
        "plt.yscale('log')\n",
        "plt.show()"
      ],
      "metadata": {
        "colab": {
          "base_uri": "https://localhost:8080/",
          "height": 704
        },
        "id": "e7c8mbuXn0PC",
        "outputId": "5fbf6511-c95c-4db4-d243-2d377121a3b0"
      },
      "execution_count": 290,
      "outputs": [
        {
          "output_type": "stream",
          "name": "stderr",
          "text": [
            "<ipython-input-290-97b9b5bfec60>:3: UserWarning: FixedFormatter should only be used together with FixedLocator\n",
            "  ax.set_xticklabels(ax.get_xticklabels(),rotation=40,ha='right')\n"
          ]
        },
        {
          "output_type": "display_data",
          "data": {
            "text/plain": [
              "<Figure size 1500x700 with 1 Axes>"
            ],
            "image/png": "[encoded data removed]"
          },
          "metadata": {}
        }
      ]
    },
    {
      "cell_type": "markdown",
      "source": [
        "**Conclusion:**\n",
        "\n",
        "\n",
        "\n",
        "*   Price Distribution: Some companies have a wider price range, indicating a diverse product lineup, while others have a narrower range, suggesting a focus on specific price segments.\n",
        "*   Luxury Brands: Brands like BMW, Audi, and Mercedes-Benz generally command higher prices compared to other brands.\n",
        "\n",
        "\n",
        "*   Budget-Friendly Brands: Brands like Maruti, Hyundai, and Mahindra tend to have lower price ranges.\n",
        "*   Outliers: Some outliers are present potentially due to limited editions, special features, or high demand.\n",
        "\n",
        "\n",
        "\n"
      ],
      "metadata": {
        "id": "tu1j5NZBosbt"
      }
    },
    {
      "cell_type": "markdown",
      "source": [
        "##Feature Engineering"
      ],
      "metadata": {
        "id": "wybRJXjOtbi1"
      }
    },
    {
      "cell_type": "code",
      "source": [
        "car"
      ],
      "metadata": {
        "id": "IRroBnFT9WSS",
        "outputId": "8ba6c53a-1b97-4b4d-8e19-f67849a2f7f2",
        "colab": {
          "base_uri": "https://localhost:8080/",
          "height": 423
        }
      },
      "execution_count": 291,
      "outputs": [
        {
          "output_type": "execute_result",
          "data": {
            "text/plain": [
              "                                       name   company  year   Price  \\\n",
              "0      Hyundai Santro Xing XO eRLX Euro III   Hyundai  2007   80000   \n",
              "1                   Mahindra Jeep CL550 MDI  Mahindra  2006  425000   \n",
              "3    Hyundai Grand i10 Magna 1.2 Kappa VTVT   Hyundai  2014  325000   \n",
              "4          Ford EcoSport Titanium 1.5L TDCi      Ford  2014  575000   \n",
              "6                                 Ford Figo      Ford  2012  175000   \n",
              "..                                      ...       ...   ...     ...   \n",
              "883              Maruti Suzuki Ritz VXI ABS    Maruti  2011  270000   \n",
              "885               Tata Indica V2 DLE BS III      Tata  2009  110000   \n",
              "886                    Toyota Corolla Altis    Toyota  2009  300000   \n",
              "888                     Tata Zest XM Diesel      Tata  2018  260000   \n",
              "889                      Mahindra Quanto C8  Mahindra  2013  390000   \n",
              "\n",
              "     kms_driven fuel_type  \n",
              "0         45000    Petrol  \n",
              "1            40    Diesel  \n",
              "3         28000    Petrol  \n",
              "4         36000    Diesel  \n",
              "6         41000    Diesel  \n",
              "..          ...       ...  \n",
              "883       50000    Petrol  \n",
              "885       30000    Diesel  \n",
              "886      132000    Petrol  \n",
              "888       27000    Diesel  \n",
              "889       40000    Diesel  \n",
              "\n",
              "[814 rows x 6 columns]"
            ],
            "text/html": [
              "\n",
              "  <div id=\"df-183aca1a-1cc5-4e9f-adab-08ad0bd161c1\" class=\"colab-df-container\">\n",
              "    <div>\n",
              "<style scoped>\n",
              "    .dataframe tbody tr th:only-of-type {\n",
              "        vertical-align: middle;\n",
              "    }\n",
              "\n",
              "    .dataframe tbody tr th {\n",
              "        vertical-align: top;\n",
              "    }\n",
              "\n",
              "    .dataframe thead th {\n",
              "        text-align: right;\n",
              "    }\n",
              "</style>\n",
              "<table border=\"1\" class=\"dataframe\">\n",
              "  <thead>\n",
              "    <tr style=\"text-align: right;\">\n",
              "      <th></th>\n",
              "      <th>name</th>\n",
              "      <th>company</th>\n",
              "      <th>year</th>\n",
              "      <th>Price</th>\n",
              "      <th>kms_driven</th>\n",
              "      <th>fuel_type</th>\n",
              "    </tr>\n",
              "  </thead>\n",
              "  <tbody>\n",
              "    <tr>\n",
              "      <th>0</th>\n",
              "      <td>Hyundai Santro Xing XO eRLX Euro III</td>\n",
              "      <td>Hyundai</td>\n",
              "      <td>2007</td>\n",
              "      <td>80000</td>\n",
              "      <td>45000</td>\n",
              "      <td>Petrol</td>\n",
              "    </tr>\n",
              "    <tr>\n",
              "      <th>1</th>\n",
              "      <td>Mahindra Jeep CL550 MDI</td>\n",
              "      <td>Mahindra</td>\n",
              "      <td>2006</td>\n",
              "      <td>425000</td>\n",
              "      <td>40</td>\n",
              "      <td>Diesel</td>\n",
              "    </tr>\n",
              "    <tr>\n",
              "      <th>3</th>\n",
              "      <td>Hyundai Grand i10 Magna 1.2 Kappa VTVT</td>\n",
              "      <td>Hyundai</td>\n",
              "      <td>2014</td>\n",
              "      <td>325000</td>\n",
              "      <td>28000</td>\n",
              "      <td>Petrol</td>\n",
              "    </tr>\n",
              "    <tr>\n",
              "      <th>4</th>\n",
              "      <td>Ford EcoSport Titanium 1.5L TDCi</td>\n",
              "      <td>Ford</td>\n",
              "      <td>2014</td>\n",
              "      <td>575000</td>\n",
              "      <td>36000</td>\n",
              "      <td>Diesel</td>\n",
              "    </tr>\n",
              "    <tr>\n",
              "      <th>6</th>\n",
              "      <td>Ford Figo</td>\n",
              "      <td>Ford</td>\n",
              "      <td>2012</td>\n",
              "      <td>175000</td>\n",
              "      <td>41000</td>\n",
              "      <td>Diesel</td>\n",
              "    </tr>\n",
              "    <tr>\n",
              "      <th>...</th>\n",
              "      <td>...</td>\n",
              "      <td>...</td>\n",
              "      <td>...</td>\n",
              "      <td>...</td>\n",
              "      <td>...</td>\n",
              "      <td>...</td>\n",
              "    </tr>\n",
              "    <tr>\n",
              "      <th>883</th>\n",
              "      <td>Maruti Suzuki Ritz VXI ABS</td>\n",
              "      <td>Maruti</td>\n",
              "      <td>2011</td>\n",
              "      <td>270000</td>\n",
              "      <td>50000</td>\n",
              "      <td>Petrol</td>\n",
              "    </tr>\n",
              "    <tr>\n",
              "      <th>885</th>\n",
              "      <td>Tata Indica V2 DLE BS III</td>\n",
              "      <td>Tata</td>\n",
              "      <td>2009</td>\n",
              "      <td>110000</td>\n",
              "      <td>30000</td>\n",
              "      <td>Diesel</td>\n",
              "    </tr>\n",
              "    <tr>\n",
              "      <th>886</th>\n",
              "      <td>Toyota Corolla Altis</td>\n",
              "      <td>Toyota</td>\n",
              "      <td>2009</td>\n",
              "      <td>300000</td>\n",
              "      <td>132000</td>\n",
              "      <td>Petrol</td>\n",
              "    </tr>\n",
              "    <tr>\n",
              "      <th>888</th>\n",
              "      <td>Tata Zest XM Diesel</td>\n",
              "      <td>Tata</td>\n",
              "      <td>2018</td>\n",
              "      <td>260000</td>\n",
              "      <td>27000</td>\n",
              "      <td>Diesel</td>\n",
              "    </tr>\n",
              "    <tr>\n",
              "      <th>889</th>\n",
              "      <td>Mahindra Quanto C8</td>\n",
              "      <td>Mahindra</td>\n",
              "      <td>2013</td>\n",
              "      <td>390000</td>\n",
              "      <td>40000</td>\n",
              "      <td>Diesel</td>\n",
              "    </tr>\n",
              "  </tbody>\n",
              "</table>\n",
              "<p>814 rows × 6 columns</p>\n",
              "</div>\n",
              "    <div class=\"colab-df-buttons\">\n",
              "\n",
              "  <div class=\"colab-df-container\">\n",
              "    <button class=\"colab-df-convert\" onclick=\"convertToInteractive('df-183aca1a-1cc5-4e9f-adab-08ad0bd161c1')\"\n",
              "            title=\"Convert this dataframe to an interactive table.\"\n",
              "            style=\"display:none;\">\n",
              "\n",
              "  <svg xmlns=\"http://www.w3.org/2000/svg\" height=\"24px\" viewBox=\"0 -960 960 960\">\n",
              "    <path d=\"M120-120v-720h720v720H120Zm60-500h600v-160H180v160Zm220 220h160v-160H400v160Zm0 220h160v-160H400v160ZM180-400h160v-160H180v160Zm440 0h160v-160H620v160ZM180-180h160v-160H180v160Zm440 0h160v-160H620v160Z\"/>\n",
              "  </svg>\n",
              "    </button>\n",
              "\n",
              "  <style>\n",
              "    .colab-df-container {\n",
              "      display:flex;\n",
              "      gap: 12px;\n",
              "    }\n",
              "\n",
              "    .colab-df-convert {\n",
              "      background-color: #E8F0FE;\n",
              "      border: none;\n",
              "      border-radius: 50%;\n",
              "      cursor: pointer;\n",
              "      display: none;\n",
              "      fill: #1967D2;\n",
              "      height: 32px;\n",
              "      padding: 0 0 0 0;\n",
              "      width: 32px;\n",
              "    }\n",
              "\n",
              "    .colab-df-convert:hover {\n",
              "      background-color: #E2EBFA;\n",
              "      box-shadow: 0px 1px 2px rgba(60, 64, 67, 0.3), 0px 1px 3px 1px rgba(60, 64, 67, 0.15);\n",
              "      fill: #174EA6;\n",
              "    }\n",
              "\n",
              "    .colab-df-buttons div {\n",
              "      margin-bottom: 4px;\n",
              "    }\n",
              "\n",
              "    [theme=dark] .colab-df-convert {\n",
              "      background-color: #3B4455;\n",
              "      fill: #D2E3FC;\n",
              "    }\n",
              "\n",
              "    [theme=dark] .colab-df-convert:hover {\n",
              "      background-color: #434B5C;\n",
              "      box-shadow: 0px 1px 3px 1px rgba(0, 0, 0, 0.15);\n",
              "      filter: drop-shadow(0px 1px 2px rgba(0, 0, 0, 0.3));\n",
              "      fill: #FFFFFF;\n",
              "    }\n",
              "  </style>\n",
              "\n",
              "    <script>\n",
              "      const buttonEl =\n",
              "        document.querySelector('#df-183aca1a-1cc5-4e9f-adab-08ad0bd161c1 button.colab-df-convert');\n",
              "      buttonEl.style.display =\n",
              "        google.colab.kernel.accessAllowed ? 'block' : 'none';\n",
              "\n",
              "      async function convertToInteractive(key) {\n",
              "        const element = document.querySelector('#df-183aca1a-1cc5-4e9f-adab-08ad0bd161c1');\n",
              "        const dataTable =\n",
              "          await google.colab.kernel.invokeFunction('convertToInteractive',\n",
              "                                                    [key], {});\n",
              "        if (!dataTable) return;\n",
              "\n",
              "        const docLinkHtml = 'Like what you see? Visit the ' +\n",
              "          '<a target=\"_blank\" href=https://colab.research.google.com/notebooks/data_table.ipynb>data table notebook</a>'\n",
              "          + ' to learn more about interactive tables.';\n",
              "        element.innerHTML = '';\n",
              "        dataTable['output_type'] = 'display_data';\n",
              "        await google.colab.output.renderOutput(dataTable, element);\n",
              "        const docLink = document.createElement('div');\n",
              "        docLink.innerHTML = docLinkHtml;\n",
              "        element.appendChild(docLink);\n",
              "      }\n",
              "    </script>\n",
              "  </div>\n",
              "\n",
              "\n",
              "<div id=\"df-60007f52-58dc-4f32-ac69-8e19d1010880\">\n",
              "  <button class=\"colab-df-quickchart\" onclick=\"quickchart('df-60007f52-58dc-4f32-ac69-8e19d1010880')\"\n",
              "            title=\"Suggest charts\"\n",
              "            style=\"display:none;\">\n",
              "\n",
              "<svg xmlns=\"http://www.w3.org/2000/svg\" height=\"24px\"viewBox=\"0 0 24 24\"\n",
              "     width=\"24px\">\n",
              "    <g>\n",
              "        <path d=\"M19 3H5c-1.1 0-2 .9-2 2v14c0 1.1.9 2 2 2h14c1.1 0 2-.9 2-2V5c0-1.1-.9-2-2-2zM9 17H7v-7h2v7zm4 0h-2V7h2v10zm4 0h-2v-4h2v4z\"/>\n",
              "    </g>\n",
              "</svg>\n",
              "  </button>\n",
              "\n",
              "<style>\n",
              "  .colab-df-quickchart {\n",
              "      --bg-color: #E8F0FE;\n",
              "      --fill-color: #1967D2;\n",
              "      --hover-bg-color: #E2EBFA;\n",
              "      --hover-fill-color: #174EA6;\n",
              "      --disabled-fill-color: #AAA;\n",
              "      --disabled-bg-color: #DDD;\n",
              "  }\n",
              "\n",
              "  [theme=dark] .colab-df-quickchart {\n",
              "      --bg-color: #3B4455;\n",
              "      --fill-color: #D2E3FC;\n",
              "      --hover-bg-color: #434B5C;\n",
              "      --hover-fill-color: #FFFFFF;\n",
              "      --disabled-bg-color: #3B4455;\n",
              "      --disabled-fill-color: #666;\n",
              "  }\n",
              "\n",
              "  .colab-df-quickchart {\n",
              "    background-color: var(--bg-color);\n",
              "    border: none;\n",
              "    border-radius: 50%;\n",
              "    cursor: pointer;\n",
              "    display: none;\n",
              "    fill: var(--fill-color);\n",
              "    height: 32px;\n",
              "    padding: 0;\n",
              "    width: 32px;\n",
              "  }\n",
              "\n",
              "  .colab-df-quickchart:hover {\n",
              "    background-color: var(--hover-bg-color);\n",
              "    box-shadow: 0 1px 2px rgba(60, 64, 67, 0.3), 0 1px 3px 1px rgba(60, 64, 67, 0.15);\n",
              "    fill: var(--button-hover-fill-color);\n",
              "  }\n",
              "\n",
              "  .colab-df-quickchart-complete:disabled,\n",
              "  .colab-df-quickchart-complete:disabled:hover {\n",
              "    background-color: var(--disabled-bg-color);\n",
              "    fill: var(--disabled-fill-color);\n",
              "    box-shadow: none;\n",
              "  }\n",
              "\n",
              "  .colab-df-spinner {\n",
              "    border: 2px solid var(--fill-color);\n",
              "    border-color: transparent;\n",
              "    border-bottom-color: var(--fill-color);\n",
              "    animation:\n",
              "      spin 1s steps(1) infinite;\n",
              "  }\n",
              "\n",
              "  @keyframes spin {\n",
              "    0% {\n",
              "      border-color: transparent;\n",
              "      border-bottom-color: var(--fill-color);\n",
              "      border-left-color: var(--fill-color);\n",
              "    }\n",
              "    20% {\n",
              "      border-color: transparent;\n",
              "      border-left-color: var(--fill-color);\n",
              "      border-top-color: var(--fill-color);\n",
              "    }\n",
              "    30% {\n",
              "      border-color: transparent;\n",
              "      border-left-color: var(--fill-color);\n",
              "      border-top-color: var(--fill-color);\n",
              "      border-right-color: var(--fill-color);\n",
              "    }\n",
              "    40% {\n",
              "      border-color: transparent;\n",
              "      border-right-color: var(--fill-color);\n",
              "      border-top-color: var(--fill-color);\n",
              "    }\n",
              "    60% {\n",
              "      border-color: transparent;\n",
              "      border-right-color: var(--fill-color);\n",
              "    }\n",
              "    80% {\n",
              "      border-color: transparent;\n",
              "      border-right-color: var(--fill-color);\n",
              "      border-bottom-color: var(--fill-color);\n",
              "    }\n",
              "    90% {\n",
              "      border-color: transparent;\n",
              "      border-bottom-color: var(--fill-color);\n",
              "    }\n",
              "  }\n",
              "</style>\n",
              "\n",
              "  <script>\n",
              "    async function quickchart(key) {\n",
              "      const quickchartButtonEl =\n",
              "        document.querySelector('#' + key + ' button');\n",
              "      quickchartButtonEl.disabled = true;  // To prevent multiple clicks.\n",
              "      quickchartButtonEl.classList.add('colab-df-spinner');\n",
              "      try {\n",
              "        const charts = await google.colab.kernel.invokeFunction(\n",
              "            'suggestCharts', [key], {});\n",
              "      } catch (error) {\n",
              "        console.error('Error during call to suggestCharts:', error);\n",
              "      }\n",
              "      quickchartButtonEl.classList.remove('colab-df-spinner');\n",
              "      quickchartButtonEl.classList.add('colab-df-quickchart-complete');\n",
              "    }\n",
              "    (() => {\n",
              "      let quickchartButtonEl =\n",
              "        document.querySelector('#df-60007f52-58dc-4f32-ac69-8e19d1010880 button');\n",
              "      quickchartButtonEl.style.display =\n",
              "        google.colab.kernel.accessAllowed ? 'block' : 'none';\n",
              "    })();\n",
              "  </script>\n",
              "</div>\n",
              "\n",
              "  <div id=\"id_1a79810a-dad1-4b07-98f7-c659fce214f5\">\n",
              "    <style>\n",
              "      .colab-df-generate {\n",
              "        background-color: #E8F0FE;\n",
              "        border: none;\n",
              "        border-radius: 50%;\n",
              "        cursor: pointer;\n",
              "        display: none;\n",
              "        fill: #1967D2;\n",
              "        height: 32px;\n",
              "        padding: 0 0 0 0;\n",
              "        width: 32px;\n",
              "      }\n",
              "\n",
              "      .colab-df-generate:hover {\n",
              "        background-color: #E2EBFA;\n",
              "        box-shadow: 0px 1px 2px rgba(60, 64, 67, 0.3), 0px 1px 3px 1px rgba(60, 64, 67, 0.15);\n",
              "        fill: #174EA6;\n",
              "      }\n",
              "\n",
              "      [theme=dark] .colab-df-generate {\n",
              "        background-color: #3B4455;\n",
              "        fill: #D2E3FC;\n",
              "      }\n",
              "\n",
              "      [theme=dark] .colab-df-generate:hover {\n",
              "        background-color: #434B5C;\n",
              "        box-shadow: 0px 1px 3px 1px rgba(0, 0, 0, 0.15);\n",
              "        filter: drop-shadow(0px 1px 2px rgba(0, 0, 0, 0.3));\n",
              "        fill: #FFFFFF;\n",
              "      }\n",
              "    </style>\n",
              "    <button class=\"colab-df-generate\" onclick=\"generateWithVariable('car')\"\n",
              "            title=\"Generate code using this dataframe.\"\n",
              "            style=\"display:none;\">\n",
              "\n",
              "  <svg xmlns=\"http://www.w3.org/2000/svg\" height=\"24px\"viewBox=\"0 0 24 24\"\n",
              "       width=\"24px\">\n",
              "    <path d=\"M7,19H8.4L18.45,9,17,7.55,7,17.6ZM5,21V16.75L18.45,3.32a2,2,0,0,1,2.83,0l1.4,1.43a1.91,1.91,0,0,1,.58,1.4,1.91,1.91,0,0,1-.58,1.4L9.25,21ZM18.45,9,17,7.55Zm-12,3A5.31,5.31,0,0,0,4.9,8.1,5.31,5.31,0,0,0,1,6.5,5.31,5.31,0,0,0,4.9,4.9,5.31,5.31,0,0,0,6.5,1,5.31,5.31,0,0,0,8.1,4.9,5.31,5.31,0,0,0,12,6.5,5.46,5.46,0,0,0,6.5,12Z\"/>\n",
              "  </svg>\n",
              "    </button>\n",
              "    <script>\n",
              "      (() => {\n",
              "      const buttonEl =\n",
              "        document.querySelector('#id_1a79810a-dad1-4b07-98f7-c659fce214f5 button.colab-df-generate');\n",
              "      buttonEl.style.display =\n",
              "        google.colab.kernel.accessAllowed ? 'block' : 'none';\n",
              "\n",
              "      buttonEl.onclick = () => {\n",
              "        google.colab.notebook.generateWithVariable('car');\n",
              "      }\n",
              "      })();\n",
              "    </script>\n",
              "  </div>\n",
              "\n",
              "    </div>\n",
              "  </div>\n"
            ],
            "application/vnd.google.colaboratory.intrinsic+json": {
              "type": "dataframe",
              "variable_name": "car",
              "summary": "{\n  \"name\": \"car\",\n  \"rows\": 814,\n  \"fields\": [\n    {\n      \"column\": \"name\",\n      \"properties\": {\n        \"dtype\": \"string\",\n        \"num_unique_values\": 461,\n        \"samples\": [\n          \"Hyundai Elite i20 Asta 1.4 CRDI\",\n          \"Maruti Suzuki Baleno Delta 1.2\",\n          \"Maruti Suzuki SX4 ZXI MT\"\n        ],\n        \"semantic_type\": \"\",\n        \"description\": \"\"\n      }\n    },\n    {\n      \"column\": \"company\",\n      \"properties\": {\n        \"dtype\": \"category\",\n        \"num_unique_values\": 23,\n        \"samples\": [\n          \"Bmw\",\n          \"Datsun\",\n          \"Hyundai\"\n        ],\n        \"semantic_type\": \"\",\n        \"description\": \"\"\n      }\n    },\n    {\n      \"column\": \"year\",\n      \"properties\": {\n        \"dtype\": \"number\",\n        \"std\": 4,\n        \"min\": 1995,\n        \"max\": 2019,\n        \"num_unique_values\": 21,\n        \"samples\": [\n          2007,\n          2004,\n          2000\n        ],\n        \"semantic_type\": \"\",\n        \"description\": \"\"\n      }\n    },\n    {\n      \"column\": \"Price\",\n      \"properties\": {\n        \"dtype\": \"number\",\n        \"std\": 471684,\n        \"min\": 30000,\n        \"max\": 8500003,\n        \"num_unique_values\": 271,\n        \"samples\": [\n          280000,\n          355000,\n          450000\n        ],\n        \"semantic_type\": \"\",\n        \"description\": \"\"\n      }\n    },\n    {\n      \"column\": \"kms_driven\",\n      \"properties\": {\n        \"dtype\": \"number\",\n        \"std\": 34302,\n        \"min\": 0,\n        \"max\": 400000,\n        \"num_unique_values\": 245,\n        \"samples\": [\n          15487,\n          24530,\n          6020\n        ],\n        \"semantic_type\": \"\",\n        \"description\": \"\"\n      }\n    },\n    {\n      \"column\": \"fuel_type\",\n      \"properties\": {\n        \"dtype\": \"category\",\n        \"num_unique_values\": 3,\n        \"samples\": [\n          \"Petrol\",\n          \"Diesel\",\n          \"LPG\"\n        ],\n        \"semantic_type\": \"\",\n        \"description\": \"\"\n      }\n    }\n  ]\n}"
            }
          },
          "metadata": {},
          "execution_count": 291
        }
      ]
    },
    {
      "cell_type": "code",
      "source": [
        "#X = car.drop(columns='Price')\n",
        "X = car"
      ],
      "metadata": {
        "id": "4WhVDVLjteTA"
      },
      "execution_count": 292,
      "outputs": []
    },
    {
      "cell_type": "code",
      "source": [
        "X.shape"
      ],
      "metadata": {
        "id": "NRHyRHWw2KF0",
        "outputId": "d783a38f-b326-4ce1-ec09-435e422ece0d",
        "colab": {
          "base_uri": "https://localhost:8080/"
        }
      },
      "execution_count": 293,
      "outputs": [
        {
          "output_type": "execute_result",
          "data": {
            "text/plain": [
              "(814, 6)"
            ]
          },
          "metadata": {},
          "execution_count": 293
        }
      ]
    },
    {
      "cell_type": "code",
      "source": [
        "y = car['Price']\n",
        "y"
      ],
      "metadata": {
        "id": "GVU31oTwtjuw",
        "outputId": "b1e1b407-f44f-4404-9564-2a3772f709a9",
        "colab": {
          "base_uri": "https://localhost:8080/"
        }
      },
      "execution_count": 294,
      "outputs": [
        {
          "output_type": "execute_result",
          "data": {
            "text/plain": [
              "0       80000\n",
              "1      425000\n",
              "3      325000\n",
              "4      575000\n",
              "6      175000\n",
              "        ...  \n",
              "883    270000\n",
              "885    110000\n",
              "886    300000\n",
              "888    260000\n",
              "889    390000\n",
              "Name: Price, Length: 814, dtype: int64"
            ]
          },
          "metadata": {},
          "execution_count": 294
        }
      ]
    },
    {
      "cell_type": "code",
      "source": [
        "y.shape"
      ],
      "metadata": {
        "id": "lP2gcKc32L1s",
        "outputId": "89bd787d-4e9d-4b95-9db3-383c8b807c4a",
        "colab": {
          "base_uri": "https://localhost:8080/"
        }
      },
      "execution_count": 295,
      "outputs": [
        {
          "output_type": "execute_result",
          "data": {
            "text/plain": [
              "(814,)"
            ]
          },
          "metadata": {},
          "execution_count": 295
        }
      ]
    },
    {
      "cell_type": "code",
      "source": [
        "X"
      ],
      "metadata": {
        "id": "IunL3eIU2FTe",
        "outputId": "a6abaede-6ed9-4fc3-a868-eedaede85fa7",
        "colab": {
          "base_uri": "https://localhost:8080/",
          "height": 423
        }
      },
      "execution_count": 296,
      "outputs": [
        {
          "output_type": "execute_result",
          "data": {
            "text/plain": [
              "                                       name   company  year   Price  \\\n",
              "0      Hyundai Santro Xing XO eRLX Euro III   Hyundai  2007   80000   \n",
              "1                   Mahindra Jeep CL550 MDI  Mahindra  2006  425000   \n",
              "3    Hyundai Grand i10 Magna 1.2 Kappa VTVT   Hyundai  2014  325000   \n",
              "4          Ford EcoSport Titanium 1.5L TDCi      Ford  2014  575000   \n",
              "6                                 Ford Figo      Ford  2012  175000   \n",
              "..                                      ...       ...   ...     ...   \n",
              "883              Maruti Suzuki Ritz VXI ABS    Maruti  2011  270000   \n",
              "885               Tata Indica V2 DLE BS III      Tata  2009  110000   \n",
              "886                    Toyota Corolla Altis    Toyota  2009  300000   \n",
              "888                     Tata Zest XM Diesel      Tata  2018  260000   \n",
              "889                      Mahindra Quanto C8  Mahindra  2013  390000   \n",
              "\n",
              "     kms_driven fuel_type  \n",
              "0         45000    Petrol  \n",
              "1            40    Diesel  \n",
              "3         28000    Petrol  \n",
              "4         36000    Diesel  \n",
              "6         41000    Diesel  \n",
              "..          ...       ...  \n",
              "883       50000    Petrol  \n",
              "885       30000    Diesel  \n",
              "886      132000    Petrol  \n",
              "888       27000    Diesel  \n",
              "889       40000    Diesel  \n",
              "\n",
              "[814 rows x 6 columns]"
            ],
            "text/html": [
              "\n",
              "  <div id=\"df-ecbdbad4-acd3-4f21-8fc3-136031d7cb6f\" class=\"colab-df-container\">\n",
              "    <div>\n",
              "<style scoped>\n",
              "    .dataframe tbody tr th:only-of-type {\n",
              "        vertical-align: middle;\n",
              "    }\n",
              "\n",
              "    .dataframe tbody tr th {\n",
              "        vertical-align: top;\n",
              "    }\n",
              "\n",
              "    .dataframe thead th {\n",
              "        text-align: right;\n",
              "    }\n",
              "</style>\n",
              "<table border=\"1\" class=\"dataframe\">\n",
              "  <thead>\n",
              "    <tr style=\"text-align: right;\">\n",
              "      <th></th>\n",
              "      <th>name</th>\n",
              "      <th>company</th>\n",
              "      <th>year</th>\n",
              "      <th>Price</th>\n",
              "      <th>kms_driven</th>\n",
              "      <th>fuel_type</th>\n",
              "    </tr>\n",
              "  </thead>\n",
              "  <tbody>\n",
              "    <tr>\n",
              "      <th>0</th>\n",
              "      <td>Hyundai Santro Xing XO eRLX Euro III</td>\n",
              "      <td>Hyundai</td>\n",
              "      <td>2007</td>\n",
              "      <td>80000</td>\n",
              "      <td>45000</td>\n",
              "      <td>Petrol</td>\n",
              "    </tr>\n",
              "    <tr>\n",
              "      <th>1</th>\n",
              "      <td>Mahindra Jeep CL550 MDI</td>\n",
              "      <td>Mahindra</td>\n",
              "      <td>2006</td>\n",
              "      <td>425000</td>\n",
              "      <td>40</td>\n",
              "      <td>Diesel</td>\n",
              "    </tr>\n",
              "    <tr>\n",
              "      <th>3</th>\n",
              "      <td>Hyundai Grand i10 Magna 1.2 Kappa VTVT</td>\n",
              "      <td>Hyundai</td>\n",
              "      <td>2014</td>\n",
              "      <td>325000</td>\n",
              "      <td>28000</td>\n",
              "      <td>Petrol</td>\n",
              "    </tr>\n",
              "    <tr>\n",
              "      <th>4</th>\n",
              "      <td>Ford EcoSport Titanium 1.5L TDCi</td>\n",
              "      <td>Ford</td>\n",
              "      <td>2014</td>\n",
              "      <td>575000</td>\n",
              "      <td>36000</td>\n",
              "      <td>Diesel</td>\n",
              "    </tr>\n",
              "    <tr>\n",
              "      <th>6</th>\n",
              "      <td>Ford Figo</td>\n",
              "      <td>Ford</td>\n",
              "      <td>2012</td>\n",
              "      <td>175000</td>\n",
              "      <td>41000</td>\n",
              "      <td>Diesel</td>\n",
              "    </tr>\n",
              "    <tr>\n",
              "      <th>...</th>\n",
              "      <td>...</td>\n",
              "      <td>...</td>\n",
              "      <td>...</td>\n",
              "      <td>...</td>\n",
              "      <td>...</td>\n",
              "      <td>...</td>\n",
              "    </tr>\n",
              "    <tr>\n",
              "      <th>883</th>\n",
              "      <td>Maruti Suzuki Ritz VXI ABS</td>\n",
              "      <td>Maruti</td>\n",
              "      <td>2011</td>\n",
              "      <td>270000</td>\n",
              "      <td>50000</td>\n",
              "      <td>Petrol</td>\n",
              "    </tr>\n",
              "    <tr>\n",
              "      <th>885</th>\n",
              "      <td>Tata Indica V2 DLE BS III</td>\n",
              "      <td>Tata</td>\n",
              "      <td>2009</td>\n",
              "      <td>110000</td>\n",
              "      <td>30000</td>\n",
              "      <td>Diesel</td>\n",
              "    </tr>\n",
              "    <tr>\n",
              "      <th>886</th>\n",
              "      <td>Toyota Corolla Altis</td>\n",
              "      <td>Toyota</td>\n",
              "      <td>2009</td>\n",
              "      <td>300000</td>\n",
              "      <td>132000</td>\n",
              "      <td>Petrol</td>\n",
              "    </tr>\n",
              "    <tr>\n",
              "      <th>888</th>\n",
              "      <td>Tata Zest XM Diesel</td>\n",
              "      <td>Tata</td>\n",
              "      <td>2018</td>\n",
              "      <td>260000</td>\n",
              "      <td>27000</td>\n",
              "      <td>Diesel</td>\n",
              "    </tr>\n",
              "    <tr>\n",
              "      <th>889</th>\n",
              "      <td>Mahindra Quanto C8</td>\n",
              "      <td>Mahindra</td>\n",
              "      <td>2013</td>\n",
              "      <td>390000</td>\n",
              "      <td>40000</td>\n",
              "      <td>Diesel</td>\n",
              "    </tr>\n",
              "  </tbody>\n",
              "</table>\n",
              "<p>814 rows × 6 columns</p>\n",
              "</div>\n",
              "    <div class=\"colab-df-buttons\">\n",
              "\n",
              "  <div class=\"colab-df-container\">\n",
              "    <button class=\"colab-df-convert\" onclick=\"convertToInteractive('df-ecbdbad4-acd3-4f21-8fc3-136031d7cb6f')\"\n",
              "            title=\"Convert this dataframe to an interactive table.\"\n",
              "            style=\"display:none;\">\n",
              "\n",
              "  <svg xmlns=\"http://www.w3.org/2000/svg\" height=\"24px\" viewBox=\"0 -960 960 960\">\n",
              "    <path d=\"M120-120v-720h720v720H120Zm60-500h600v-160H180v160Zm220 220h160v-160H400v160Zm0 220h160v-160H400v160ZM180-400h160v-160H180v160Zm440 0h160v-160H620v160ZM180-180h160v-160H180v160Zm440 0h160v-160H620v160Z\"/>\n",
              "  </svg>\n",
              "    </button>\n",
              "\n",
              "  <style>\n",
              "    .colab-df-container {\n",
              "      display:flex;\n",
              "      gap: 12px;\n",
              "    }\n",
              "\n",
              "    .colab-df-convert {\n",
              "      background-color: #E8F0FE;\n",
              "      border: none;\n",
              "      border-radius: 50%;\n",
              "      cursor: pointer;\n",
              "      display: none;\n",
              "      fill: #1967D2;\n",
              "      height: 32px;\n",
              "      padding: 0 0 0 0;\n",
              "      width: 32px;\n",
              "    }\n",
              "\n",
              "    .colab-df-convert:hover {\n",
              "      background-color: #E2EBFA;\n",
              "      box-shadow: 0px 1px 2px rgba(60, 64, 67, 0.3), 0px 1px 3px 1px rgba(60, 64, 67, 0.15);\n",
              "      fill: #174EA6;\n",
              "    }\n",
              "\n",
              "    .colab-df-buttons div {\n",
              "      margin-bottom: 4px;\n",
              "    }\n",
              "\n",
              "    [theme=dark] .colab-df-convert {\n",
              "      background-color: #3B4455;\n",
              "      fill: #D2E3FC;\n",
              "    }\n",
              "\n",
              "    [theme=dark] .colab-df-convert:hover {\n",
              "      background-color: #434B5C;\n",
              "      box-shadow: 0px 1px 3px 1px rgba(0, 0, 0, 0.15);\n",
              "      filter: drop-shadow(0px 1px 2px rgba(0, 0, 0, 0.3));\n",
              "      fill: #FFFFFF;\n",
              "    }\n",
              "  </style>\n",
              "\n",
              "    <script>\n",
              "      const buttonEl =\n",
              "        document.querySelector('#df-ecbdbad4-acd3-4f21-8fc3-136031d7cb6f button.colab-df-convert');\n",
              "      buttonEl.style.display =\n",
              "        google.colab.kernel.accessAllowed ? 'block' : 'none';\n",
              "\n",
              "      async function convertToInteractive(key) {\n",
              "        const element = document.querySelector('#df-ecbdbad4-acd3-4f21-8fc3-136031d7cb6f');\n",
              "        const dataTable =\n",
              "          await google.colab.kernel.invokeFunction('convertToInteractive',\n",
              "                                                    [key], {});\n",
              "        if (!dataTable) return;\n",
              "\n",
              "        const docLinkHtml = 'Like what you see? Visit the ' +\n",
              "          '<a target=\"_blank\" href=https://colab.research.google.com/notebooks/data_table.ipynb>data table notebook</a>'\n",
              "          + ' to learn more about interactive tables.';\n",
              "        element.innerHTML = '';\n",
              "        dataTable['output_type'] = 'display_data';\n",
              "        await google.colab.output.renderOutput(dataTable, element);\n",
              "        const docLink = document.createElement('div');\n",
              "        docLink.innerHTML = docLinkHtml;\n",
              "        element.appendChild(docLink);\n",
              "      }\n",
              "    </script>\n",
              "  </div>\n",
              "\n",
              "\n",
              "<div id=\"df-c06806de-6049-40a0-a466-8095f2a3205e\">\n",
              "  <button class=\"colab-df-quickchart\" onclick=\"quickchart('df-c06806de-6049-40a0-a466-8095f2a3205e')\"\n",
              "            title=\"Suggest charts\"\n",
              "            style=\"display:none;\">\n",
              "\n",
              "<svg xmlns=\"http://www.w3.org/2000/svg\" height=\"24px\"viewBox=\"0 0 24 24\"\n",
              "     width=\"24px\">\n",
              "    <g>\n",
              "        <path d=\"M19 3H5c-1.1 0-2 .9-2 2v14c0 1.1.9 2 2 2h14c1.1 0 2-.9 2-2V5c0-1.1-.9-2-2-2zM9 17H7v-7h2v7zm4 0h-2V7h2v10zm4 0h-2v-4h2v4z\"/>\n",
              "    </g>\n",
              "</svg>\n",
              "  </button>\n",
              "\n",
              "<style>\n",
              "  .colab-df-quickchart {\n",
              "      --bg-color: #E8F0FE;\n",
              "      --fill-color: #1967D2;\n",
              "      --hover-bg-color: #E2EBFA;\n",
              "      --hover-fill-color: #174EA6;\n",
              "      --disabled-fill-color: #AAA;\n",
              "      --disabled-bg-color: #DDD;\n",
              "  }\n",
              "\n",
              "  [theme=dark] .colab-df-quickchart {\n",
              "      --bg-color: #3B4455;\n",
              "      --fill-color: #D2E3FC;\n",
              "      --hover-bg-color: #434B5C;\n",
              "      --hover-fill-color: #FFFFFF;\n",
              "      --disabled-bg-color: #3B4455;\n",
              "      --disabled-fill-color: #666;\n",
              "  }\n",
              "\n",
              "  .colab-df-quickchart {\n",
              "    background-color: var(--bg-color);\n",
              "    border: none;\n",
              "    border-radius: 50%;\n",
              "    cursor: pointer;\n",
              "    display: none;\n",
              "    fill: var(--fill-color);\n",
              "    height: 32px;\n",
              "    padding: 0;\n",
              "    width: 32px;\n",
              "  }\n",
              "\n",
              "  .colab-df-quickchart:hover {\n",
              "    background-color: var(--hover-bg-color);\n",
              "    box-shadow: 0 1px 2px rgba(60, 64, 67, 0.3), 0 1px 3px 1px rgba(60, 64, 67, 0.15);\n",
              "    fill: var(--button-hover-fill-color);\n",
              "  }\n",
              "\n",
              "  .colab-df-quickchart-complete:disabled,\n",
              "  .colab-df-quickchart-complete:disabled:hover {\n",
              "    background-color: var(--disabled-bg-color);\n",
              "    fill: var(--disabled-fill-color);\n",
              "    box-shadow: none;\n",
              "  }\n",
              "\n",
              "  .colab-df-spinner {\n",
              "    border: 2px solid var(--fill-color);\n",
              "    border-color: transparent;\n",
              "    border-bottom-color: var(--fill-color);\n",
              "    animation:\n",
              "      spin 1s steps(1) infinite;\n",
              "  }\n",
              "\n",
              "  @keyframes spin {\n",
              "    0% {\n",
              "      border-color: transparent;\n",
              "      border-bottom-color: var(--fill-color);\n",
              "      border-left-color: var(--fill-color);\n",
              "    }\n",
              "    20% {\n",
              "      border-color: transparent;\n",
              "      border-left-color: var(--fill-color);\n",
              "      border-top-color: var(--fill-color);\n",
              "    }\n",
              "    30% {\n",
              "      border-color: transparent;\n",
              "      border-left-color: var(--fill-color);\n",
              "      border-top-color: var(--fill-color);\n",
              "      border-right-color: var(--fill-color);\n",
              "    }\n",
              "    40% {\n",
              "      border-color: transparent;\n",
              "      border-right-color: var(--fill-color);\n",
              "      border-top-color: var(--fill-color);\n",
              "    }\n",
              "    60% {\n",
              "      border-color: transparent;\n",
              "      border-right-color: var(--fill-color);\n",
              "    }\n",
              "    80% {\n",
              "      border-color: transparent;\n",
              "      border-right-color: var(--fill-color);\n",
              "      border-bottom-color: var(--fill-color);\n",
              "    }\n",
              "    90% {\n",
              "      border-color: transparent;\n",
              "      border-bottom-color: var(--fill-color);\n",
              "    }\n",
              "  }\n",
              "</style>\n",
              "\n",
              "  <script>\n",
              "    async function quickchart(key) {\n",
              "      const quickchartButtonEl =\n",
              "        document.querySelector('#' + key + ' button');\n",
              "      quickchartButtonEl.disabled = true;  // To prevent multiple clicks.\n",
              "      quickchartButtonEl.classList.add('colab-df-spinner');\n",
              "      try {\n",
              "        const charts = await google.colab.kernel.invokeFunction(\n",
              "            'suggestCharts', [key], {});\n",
              "      } catch (error) {\n",
              "        console.error('Error during call to suggestCharts:', error);\n",
              "      }\n",
              "      quickchartButtonEl.classList.remove('colab-df-spinner');\n",
              "      quickchartButtonEl.classList.add('colab-df-quickchart-complete');\n",
              "    }\n",
              "    (() => {\n",
              "      let quickchartButtonEl =\n",
              "        document.querySelector('#df-c06806de-6049-40a0-a466-8095f2a3205e button');\n",
              "      quickchartButtonEl.style.display =\n",
              "        google.colab.kernel.accessAllowed ? 'block' : 'none';\n",
              "    })();\n",
              "  </script>\n",
              "</div>\n",
              "\n",
              "  <div id=\"id_07bfe2ea-3054-479d-bdde-5647131b364d\">\n",
              "    <style>\n",
              "      .colab-df-generate {\n",
              "        background-color: #E8F0FE;\n",
              "        border: none;\n",
              "        border-radius: 50%;\n",
              "        cursor: pointer;\n",
              "        display: none;\n",
              "        fill: #1967D2;\n",
              "        height: 32px;\n",
              "        padding: 0 0 0 0;\n",
              "        width: 32px;\n",
              "      }\n",
              "\n",
              "      .colab-df-generate:hover {\n",
              "        background-color: #E2EBFA;\n",
              "        box-shadow: 0px 1px 2px rgba(60, 64, 67, 0.3), 0px 1px 3px 1px rgba(60, 64, 67, 0.15);\n",
              "        fill: #174EA6;\n",
              "      }\n",
              "\n",
              "      [theme=dark] .colab-df-generate {\n",
              "        background-color: #3B4455;\n",
              "        fill: #D2E3FC;\n",
              "      }\n",
              "\n",
              "      [theme=dark] .colab-df-generate:hover {\n",
              "        background-color: #434B5C;\n",
              "        box-shadow: 0px 1px 3px 1px rgba(0, 0, 0, 0.15);\n",
              "        filter: drop-shadow(0px 1px 2px rgba(0, 0, 0, 0.3));\n",
              "        fill: #FFFFFF;\n",
              "      }\n",
              "    </style>\n",
              "    <button class=\"colab-df-generate\" onclick=\"generateWithVariable('car')\"\n",
              "            title=\"Generate code using this dataframe.\"\n",
              "            style=\"display:none;\">\n",
              "\n",
              "  <svg xmlns=\"http://www.w3.org/2000/svg\" height=\"24px\"viewBox=\"0 0 24 24\"\n",
              "       width=\"24px\">\n",
              "    <path d=\"M7,19H8.4L18.45,9,17,7.55,7,17.6ZM5,21V16.75L18.45,3.32a2,2,0,0,1,2.83,0l1.4,1.43a1.91,1.91,0,0,1,.58,1.4,1.91,1.91,0,0,1-.58,1.4L9.25,21ZM18.45,9,17,7.55Zm-12,3A5.31,5.31,0,0,0,4.9,8.1,5.31,5.31,0,0,0,1,6.5,5.31,5.31,0,0,0,4.9,4.9,5.31,5.31,0,0,0,6.5,1,5.31,5.31,0,0,0,8.1,4.9,5.31,5.31,0,0,0,12,6.5,5.46,5.46,0,0,0,6.5,12Z\"/>\n",
              "  </svg>\n",
              "    </button>\n",
              "    <script>\n",
              "      (() => {\n",
              "      const buttonEl =\n",
              "        document.querySelector('#id_07bfe2ea-3054-479d-bdde-5647131b364d button.colab-df-generate');\n",
              "      buttonEl.style.display =\n",
              "        google.colab.kernel.accessAllowed ? 'block' : 'none';\n",
              "\n",
              "      buttonEl.onclick = () => {\n",
              "        google.colab.notebook.generateWithVariable('car');\n",
              "      }\n",
              "      })();\n",
              "    </script>\n",
              "  </div>\n",
              "\n",
              "    </div>\n",
              "  </div>\n"
            ],
            "application/vnd.google.colaboratory.intrinsic+json": {
              "type": "dataframe",
              "variable_name": "car",
              "summary": "{\n  \"name\": \"car\",\n  \"rows\": 814,\n  \"fields\": [\n    {\n      \"column\": \"name\",\n      \"properties\": {\n        \"dtype\": \"string\",\n        \"num_unique_values\": 461,\n        \"samples\": [\n          \"Hyundai Elite i20 Asta 1.4 CRDI\",\n          \"Maruti Suzuki Baleno Delta 1.2\",\n          \"Maruti Suzuki SX4 ZXI MT\"\n        ],\n        \"semantic_type\": \"\",\n        \"description\": \"\"\n      }\n    },\n    {\n      \"column\": \"company\",\n      \"properties\": {\n        \"dtype\": \"category\",\n        \"num_unique_values\": 23,\n        \"samples\": [\n          \"Bmw\",\n          \"Datsun\",\n          \"Hyundai\"\n        ],\n        \"semantic_type\": \"\",\n        \"description\": \"\"\n      }\n    },\n    {\n      \"column\": \"year\",\n      \"properties\": {\n        \"dtype\": \"number\",\n        \"std\": 4,\n        \"min\": 1995,\n        \"max\": 2019,\n        \"num_unique_values\": 21,\n        \"samples\": [\n          2007,\n          2004,\n          2000\n        ],\n        \"semantic_type\": \"\",\n        \"description\": \"\"\n      }\n    },\n    {\n      \"column\": \"Price\",\n      \"properties\": {\n        \"dtype\": \"number\",\n        \"std\": 471684,\n        \"min\": 30000,\n        \"max\": 8500003,\n        \"num_unique_values\": 271,\n        \"samples\": [\n          280000,\n          355000,\n          450000\n        ],\n        \"semantic_type\": \"\",\n        \"description\": \"\"\n      }\n    },\n    {\n      \"column\": \"kms_driven\",\n      \"properties\": {\n        \"dtype\": \"number\",\n        \"std\": 34302,\n        \"min\": 0,\n        \"max\": 400000,\n        \"num_unique_values\": 245,\n        \"samples\": [\n          15487,\n          24530,\n          6020\n        ],\n        \"semantic_type\": \"\",\n        \"description\": \"\"\n      }\n    },\n    {\n      \"column\": \"fuel_type\",\n      \"properties\": {\n        \"dtype\": \"category\",\n        \"num_unique_values\": 3,\n        \"samples\": [\n          \"Petrol\",\n          \"Diesel\",\n          \"LPG\"\n        ],\n        \"semantic_type\": \"\",\n        \"description\": \"\"\n      }\n    }\n  ]\n}"
            }
          },
          "metadata": {},
          "execution_count": 296
        }
      ]
    },
    {
      "cell_type": "code",
      "source": [
        "X = X.drop(columns='Price')"
      ],
      "metadata": {
        "id": "MabhiUcEWNaH"
      },
      "execution_count": 297,
      "outputs": []
    },
    {
      "cell_type": "markdown",
      "source": [
        "**Encoding using OneHotEncoder**"
      ],
      "metadata": {
        "id": "JA3lBskrh_DJ"
      }
    },
    {
      "cell_type": "code",
      "source": [
        "ohe=OneHotEncoder()\n",
        "ohe.fit(X[['name', 'company','fuel_type']])"
      ],
      "metadata": {
        "colab": {
          "base_uri": "https://localhost:8080/",
          "height": 74
        },
        "id": "OssoTRMZSYCw",
        "outputId": "5b9c3499-9734-4997-c305-fc010e617c11"
      },
      "execution_count": 298,
      "outputs": [
        {
          "output_type": "execute_result",
          "data": {
            "text/plain": [
              "OneHotEncoder()"
            ],
            "text/html": [
              "<style>#sk-container-id-7 {color: black;background-color: white;}#sk-container-id-7 pre{padding: 0;}#sk-container-id-7 div.sk-toggleable {background-color: white;}#sk-container-id-7 label.sk-toggleable__label {cursor: pointer;display: block;width: 100%;margin-bottom: 0;padding: 0.3em;box-sizing: border-box;text-align: center;}#sk-container-id-7 label.sk-toggleable__label-arrow:before {content: \"▸\";float: left;margin-right: 0.25em;color: #696969;}#sk-container-id-7 label.sk-toggleable__label-arrow:hover:before {color: black;}#sk-container-id-7 div.sk-estimator:hover label.sk-toggleable__label-arrow:before {color: black;}#sk-container-id-7 div.sk-toggleable__content {max-height: 0;max-width: 0;overflow: hidden;text-align: left;background-color: #f0f8ff;}#sk-container-id-7 div.sk-toggleable__content pre {margin: 0.2em;color: black;border-radius: 0.25em;background-color: #f0f8ff;}#sk-container-id-7 input.sk-toggleable__control:checked~div.sk-toggleable__content {max-height: 200px;max-width: 100%;overflow: auto;}#sk-container-id-7 input.sk-toggleable__control:checked~label.sk-toggleable__label-arrow:before {content: \"▾\";}#sk-container-id-7 div.sk-estimator input.sk-toggleable__control:checked~label.sk-toggleable__label {background-color: #d4ebff;}#sk-container-id-7 div.sk-label input.sk-toggleable__control:checked~label.sk-toggleable__label {background-color: #d4ebff;}#sk-container-id-7 input.sk-hidden--visually {border: 0;clip: rect(1px 1px 1px 1px);clip: rect(1px, 1px, 1px, 1px);height: 1px;margin: -1px;overflow: hidden;padding: 0;position: absolute;width: 1px;}#sk-container-id-7 div.sk-estimator {font-family: monospace;background-color: #f0f8ff;border: 1px dotted black;border-radius: 0.25em;box-sizing: border-box;margin-bottom: 0.5em;}#sk-container-id-7 div.sk-estimator:hover {background-color: #d4ebff;}#sk-container-id-7 div.sk-parallel-item::after {content: \"\";width: 100%;border-bottom: 1px solid gray;flex-grow: 1;}#sk-container-id-7 div.sk-label:hover label.sk-toggleable__label {background-color: #d4ebff;}#sk-container-id-7 div.sk-serial::before {content: \"\";position: absolute;border-left: 1px solid gray;box-sizing: border-box;top: 0;bottom: 0;left: 50%;z-index: 0;}#sk-container-id-7 div.sk-serial {display: flex;flex-direction: column;align-items: center;background-color: white;padding-right: 0.2em;padding-left: 0.2em;position: relative;}#sk-container-id-7 div.sk-item {position: relative;z-index: 1;}#sk-container-id-7 div.sk-parallel {display: flex;align-items: stretch;justify-content: center;background-color: white;position: relative;}#sk-container-id-7 div.sk-item::before, #sk-container-id-7 div.sk-parallel-item::before {content: \"\";position: absolute;border-left: 1px solid gray;box-sizing: border-box;top: 0;bottom: 0;left: 50%;z-index: -1;}#sk-container-id-7 div.sk-parallel-item {display: flex;flex-direction: column;z-index: 1;position: relative;background-color: white;}#sk-container-id-7 div.sk-parallel-item:first-child::after {align-self: flex-end;width: 50%;}#sk-container-id-7 div.sk-parallel-item:last-child::after {align-self: flex-start;width: 50%;}#sk-container-id-7 div.sk-parallel-item:only-child::after {width: 0;}#sk-container-id-7 div.sk-dashed-wrapped {border: 1px dashed gray;margin: 0 0.4em 0.5em 0.4em;box-sizing: border-box;padding-bottom: 0.4em;background-color: white;}#sk-container-id-7 div.sk-label label {font-family: monospace;font-weight: bold;display: inline-block;line-height: 1.2em;}#sk-container-id-7 div.sk-label-container {text-align: center;}#sk-container-id-7 div.sk-container {/* jupyter's `normalize.less` sets `[hidden] { display: none; }` but bootstrap.min.css set `[hidden] { display: none !important; }` so we also need the `!important` here to be able to override the default hidden behavior on the sphinx rendered scikit-learn.org. See: https://github.com/scikit-learn/scikit-learn/issues/21755 */display: inline-block !important;position: relative;}#sk-container-id-7 div.sk-text-repr-fallback {display: none;}</style><div id=\"sk-container-id-7\" class=\"sk-top-container\"><div class=\"sk-text-repr-fallback\"><pre>OneHotEncoder()</pre><b>In a Jupyter environment, please rerun this cell to show the HTML representation or trust the notebook. <br />On GitHub, the HTML representation is unable to render, please try loading this page with nbviewer.org.</b></div><div class=\"sk-container\" hidden><div class=\"sk-item\"><div class=\"sk-estimator sk-toggleable\"><input class=\"sk-toggleable__control sk-hidden--visually\" id=\"sk-estimator-id-31\" type=\"checkbox\" checked><label for=\"sk-estimator-id-31\" class=\"sk-toggleable__label sk-toggleable__label-arrow\">OneHotEncoder</label><div class=\"sk-toggleable__content\"><pre>OneHotEncoder()</pre></div></div></div></div></div>"
            ]
          },
          "metadata": {},
          "execution_count": 298
        }
      ]
    },
    {
      "cell_type": "code",
      "source": [
        "column_trans=make_column_transformer((OneHotEncoder(categories=ohe.categories_),['name', 'company','fuel_type']),\n",
        "                                    remainder='passthrough')"
      ],
      "metadata": {
        "id": "Fu_v8lFHTRIj"
      },
      "execution_count": 299,
      "outputs": []
    },
    {
      "cell_type": "code",
      "source": [
        "from sklearn.preprocessing import MinMaxScaler\n",
        "sc = MinMaxScaler()\n",
        "sc.fit(X[['year', 'kms_driven']])\n",
        "column_trans=make_column_transformer((OneHotEncoder(categories=ohe.categories_),['name', 'company','fuel_type']),\n",
        "                                    (sc, ['year', 'kms_driven']),\n",
        "                                    remainder='passthrough')\n",
        "\n"
      ],
      "metadata": {
        "id": "H4RIQynxkW7u"
      },
      "execution_count": 300,
      "outputs": []
    },
    {
      "cell_type": "markdown",
      "source": [
        "##Models' Preparation & Testing"
      ],
      "metadata": {
        "id": "eLBDWEK8iE-I"
      }
    },
    {
      "cell_type": "markdown",
      "source": [
        "###Linear Regression"
      ],
      "metadata": {
        "id": "F6oxHsi7iObJ"
      }
    },
    {
      "cell_type": "markdown",
      "source": [
        "####With Package"
      ],
      "metadata": {
        "id": "xZaUpXGfiR7K"
      }
    },
    {
      "cell_type": "code",
      "source": [
        "X_train,X_test,y_train,y_test=train_test_split(X,y,test_size=0.2, random_state = 42)"
      ],
      "metadata": {
        "id": "lrz2bxYVV7pN"
      },
      "execution_count": 301,
      "outputs": []
    },
    {
      "cell_type": "code",
      "source": [
        "lr = LinearRegression()\n",
        "pipe = make_pipeline(column_trans, lr)\n",
        "pipe.fit(X_train,y_train)"
      ],
      "metadata": {
        "colab": {
          "base_uri": "https://localhost:8080/",
          "height": 191
        },
        "id": "kUhHb7-4ThHt",
        "outputId": "7af2028e-48e2-426a-a536-f83abb3e0a71"
      },
      "execution_count": 302,
      "outputs": [
        {
          "output_type": "execute_result",
          "data": {
            "text/plain": [
              "Pipeline(steps=[('columntransformer',\n",
              "                 ColumnTransformer(remainder='passthrough',\n",
              "                                   transformers=[('onehotencoder',\n",
              "                                                  OneHotEncoder(categories=[array(['Audi A3 Cabriolet 40 TFSI',\n",
              "       'Audi A4 1.8 TFSI Multitronic Premium Plus',\n",
              "       'Audi A4 2.0 TDI 177bhp Premium', 'Audi A6 2.0 TDI Premium',\n",
              "       'Audi A8', 'Audi Q3 2.0 TDI quattro Premium',\n",
              "       'Audi Q5 2.0 TDI quattro Premium Plus', 'Audi Q7',\n",
              "       'BMW 3 Series 320d...\n",
              "                                                                            array(['Audi', 'Bmw', 'Chevrolet', 'Datsun', 'Fiat', 'Force', 'Ford',\n",
              "       'Hindustan', 'Honda', 'Hyundai', 'Jaguar', 'Mahindra', 'Maruti',\n",
              "       'Mercedes', 'Mini', 'Mitsubishi', 'Nissan', 'Renault', 'Skoda',\n",
              "       'Tata', 'Toyota', 'Volkswagen', 'Volvo'], dtype=object),\n",
              "                                                                            array(['Diesel', 'LPG', 'Petrol'], dtype=object)]),\n",
              "                                                  ['name', 'company',\n",
              "                                                   'fuel_type']),\n",
              "                                                 ('minmaxscaler',\n",
              "                                                  MinMaxScaler(),\n",
              "                                                  ['year', 'kms_driven'])])),\n",
              "                ('linearregression', LinearRegression())])"
            ],
            "text/html": [
              "<style>#sk-container-id-8 {color: black;background-color: white;}#sk-container-id-8 pre{padding: 0;}#sk-container-id-8 div.sk-toggleable {background-color: white;}#sk-container-id-8 label.sk-toggleable__label {cursor: pointer;display: block;width: 100%;margin-bottom: 0;padding: 0.3em;box-sizing: border-box;text-align: center;}#sk-container-id-8 label.sk-toggleable__label-arrow:before {content: \"▸\";float: left;margin-right: 0.25em;color: #696969;}#sk-container-id-8 label.sk-toggleable__label-arrow:hover:before {color: black;}#sk-container-id-8 div.sk-estimator:hover label.sk-toggleable__label-arrow:before {color: black;}#sk-container-id-8 div.sk-toggleable__content {max-height: 0;max-width: 0;overflow: hidden;text-align: left;background-color: #f0f8ff;}#sk-container-id-8 div.sk-toggleable__content pre {margin: 0.2em;color: black;border-radius: 0.25em;background-color: #f0f8ff;}#sk-container-id-8 input.sk-toggleable__control:checked~div.sk-toggleable__content {max-height: 200px;max-width: 100%;overflow: auto;}#sk-container-id-8 input.sk-toggleable__control:checked~label.sk-toggleable__label-arrow:before {content: \"▾\";}#sk-container-id-8 div.sk-estimator input.sk-toggleable__control:checked~label.sk-toggleable__label {background-color: #d4ebff;}#sk-container-id-8 div.sk-label input.sk-toggleable__control:checked~label.sk-toggleable__label {background-color: #d4ebff;}#sk-container-id-8 input.sk-hidden--visually {border: 0;clip: rect(1px 1px 1px 1px);clip: rect(1px, 1px, 1px, 1px);height: 1px;margin: -1px;overflow: hidden;padding: 0;position: absolute;width: 1px;}#sk-container-id-8 div.sk-estimator {font-family: monospace;background-color: #f0f8ff;border: 1px dotted black;border-radius: 0.25em;box-sizing: border-box;margin-bottom: 0.5em;}#sk-container-id-8 div.sk-estimator:hover {background-color: #d4ebff;}#sk-container-id-8 div.sk-parallel-item::after {content: \"\";width: 100%;border-bottom: 1px solid gray;flex-grow: 1;}#sk-container-id-8 div.sk-label:hover label.sk-toggleable__label {background-color: #d4ebff;}#sk-container-id-8 div.sk-serial::before {content: \"\";position: absolute;border-left: 1px solid gray;box-sizing: border-box;top: 0;bottom: 0;left: 50%;z-index: 0;}#sk-container-id-8 div.sk-serial {display: flex;flex-direction: column;align-items: center;background-color: white;padding-right: 0.2em;padding-left: 0.2em;position: relative;}#sk-container-id-8 div.sk-item {position: relative;z-index: 1;}#sk-container-id-8 div.sk-parallel {display: flex;align-items: stretch;justify-content: center;background-color: white;position: relative;}#sk-container-id-8 div.sk-item::before, #sk-container-id-8 div.sk-parallel-item::before {content: \"\";position: absolute;border-left: 1px solid gray;box-sizing: border-box;top: 0;bottom: 0;left: 50%;z-index: -1;}#sk-container-id-8 div.sk-parallel-item {display: flex;flex-direction: column;z-index: 1;position: relative;background-color: white;}#sk-container-id-8 div.sk-parallel-item:first-child::after {align-self: flex-end;width: 50%;}#sk-container-id-8 div.sk-parallel-item:last-child::after {align-self: flex-start;width: 50%;}#sk-container-id-8 div.sk-parallel-item:only-child::after {width: 0;}#sk-container-id-8 div.sk-dashed-wrapped {border: 1px dashed gray;margin: 0 0.4em 0.5em 0.4em;box-sizing: border-box;padding-bottom: 0.4em;background-color: white;}#sk-container-id-8 div.sk-label label {font-family: monospace;font-weight: bold;display: inline-block;line-height: 1.2em;}#sk-container-id-8 div.sk-label-container {text-align: center;}#sk-container-id-8 div.sk-container {/* jupyter's `normalize.less` sets `[hidden] { display: none; }` but bootstrap.min.css set `[hidden] { display: none !important; }` so we also need the `!important` here to be able to override the default hidden behavior on the sphinx rendered scikit-learn.org. See: https://github.com/scikit-learn/scikit-learn/issues/21755 */display: inline-block !important;position: relative;}#sk-container-id-8 div.sk-text-repr-fallback {display: none;}</style><div id=\"sk-container-id-8\" class=\"sk-top-container\"><div class=\"sk-text-repr-fallback\"><pre>Pipeline(steps=[(&#x27;columntransformer&#x27;,\n",
              "                 ColumnTransformer(remainder=&#x27;passthrough&#x27;,\n",
              "                                   transformers=[(&#x27;onehotencoder&#x27;,\n",
              "                                                  OneHotEncoder(categories=[array([&#x27;Audi A3 Cabriolet 40 TFSI&#x27;,\n",
              "       &#x27;Audi A4 1.8 TFSI Multitronic Premium Plus&#x27;,\n",
              "       &#x27;Audi A4 2.0 TDI 177bhp Premium&#x27;, &#x27;Audi A6 2.0 TDI Premium&#x27;,\n",
              "       &#x27;Audi A8&#x27;, &#x27;Audi Q3 2.0 TDI quattro Premium&#x27;,\n",
              "       &#x27;Audi Q5 2.0 TDI quattro Premium Plus&#x27;, &#x27;Audi Q7&#x27;,\n",
              "       &#x27;BMW 3 Series 320d...\n",
              "                                                                            array([&#x27;Audi&#x27;, &#x27;Bmw&#x27;, &#x27;Chevrolet&#x27;, &#x27;Datsun&#x27;, &#x27;Fiat&#x27;, &#x27;Force&#x27;, &#x27;Ford&#x27;,\n",
              "       &#x27;Hindustan&#x27;, &#x27;Honda&#x27;, &#x27;Hyundai&#x27;, &#x27;Jaguar&#x27;, &#x27;Mahindra&#x27;, &#x27;Maruti&#x27;,\n",
              "       &#x27;Mercedes&#x27;, &#x27;Mini&#x27;, &#x27;Mitsubishi&#x27;, &#x27;Nissan&#x27;, &#x27;Renault&#x27;, &#x27;Skoda&#x27;,\n",
              "       &#x27;Tata&#x27;, &#x27;Toyota&#x27;, &#x27;Volkswagen&#x27;, &#x27;Volvo&#x27;], dtype=object),\n",
              "                                                                            array([&#x27;Diesel&#x27;, &#x27;LPG&#x27;, &#x27;Petrol&#x27;], dtype=object)]),\n",
              "                                                  [&#x27;name&#x27;, &#x27;company&#x27;,\n",
              "                                                   &#x27;fuel_type&#x27;]),\n",
              "                                                 (&#x27;minmaxscaler&#x27;,\n",
              "                                                  MinMaxScaler(),\n",
              "                                                  [&#x27;year&#x27;, &#x27;kms_driven&#x27;])])),\n",
              "                (&#x27;linearregression&#x27;, LinearRegression())])</pre><b>In a Jupyter environment, please rerun this cell to show the HTML representation or trust the notebook. <br />On GitHub, the HTML representation is unable to render, please try loading this page with nbviewer.org.</b></div><div class=\"sk-container\" hidden><div class=\"sk-item sk-dashed-wrapped\"><div class=\"sk-label-container\"><div class=\"sk-label sk-toggleable\"><input class=\"sk-toggleable__control sk-hidden--visually\" id=\"sk-estimator-id-32\" type=\"checkbox\" ><label for=\"sk-estimator-id-32\" class=\"sk-toggleable__label sk-toggleable__label-arrow\">Pipeline</label><div class=\"sk-toggleable__content\"><pre>Pipeline(steps=[(&#x27;columntransformer&#x27;,\n",
              "                 ColumnTransformer(remainder=&#x27;passthrough&#x27;,\n",
              "                                   transformers=[(&#x27;onehotencoder&#x27;,\n",
              "                                                  OneHotEncoder(categories=[array([&#x27;Audi A3 Cabriolet 40 TFSI&#x27;,\n",
              "       &#x27;Audi A4 1.8 TFSI Multitronic Premium Plus&#x27;,\n",
              "       &#x27;Audi A4 2.0 TDI 177bhp Premium&#x27;, &#x27;Audi A6 2.0 TDI Premium&#x27;,\n",
              "       &#x27;Audi A8&#x27;, &#x27;Audi Q3 2.0 TDI quattro Premium&#x27;,\n",
              "       &#x27;Audi Q5 2.0 TDI quattro Premium Plus&#x27;, &#x27;Audi Q7&#x27;,\n",
              "       &#x27;BMW 3 Series 320d...\n",
              "                                                                            array([&#x27;Audi&#x27;, &#x27;Bmw&#x27;, &#x27;Chevrolet&#x27;, &#x27;Datsun&#x27;, &#x27;Fiat&#x27;, &#x27;Force&#x27;, &#x27;Ford&#x27;,\n",
              "       &#x27;Hindustan&#x27;, &#x27;Honda&#x27;, &#x27;Hyundai&#x27;, &#x27;Jaguar&#x27;, &#x27;Mahindra&#x27;, &#x27;Maruti&#x27;,\n",
              "       &#x27;Mercedes&#x27;, &#x27;Mini&#x27;, &#x27;Mitsubishi&#x27;, &#x27;Nissan&#x27;, &#x27;Renault&#x27;, &#x27;Skoda&#x27;,\n",
              "       &#x27;Tata&#x27;, &#x27;Toyota&#x27;, &#x27;Volkswagen&#x27;, &#x27;Volvo&#x27;], dtype=object),\n",
              "                                                                            array([&#x27;Diesel&#x27;, &#x27;LPG&#x27;, &#x27;Petrol&#x27;], dtype=object)]),\n",
              "                                                  [&#x27;name&#x27;, &#x27;company&#x27;,\n",
              "                                                   &#x27;fuel_type&#x27;]),\n",
              "                                                 (&#x27;minmaxscaler&#x27;,\n",
              "                                                  MinMaxScaler(),\n",
              "                                                  [&#x27;year&#x27;, &#x27;kms_driven&#x27;])])),\n",
              "                (&#x27;linearregression&#x27;, LinearRegression())])</pre></div></div></div><div class=\"sk-serial\"><div class=\"sk-item sk-dashed-wrapped\"><div class=\"sk-label-container\"><div class=\"sk-label sk-toggleable\"><input class=\"sk-toggleable__control sk-hidden--visually\" id=\"sk-estimator-id-33\" type=\"checkbox\" ><label for=\"sk-estimator-id-33\" class=\"sk-toggleable__label sk-toggleable__label-arrow\">columntransformer: ColumnTransformer</label><div class=\"sk-toggleable__content\"><pre>ColumnTransformer(remainder=&#x27;passthrough&#x27;,\n",
              "                  transformers=[(&#x27;onehotencoder&#x27;,\n",
              "                                 OneHotEncoder(categories=[array([&#x27;Audi A3 Cabriolet 40 TFSI&#x27;,\n",
              "       &#x27;Audi A4 1.8 TFSI Multitronic Premium Plus&#x27;,\n",
              "       &#x27;Audi A4 2.0 TDI 177bhp Premium&#x27;, &#x27;Audi A6 2.0 TDI Premium&#x27;,\n",
              "       &#x27;Audi A8&#x27;, &#x27;Audi Q3 2.0 TDI quattro Premium&#x27;,\n",
              "       &#x27;Audi Q5 2.0 TDI quattro Premium Plus&#x27;, &#x27;Audi Q7&#x27;,\n",
              "       &#x27;BMW 3 Series 320d Sedan&#x27;, &#x27;BMW 3 Series 320i&#x27;,\n",
              "       &#x27;BMW 5 Series 52...\n",
              "                                                           array([&#x27;Audi&#x27;, &#x27;Bmw&#x27;, &#x27;Chevrolet&#x27;, &#x27;Datsun&#x27;, &#x27;Fiat&#x27;, &#x27;Force&#x27;, &#x27;Ford&#x27;,\n",
              "       &#x27;Hindustan&#x27;, &#x27;Honda&#x27;, &#x27;Hyundai&#x27;, &#x27;Jaguar&#x27;, &#x27;Mahindra&#x27;, &#x27;Maruti&#x27;,\n",
              "       &#x27;Mercedes&#x27;, &#x27;Mini&#x27;, &#x27;Mitsubishi&#x27;, &#x27;Nissan&#x27;, &#x27;Renault&#x27;, &#x27;Skoda&#x27;,\n",
              "       &#x27;Tata&#x27;, &#x27;Toyota&#x27;, &#x27;Volkswagen&#x27;, &#x27;Volvo&#x27;], dtype=object),\n",
              "                                                           array([&#x27;Diesel&#x27;, &#x27;LPG&#x27;, &#x27;Petrol&#x27;], dtype=object)]),\n",
              "                                 [&#x27;name&#x27;, &#x27;company&#x27;, &#x27;fuel_type&#x27;]),\n",
              "                                (&#x27;minmaxscaler&#x27;, MinMaxScaler(),\n",
              "                                 [&#x27;year&#x27;, &#x27;kms_driven&#x27;])])</pre></div></div></div><div class=\"sk-parallel\"><div class=\"sk-parallel-item\"><div class=\"sk-item\"><div class=\"sk-label-container\"><div class=\"sk-label sk-toggleable\"><input class=\"sk-toggleable__control sk-hidden--visually\" id=\"sk-estimator-id-34\" type=\"checkbox\" ><label for=\"sk-estimator-id-34\" class=\"sk-toggleable__label sk-toggleable__label-arrow\">onehotencoder</label><div class=\"sk-toggleable__content\"><pre>[&#x27;name&#x27;, &#x27;company&#x27;, &#x27;fuel_type&#x27;]</pre></div></div></div><div class=\"sk-serial\"><div class=\"sk-item\"><div class=\"sk-estimator sk-toggleable\"><input class=\"sk-toggleable__control sk-hidden--visually\" id=\"sk-estimator-id-35\" type=\"checkbox\" ><label for=\"sk-estimator-id-35\" class=\"sk-toggleable__label sk-toggleable__label-arrow\">OneHotEncoder</label><div class=\"sk-toggleable__content\"><pre>OneHotEncoder(categories=[array([&#x27;Audi A3 Cabriolet 40 TFSI&#x27;,\n",
              "       &#x27;Audi A4 1.8 TFSI Multitronic Premium Plus&#x27;,\n",
              "       &#x27;Audi A4 2.0 TDI 177bhp Premium&#x27;, &#x27;Audi A6 2.0 TDI Premium&#x27;,\n",
              "       &#x27;Audi A8&#x27;, &#x27;Audi Q3 2.0 TDI quattro Premium&#x27;,\n",
              "       &#x27;Audi Q5 2.0 TDI quattro Premium Plus&#x27;, &#x27;Audi Q7&#x27;,\n",
              "       &#x27;BMW 3 Series 320d Sedan&#x27;, &#x27;BMW 3 Series 320i&#x27;,\n",
              "       &#x27;BMW 5 Series 520d Sedan&#x27;, &#x27;BMW 5 Series 530i&#x27;,\n",
              "       &#x27;BMW 7 Series 740Li Sedan&#x27;, &#x27;BMW X1&#x27;, &#x27;BMW X1 sDrive20d&#x27;...\n",
              "       &#x27;Volkswagen Vento Konekt Diesel Highline&#x27;, &#x27;Volvo S80 Summum D4&#x27;],\n",
              "      dtype=object),\n",
              "                          array([&#x27;Audi&#x27;, &#x27;Bmw&#x27;, &#x27;Chevrolet&#x27;, &#x27;Datsun&#x27;, &#x27;Fiat&#x27;, &#x27;Force&#x27;, &#x27;Ford&#x27;,\n",
              "       &#x27;Hindustan&#x27;, &#x27;Honda&#x27;, &#x27;Hyundai&#x27;, &#x27;Jaguar&#x27;, &#x27;Mahindra&#x27;, &#x27;Maruti&#x27;,\n",
              "       &#x27;Mercedes&#x27;, &#x27;Mini&#x27;, &#x27;Mitsubishi&#x27;, &#x27;Nissan&#x27;, &#x27;Renault&#x27;, &#x27;Skoda&#x27;,\n",
              "       &#x27;Tata&#x27;, &#x27;Toyota&#x27;, &#x27;Volkswagen&#x27;, &#x27;Volvo&#x27;], dtype=object),\n",
              "                          array([&#x27;Diesel&#x27;, &#x27;LPG&#x27;, &#x27;Petrol&#x27;], dtype=object)])</pre></div></div></div></div></div></div><div class=\"sk-parallel-item\"><div class=\"sk-item\"><div class=\"sk-label-container\"><div class=\"sk-label sk-toggleable\"><input class=\"sk-toggleable__control sk-hidden--visually\" id=\"sk-estimator-id-36\" type=\"checkbox\" ><label for=\"sk-estimator-id-36\" class=\"sk-toggleable__label sk-toggleable__label-arrow\">minmaxscaler</label><div class=\"sk-toggleable__content\"><pre>[&#x27;year&#x27;, &#x27;kms_driven&#x27;]</pre></div></div></div><div class=\"sk-serial\"><div class=\"sk-item\"><div class=\"sk-estimator sk-toggleable\"><input class=\"sk-toggleable__control sk-hidden--visually\" id=\"sk-estimator-id-37\" type=\"checkbox\" ><label for=\"sk-estimator-id-37\" class=\"sk-toggleable__label sk-toggleable__label-arrow\">MinMaxScaler</label><div class=\"sk-toggleable__content\"><pre>MinMaxScaler()</pre></div></div></div></div></div></div><div class=\"sk-parallel-item\"><div class=\"sk-item\"><div class=\"sk-label-container\"><div class=\"sk-label sk-toggleable\"><input class=\"sk-toggleable__control sk-hidden--visually\" id=\"sk-estimator-id-38\" type=\"checkbox\" ><label for=\"sk-estimator-id-38\" class=\"sk-toggleable__label sk-toggleable__label-arrow\">remainder</label><div class=\"sk-toggleable__content\"><pre>[]</pre></div></div></div><div class=\"sk-serial\"><div class=\"sk-item\"><div class=\"sk-estimator sk-toggleable\"><input class=\"sk-toggleable__control sk-hidden--visually\" id=\"sk-estimator-id-39\" type=\"checkbox\" ><label for=\"sk-estimator-id-39\" class=\"sk-toggleable__label sk-toggleable__label-arrow\">passthrough</label><div class=\"sk-toggleable__content\"><pre>passthrough</pre></div></div></div></div></div></div></div></div><div class=\"sk-item\"><div class=\"sk-estimator sk-toggleable\"><input class=\"sk-toggleable__control sk-hidden--visually\" id=\"sk-estimator-id-40\" type=\"checkbox\" ><label for=\"sk-estimator-id-40\" class=\"sk-toggleable__label sk-toggleable__label-arrow\">LinearRegression</label><div class=\"sk-toggleable__content\"><pre>LinearRegression()</pre></div></div></div></div></div></div></div>"
            ]
          },
          "metadata": {},
          "execution_count": 302
        }
      ]
    },
    {
      "cell_type": "code",
      "source": [
        "y_pred=pipe.predict(X_test)"
      ],
      "metadata": {
        "id": "rLXBSIH7WCvU"
      },
      "execution_count": 303,
      "outputs": []
    },
    {
      "cell_type": "code",
      "source": [
        "mse = mean_squared_error(y_test, y_pred)\n",
        "rmse = mean_squared_error(y_test, y_pred, squared=False)\n",
        "mae = mean_absolute_error(y_test, y_pred)\n",
        "r2 = r2_score(y_test, y_pred)\n",
        "\n",
        "# Print the metrics\n",
        "print(\"Mean Squared Error (MSE):\", mse)\n",
        "print(\"Root Mean Squared Error (RMSE):\", rmse)\n",
        "print(\"Mean Absolute Error (MAE):\", mae)\n",
        "print(\"R-squared (R2):\", r2)"
      ],
      "metadata": {
        "colab": {
          "base_uri": "https://localhost:8080/"
        },
        "id": "YJ7LoD-lWDzn",
        "outputId": "3e4da65f-515b-484c-a2d0-0c45b9741130"
      },
      "execution_count": 304,
      "outputs": [
        {
          "output_type": "stream",
          "name": "stdout",
          "text": [
            "Mean Squared Error (MSE): 57535643153.66138\n",
            "Root Mean Squared Error (RMSE): 239865.8857646526\n",
            "Mean Absolute Error (MAE): 119129.87383142418\n",
            "R-squared (R2): 0.6714142958060739\n"
          ]
        }
      ]
    },
    {
      "cell_type": "markdown",
      "source": [
        "**Randomizing Train Test Split To Attain Best R^2 Score**"
      ],
      "metadata": {
        "id": "DRnjKJK1fHZ_"
      }
    },
    {
      "cell_type": "code",
      "source": [
        "scores=[]\n",
        "for i in range(1000):\n",
        "    X_train,X_test,y_train,y_test=train_test_split(X,y,test_size=0.1,random_state=i)\n",
        "    lr=LinearRegression()\n",
        "    pipe=make_pipeline(column_trans,lr)\n",
        "    pipe.fit(X_train,y_train)\n",
        "    y_pred=pipe.predict(X_test)\n",
        "    scores.append(r2_score(y_test,y_pred))"
      ],
      "metadata": {
        "id": "6HsokditfV4a"
      },
      "execution_count": 305,
      "outputs": []
    },
    {
      "cell_type": "code",
      "source": [
        "max_score_state = np.argmax(scores)\n",
        "max_score_state"
      ],
      "metadata": {
        "colab": {
          "base_uri": "https://localhost:8080/"
        },
        "id": "7dnJx4CwgyJ2",
        "outputId": "168a3432-444a-46a1-e115-b761a090a706"
      },
      "execution_count": 306,
      "outputs": [
        {
          "output_type": "execute_result",
          "data": {
            "text/plain": [
              "68"
            ]
          },
          "metadata": {},
          "execution_count": 306
        }
      ]
    },
    {
      "cell_type": "code",
      "source": [
        "X_train,X_test,y_train,y_test=train_test_split(X,y,test_size=0.1,random_state=max_score_state)\n",
        "lr=LinearRegression()\n",
        "pipe=make_pipeline(column_trans,lr)\n",
        "pipe.fit(X_train,y_train)\n",
        "y_pred=pipe.predict(X_test)"
      ],
      "metadata": {
        "id": "sdQl8ovDfjIW"
      },
      "execution_count": 307,
      "outputs": []
    },
    {
      "cell_type": "code",
      "source": [
        "mse = mean_squared_error(y_test, y_pred)\n",
        "rmse = mean_squared_error(y_test, y_pred, squared=False)\n",
        "mae = mean_absolute_error(y_test, y_pred)\n",
        "r2 = r2_score(y_test, y_pred)\n",
        "\n",
        "# Print the metrics\n",
        "print(\"Mean Squared Error (MSE):\", mse)\n",
        "print(\"Root Mean Squared Error (RMSE):\", rmse)\n",
        "print(\"Mean Absolute Error (MAE):\", mae)\n",
        "print(\"R-squared (R2):\", r2)"
      ],
      "metadata": {
        "colab": {
          "base_uri": "https://localhost:8080/"
        },
        "id": "WqlSbTGfgCSl",
        "outputId": "1da7a027-7625-40fd-cbcc-4b31bf2a1a89"
      },
      "execution_count": 308,
      "outputs": [
        {
          "output_type": "stream",
          "name": "stdout",
          "text": [
            "Mean Squared Error (MSE): 12847192271.432579\n",
            "Root Mean Squared Error (RMSE): 113345.45545116742\n",
            "Mean Absolute Error (MAE): 68639.51253089562\n",
            "R-squared (R2): 0.9165043537674948\n"
          ]
        }
      ]
    },
    {
      "cell_type": "markdown",
      "source": [
        "####Without Package"
      ],
      "metadata": {
        "id": "RMuoH46hiUp3"
      }
    },
    {
      "cell_type": "markdown",
      "source": [
        "**Defining Evaluation Metrics to be used for all models without package**"
      ],
      "metadata": {
        "id": "tiVfmvplowrK"
      }
    },
    {
      "cell_type": "code",
      "source": [
        "def mean_square_error(y_true, y_pred):\n",
        "    # Calculate mean squared error\n",
        "    mse = np.mean((y_true - y_pred)**2)\n",
        "    return mse\n",
        "\n",
        "def root_mean_square_error(y_true, y_pred):\n",
        "  # Calculate root mean squared error\n",
        "  mse = sum((y_true - y_pred)**2) / len(y_true)\n",
        "  return mse**0.5\n",
        "\n",
        "def mean_abs_error(y_true, y_pred):\n",
        "  # Calculate mean absolute error\n",
        "  return sum(abs(y_true - y_pred)) / len(y_true)\n",
        "\n",
        "def calculate_r2(y_true, y_pred):\n",
        "  # Calculate R^2 score\n",
        "  ss_total = sum((y_true - y_true.mean())**2)\n",
        "  ss_residual = sum((y_true - y_pred)**2)\n",
        "  return 1 - (ss_residual / ss_total)"
      ],
      "metadata": {
        "id": "zIYDfHo7o4s1"
      },
      "execution_count": 309,
      "outputs": []
    },
    {
      "cell_type": "code",
      "source": [
        "def linear_regression(X, y):\n",
        "    # Add intercept term to X\n",
        "    #print(\"Add intercept term to X\")\n",
        "    X = np.column_stack((np.ones(len(X)), X))\n",
        "    #print(X)\n",
        "\n",
        "    # Calculate theta using the normal equation\n",
        "    #print(\"Calculate theta using the normal equation\")\n",
        "    theta = np.linalg.inv(X.T.dot(X)).dot(X.T).dot(y)\n",
        "    #print(theta)\n",
        "\n",
        "    return theta\n",
        "\n",
        "def predict(X, theta):\n",
        "    # Add intercept term to X\n",
        "    #print(\"Add intercept term to X while predicting\")\n",
        "    X = np.column_stack((np.ones(len(X)), X))\n",
        "    #print(X)\n",
        "\n",
        "    # Predict y values\n",
        "    #print(\"Predict y values\")\n",
        "    y_pred = X.dot(theta)\n",
        "    #print(y_pred)\n",
        "\n",
        "    return y_pred"
      ],
      "metadata": {
        "id": "M1rLqyHeG_5e"
      },
      "execution_count": 310,
      "outputs": []
    },
    {
      "cell_type": "code",
      "source": [
        "label_encoder = LabelEncoder()"
      ],
      "metadata": {
        "id": "KdA4WxsxMbKe"
      },
      "execution_count": 311,
      "outputs": []
    },
    {
      "cell_type": "code",
      "source": [
        "X = car.drop(columns='Price')\n",
        "y = car[\"Price\"]"
      ],
      "metadata": {
        "id": "rWyTX_qPMlYh"
      },
      "execution_count": 312,
      "outputs": []
    },
    {
      "cell_type": "code",
      "source": [
        "X_label_encoded = X\n",
        "#Encoded fuel_type\n",
        "X_label_encoded[\"fuel_type\"] = label_encoder.fit_transform(X[\"fuel_type\"])\n",
        "\n",
        "#Encoding company\n",
        "X_label_encoded[\"company\"] = car[\"company\"]\n",
        "companies_to_encode = ['Hyundai', 'Mahindra', 'Ford', 'Maruti', 'Toyota', 'Renault', 'Honda', 'Tata', 'Chevrolet']\n",
        "X_label_encoded['company'] = X['company'].apply(lambda x: 'other' if x not in companies_to_encode else x)\n",
        "\n",
        "X_label_encoded['company'] = label_encoder.fit_transform(X['company'])\n",
        "\n",
        "#Encoding name\n",
        "X_label_encoded['name'] = label_encoder.fit_transform(X['name'])\n",
        "\n",
        "X_label_encoded['kms_driven'] = X['kms_driven']\n",
        "X_label_encoded['year'] = X['year']"
      ],
      "metadata": {
        "id": "Xq-e4Xr4Mq88"
      },
      "execution_count": 313,
      "outputs": []
    },
    {
      "cell_type": "code",
      "source": [
        "X_train, X_test, y_train, y_test = train_test_split(X_label_encoded, y, test_size=0.2, random_state=42)"
      ],
      "metadata": {
        "id": "ViyCuKp-M2fZ"
      },
      "execution_count": 314,
      "outputs": []
    },
    {
      "cell_type": "code",
      "source": [
        "theta = linear_regression(X_train, y_train)"
      ],
      "metadata": {
        "id": "EeEQWkvFM69F"
      },
      "execution_count": 315,
      "outputs": []
    },
    {
      "cell_type": "code",
      "source": [
        "y_pred = predict(X_test, theta)"
      ],
      "metadata": {
        "id": "OHMgBt6WNFIP"
      },
      "execution_count": 316,
      "outputs": []
    },
    {
      "cell_type": "code",
      "source": [
        "mse = mean_square_error(y_test, y_pred)\n",
        "mse"
      ],
      "metadata": {
        "colab": {
          "base_uri": "https://localhost:8080/"
        },
        "id": "CE-1fwS9NMac",
        "outputId": "5d9b19fa-9a74-46a6-81c8-eda7d0280368"
      },
      "execution_count": 317,
      "outputs": [
        {
          "output_type": "execute_result",
          "data": {
            "text/plain": [
              "111029358204.30176"
            ]
          },
          "metadata": {},
          "execution_count": 317
        }
      ]
    },
    {
      "cell_type": "code",
      "source": [
        "rmse = root_mean_square_error(y_test, y_pred)\n",
        "rmse"
      ],
      "metadata": {
        "colab": {
          "base_uri": "https://localhost:8080/"
        },
        "id": "KE5CtBk5N1_O",
        "outputId": "df79b402-cebb-4b6b-de07-f3377954b60d"
      },
      "execution_count": 318,
      "outputs": [
        {
          "output_type": "execute_result",
          "data": {
            "text/plain": [
              "333210.681407877"
            ]
          },
          "metadata": {},
          "execution_count": 318
        }
      ]
    },
    {
      "cell_type": "code",
      "source": [
        "mae = mean_abs_error(y_test, y_pred)\n",
        "mae"
      ],
      "metadata": {
        "colab": {
          "base_uri": "https://localhost:8080/"
        },
        "id": "MykJqE00N4dc",
        "outputId": "49be3891-acce-44bb-a4ad-32a3a90ae4fc"
      },
      "execution_count": 319,
      "outputs": [
        {
          "output_type": "execute_result",
          "data": {
            "text/plain": [
              "199788.2272634931"
            ]
          },
          "metadata": {},
          "execution_count": 319
        }
      ]
    },
    {
      "cell_type": "code",
      "source": [
        "r2 = calculate_r2(y_test, y_pred)\n",
        "r2"
      ],
      "metadata": {
        "colab": {
          "base_uri": "https://localhost:8080/"
        },
        "id": "U5A39elSN8tL",
        "outputId": "bad9db68-33d8-477b-f02c-1237400c3004"
      },
      "execution_count": 320,
      "outputs": [
        {
          "output_type": "execute_result",
          "data": {
            "text/plain": [
              "0.36591201814977015"
            ]
          },
          "metadata": {},
          "execution_count": 320
        }
      ]
    },
    {
      "cell_type": "markdown",
      "source": [
        "**Randomizing Train Test Split To Attain Best R^2 Score**"
      ],
      "metadata": {
        "id": "A1_mXNuYR1a7"
      }
    },
    {
      "cell_type": "code",
      "source": [
        "scores=[]\n",
        "for i in range(1000):\n",
        "    X_train,X_test,y_train,y_test=train_test_split(X,y,test_size=0.1,random_state=i)\n",
        "    theta = linear_regression(X_train, y_train)\n",
        "    y_pred = predict(X_test, theta)\n",
        "    scores.append(r2_score(y_test,y_pred))"
      ],
      "metadata": {
        "id": "nmVBkliePtmV"
      },
      "execution_count": 321,
      "outputs": []
    },
    {
      "cell_type": "code",
      "source": [
        "max_score_state = np.argmax(scores)\n",
        "max_score_state"
      ],
      "metadata": {
        "id": "8nLmQSJ8PyxZ",
        "outputId": "561e505f-c851-4b75-a34c-6f2ec8df6457",
        "colab": {
          "base_uri": "https://localhost:8080/"
        }
      },
      "execution_count": 322,
      "outputs": [
        {
          "output_type": "execute_result",
          "data": {
            "text/plain": [
              "519"
            ]
          },
          "metadata": {},
          "execution_count": 322
        }
      ]
    },
    {
      "cell_type": "code",
      "source": [
        "X_train,X_test,y_train,y_test=train_test_split(X_label_encoded,y,test_size=0.1,random_state=max_score_state)\n",
        "theta = linear_regression(X_train, y_train)\n",
        "y_pred = predict(X_test, theta)"
      ],
      "metadata": {
        "id": "Z-Oi_gnEPzUk"
      },
      "execution_count": 323,
      "outputs": []
    },
    {
      "cell_type": "code",
      "source": [
        "mse = mean_square_error(y_test, y_pred)\n",
        "rmse = root_mean_square_error(y_test, y_pred)\n",
        "mae = mean_abs_error(y_test, y_pred)\n",
        "r2 = r2_score(y_test, y_pred)\n",
        "\n",
        "# Print the metrics\n",
        "print(\"Mean Squared Error (MSE):\", mse)\n",
        "print(\"Root Mean Squared Error (RMSE):\", rmse)\n",
        "print(\"Mean Absolute Error (MAE):\", mae)\n",
        "print(\"R-squared (R2):\", r2)"
      ],
      "metadata": {
        "id": "ptN1bCYkQDAi",
        "outputId": "8fc4f282-98c9-4120-e82b-be766620894d",
        "colab": {
          "base_uri": "https://localhost:8080/"
        }
      },
      "execution_count": 324,
      "outputs": [
        {
          "output_type": "stream",
          "name": "stdout",
          "text": [
            "Mean Squared Error (MSE): 51266565923.9635\n",
            "Root Mean Squared Error (RMSE): 226421.2135025415\n",
            "Mean Absolute Error (MAE): 155407.70895336327\n",
            "R-squared (R2): 0.5788737948658695\n"
          ]
        }
      ]
    },
    {
      "cell_type": "code",
      "source": [
        "sns.heatmap(pd.concat([X, y], axis=1).corr(), annot=True)\n",
        "plt.show()"
      ],
      "metadata": {
        "colab": {
          "base_uri": "https://localhost:8080/",
          "height": 501
        },
        "id": "uCd0Iu3JpLT8",
        "outputId": "72a61c3d-7aee-4120-b014-1bad1307a0cd"
      },
      "execution_count": 325,
      "outputs": [
        {
          "output_type": "display_data",
          "data": {
            "text/plain": [
              "<Figure size 640x480 with 2 Axes>"
            ],
            "image/png": "[encoded data removed]"
          },
          "metadata": {}
        }
      ]
    },
    {
      "cell_type": "markdown",
      "source": [
        "### Random Forest"
      ],
      "metadata": {
        "id": "oie1hZAM177G"
      }
    },
    {
      "cell_type": "markdown",
      "source": [
        "####With Package"
      ],
      "metadata": {
        "id": "1Q4-ymW1lDkf"
      }
    },
    {
      "cell_type": "code",
      "source": [
        "# Create a random forest regressor\n",
        "forest = RandomForestRegressor()\n",
        "\n",
        "X_train,X_test,y_train,y_test=train_test_split(X_label_encoded,y,test_size=0.1,random_state=519)\n",
        "# Train the model\n",
        "forest.fit(X_train, y_train)\n",
        "\n",
        "# Predict on test data\n",
        "y_pred = forest.predict(X_test)\n",
        "\n",
        "# Define the parameter grid\n",
        "param_grid = {\n",
        "    'n_estimators': [10, 20, 30],\n",
        "    'max_depth': [None, 10, 20, 30],\n",
        "    'min_samples_split': [2, 5, 10],\n",
        "    'min_samples_leaf': [1, 2, 4]\n",
        "}\n",
        "\n",
        "# Initialize GridSearchCV\n",
        "grid_search = GridSearchCV(estimator=forest, param_grid=param_grid, scoring='r2', cv=5)\n",
        "\n",
        "# Fit GridSearchCV\n",
        "grid_search.fit(X_train, y_train)\n",
        "\n",
        "# Get the best parameters and best score\n",
        "best_params = grid_search.best_params_\n",
        "best_score = grid_search.best_score_\n",
        "\n",
        "print(f\"Best parameters: {best_params}\")\n",
        "print(f\"Best R-squared score: {best_score}\")\n",
        "\n",
        "# Predict on test data with the best model\n",
        "best_forest = grid_search.best_estimator_\n",
        "y_pred = best_forest.predict(X_test)\n",
        "\n",
        "\n",
        "# Calculate evaluation metrics\n",
        "mse = mean_squared_error(y_test, y_pred)\n",
        "rmse = np.sqrt(mse)\n",
        "mae = mean_absolute_error(y_test, y_pred)\n",
        "r2 = r2_score(y_test, y_pred)\n",
        "\n",
        "# Print the metrics\n",
        "print(\"Mean Squared Error (MSE):\", mse)\n",
        "print(\"Root Mean Squared Error (RMSE):\", rmse)\n",
        "print(\"Mean Absolute Error (MAE):\", mae)\n",
        "print(\"R-squared (R2):\", r2)\n"
      ],
      "metadata": {
        "colab": {
          "base_uri": "https://localhost:8080/"
        },
        "id": "TzeMFnWF17h5",
        "outputId": "f2ae72e3-33f1-43e3-8829-6aba5ebb079d"
      },
      "execution_count": 344,
      "outputs": [
        {
          "output_type": "stream",
          "name": "stdout",
          "text": [
            "Best parameters: {'max_depth': None, 'min_samples_leaf': 2, 'min_samples_split': 10, 'n_estimators': 30}\n",
            "Best R-squared score: 0.47175137994072436\n",
            "Mean Squared Error (MSE): 20851347065.736904\n",
            "Root Mean Squared Error (RMSE): 144399.9552137635\n",
            "Mean Absolute Error (MAE): 98677.73235899332\n",
            "R-squared (R2): 0.8287178299644223\n"
          ]
        }
      ]
    },
    {
      "cell_type": "markdown",
      "source": [
        "####Without Package"
      ],
      "metadata": {
        "id": "qgyQMZrU2Oex"
      }
    },
    {
      "cell_type": "code",
      "source": [
        "class RandomForest:\n",
        "    def __init__(self, n_estimators=10, max_depth=None, min_samples_split=2, min_samples_leaf=1):\n",
        "        self.n_estimators = n_estimators\n",
        "        self.max_depth = max_depth\n",
        "        self.min_samples_split = min_samples_split\n",
        "        self.min_samples_leaf = min_samples_leaf\n",
        "        self.trees = []\n",
        "\n",
        "    def fit(self, X, y):\n",
        "        for _ in range(self.n_estimators):\n",
        "            tree = DecisionTree(max_depth=self.max_depth, min_samples_split=self.min_samples_split, min_samples_leaf=self.min_samples_leaf)\n",
        "            X_sample, y_sample = bootstrap_sample(X, y)\n",
        "            tree.fit(X_sample, y_sample)\n",
        "            self.trees.append(tree)\n",
        "\n",
        "    def predict(self, X):\n",
        "        predictions = []\n",
        "        for tree in self.trees:\n",
        "            predictions.append(tree.predict(X))\n",
        "        return np.mean(predictions, axis=0)\n",
        "\n",
        "def bootstrap_sample(X, y):\n",
        "    n_samples = X.shape[0]\n",
        "    indices = np.random.choice(n_samples, size=n_samples, replace=True)\n",
        "    return X[indices], y[indices]\n",
        "\n",
        "class DecisionTree:\n",
        "    def __init__(self, max_depth=None, min_samples_split=2, min_samples_leaf=1, criterion='mse'):\n",
        "        self.max_depth = max_depth\n",
        "        self.min_samples_split = min_samples_split\n",
        "        self.min_samples_leaf = min_samples_leaf\n",
        "        self.criterion = criterion\n",
        "        self.tree = None\n",
        "\n",
        "    def fit(self, X, y):\n",
        "        self.tree = self._build_tree(X, y, depth=0)\n",
        "\n",
        "    def _build_tree(self, X, y, depth):\n",
        "        if len(y) <= self.min_samples_split or (self.max_depth is not None and depth == self.max_depth) or len(np.unique(y)) == 1:\n",
        "            return {'value': np.mean(y)}\n",
        "\n",
        "        best_split = self._find_best_split(X, y)\n",
        "\n",
        "        if best_split is None:\n",
        "            return {'value': np.mean(y)}\n",
        "\n",
        "        left_indices, right_indices, split_feature, split_threshold = best_split\n",
        "\n",
        "        left_tree = self._build_tree(X[left_indices], y[left_indices], depth + 1)\n",
        "        right_tree = self._build_tree(X[right_indices], y[right_indices], depth + 1)\n",
        "\n",
        "        return {'feature': split_feature, 'threshold': split_threshold,\n",
        "                'left': left_tree, 'right': right_tree}\n",
        "\n",
        "    def _find_best_split(self, X, y):\n",
        "        best_mse = float('inf')\n",
        "        best_split = None\n",
        "\n",
        "        for feature in range(X.shape[1]):\n",
        "            thresholds = np.unique(X[:, feature])\n",
        "            for threshold in thresholds:\n",
        "                left_indices = X[:, feature] < threshold\n",
        "                right_indices = ~left_indices\n",
        "\n",
        "                if len(y[left_indices]) < self.min_samples_leaf or len(y[right_indices]) < self.min_samples_leaf:\n",
        "                    continue\n",
        "\n",
        "                mse = self._calculate_mse(y[left_indices], y[right_indices])\n",
        "\n",
        "                if mse < best_mse:\n",
        "                    best_mse = mse\n",
        "                    best_split = (left_indices, right_indices, feature, threshold)\n",
        "\n",
        "        return best_split\n",
        "\n",
        "    def _calculate_mse(self, left_y, right_y):\n",
        "        left_mse = np.mean((left_y - np.mean(left_y)) ** 2)\n",
        "        right_mse = np.mean((right_y - np.mean(right_y)) ** 2)\n",
        "        return left_mse * len(left_y) + right_mse * len(right_y)\n",
        "\n",
        "    def predict(self, X):\n",
        "        return np.array([self._predict_sample(sample, self.tree) for sample in X])\n",
        "\n",
        "    def _predict_sample(self, sample, tree):\n",
        "        if 'value' in tree:\n",
        "            return tree['value']\n",
        "\n",
        "        if sample[tree['feature']] < tree['threshold']:\n",
        "            return self._predict_sample(sample, tree['left'])\n",
        "        else:\n",
        "            return self._predict_sample(sample, tree['right'])\n",
        "\n",
        "# Assuming 'car' is a pandas DataFrame\n",
        "X = car.drop(columns='Price').values\n",
        "y = car['Price'].values\n",
        "\n",
        "# Train-test split\n",
        "split_index = int(0.8 * len(X))\n",
        "X_train, X_test = X[:split_index], X[split_index:]\n",
        "y_train, y_test = y[:split_index], y[split_index:]\n",
        "\n",
        "# Train the model with advanced decision tree\n",
        "forest = RandomForest(n_estimators=10, max_depth=10, min_samples_split=5, min_samples_leaf=5)\n",
        "forest.fit(X_train, y_train)\n",
        "\n",
        "# Predict\n",
        "y_pred = forest.predict(X_test)\n",
        "\n",
        "# Calculate metrics\n",
        "mse = mean_square_error(y_test, y_pred)\n",
        "rmse = root_mean_square_error(y_test, y_pred)\n",
        "mae = mean_abs_error(y_test, y_pred)\n",
        "r2 = calculate_r2(y_test, y_pred)\n",
        "\n",
        "# Print the metrics\n",
        "print(\"Mean Squared Error (MSE):\", mse)\n",
        "print(\"Root Mean Squared Error (RMSE):\", rmse)\n",
        "print(\"Mean Absolute Error (MAE):\", mae)\n",
        "print(\"R-squared (R2):\", r2)\n"
      ],
      "metadata": {
        "colab": {
          "base_uri": "https://localhost:8080/"
        },
        "id": "asEhs17cDIFp",
        "outputId": "27db1967-fdf9-43d6-a17b-23b051271c0b"
      },
      "execution_count": 346,
      "outputs": [
        {
          "output_type": "stream",
          "name": "stdout",
          "text": [
            "Mean Squared Error (MSE): 91950998703.77516\n",
            "Root Mean Squared Error (RMSE): 303234.23075862526\n",
            "Mean Absolute Error (MAE): 144513.5656410533\n",
            "R-squared (R2): 0.4343183194967273\n"
          ]
        }
      ]
    },
    {
      "cell_type": "markdown",
      "source": [
        "###Decision Tree Regression"
      ],
      "metadata": {
        "id": "H8gK7R-Rk4KJ"
      }
    },
    {
      "cell_type": "markdown",
      "source": [
        "####With Package"
      ],
      "metadata": {
        "id": "1cMJ9NB4k7Ts"
      }
    },
    {
      "cell_type": "code",
      "source": [
        "# Define the parameter grid\n",
        "param_grid = {\n",
        "    'max_depth': [None, 10, 20, 30],\n",
        "    'min_samples_split': [2, 5, 10],\n",
        "    'min_samples_leaf': [1, 2, 4],\n",
        "}\n",
        "\n",
        "\n",
        "# Initialize Decision Tree Regressor model\n",
        "dt_regressor = DecisionTreeRegressor()\n",
        "\n",
        "# Initialize GridSearchCV\n",
        "grid_search = GridSearchCV(estimator=dt_regressor, param_grid=param_grid, scoring='r2', cv=5)\n",
        "\n",
        "X_train, X_test, y_train, y_test = train_test_split(X_label_encoded, y, test_size=0.2, random_state=42)\n",
        "# Fit GridSearchCV\n",
        "grid_search.fit(X_train, y_train)\n",
        "\n",
        "# Get the best parameters and best score\n",
        "best_params = grid_search.best_params_\n",
        "best_score = grid_search.best_score_\n",
        "\n",
        "print(f\"Best parameters: {best_params}\")\n",
        "print(f\"Best R-squared score: {best_score}\")\n",
        "\n",
        "# Predict on test data with the best model\n",
        "best_dt_regressor = grid_search.best_estimator_\n",
        "y_pred = best_dt_regressor.predict(X_test)\n",
        "\n",
        "# Calculate accuracy score (R-squared score)\n",
        "\n",
        "mse = mean_squared_error(y_test, y_pred)\n",
        "rmse = np.sqrt(mse)\n",
        "mae = mean_absolute_error(y_test, y_pred)\n",
        "r2 = r2_score(y_test, y_pred)\n",
        "\n",
        "# Print the metrics\n",
        "print(\"Mean Squared Error (MSE):\", mse)\n",
        "print(\"Root Mean Squared Error (RMSE):\", rmse)\n",
        "print(\"Mean Absolute Error (MAE):\", mae)\n",
        "print(\"R-squared (R2):\", r2)\n"
      ],
      "metadata": {
        "colab": {
          "base_uri": "https://localhost:8080/"
        },
        "id": "dQdNibI9rb2n",
        "outputId": "b824889d-61ea-4b33-a442-cc28e14e5cb8"
      },
      "execution_count": 328,
      "outputs": [
        {
          "output_type": "stream",
          "name": "stdout",
          "text": [
            "Best parameters: {'max_depth': None, 'min_samples_leaf': 4, 'min_samples_split': 10}\n",
            "Best R-squared score: 0.2881749431554635\n",
            "Mean Squared Error (MSE): 107352688161.58234\n",
            "Root Mean Squared Error (RMSE): 327647.20075346646\n",
            "Mean Absolute Error (MAE): 166239.90262196903\n",
            "R-squared (R2): 0.3869094581514254\n"
          ]
        }
      ]
    },
    {
      "cell_type": "markdown",
      "source": [
        "####Without Package"
      ],
      "metadata": {
        "id": "gRRzrKKsxY1b"
      }
    },
    {
      "cell_type": "code",
      "source": [
        "class DecisionTree:\n",
        "    def __init__(self, max_depth=None, min_samples_split=2, min_samples_leaf=1, criterion='mse'):\n",
        "        self.max_depth = max_depth\n",
        "        self.min_samples_split = min_samples_split\n",
        "        self.min_samples_leaf = min_samples_leaf\n",
        "        self.criterion = criterion\n",
        "        self.tree = None\n",
        "\n",
        "    def fit(self, X, y):\n",
        "        self.tree = self._build_tree(X, y, depth=0)\n",
        "\n",
        "    def _build_tree(self, X, y, depth):\n",
        "        if len(y) <= self.min_samples_split or (self.max_depth is not None and depth == self.max_depth) or len(np.unique(y)) == 1:\n",
        "            return {'value': np.mean(y)}\n",
        "\n",
        "        best_split = self._find_best_split(X, y)\n",
        "\n",
        "        if best_split is None:\n",
        "            return {'value': np.mean(y)}\n",
        "\n",
        "        left_indices, right_indices, split_feature, split_threshold = best_split\n",
        "\n",
        "        left_tree = self._build_tree(X[left_indices], y[left_indices], depth + 1)\n",
        "        right_tree = self._build_tree(X[right_indices], y[right_indices], depth + 1)\n",
        "\n",
        "        return {'feature': split_feature, 'threshold': split_threshold,\n",
        "                'left': left_tree, 'right': right_tree}\n",
        "\n",
        "    def _find_best_split(self, X, y):\n",
        "        best_mse = float('inf')\n",
        "        best_split = None\n",
        "\n",
        "        for feature in range(X.shape[1]):\n",
        "            thresholds = np.unique(X[:, feature])\n",
        "            for threshold in thresholds:\n",
        "                left_indices = X[:, feature] < threshold\n",
        "                right_indices = ~left_indices\n",
        "\n",
        "                if len(y[left_indices]) < self.min_samples_leaf or len(y[right_indices]) < self.min_samples_leaf:\n",
        "                    continue\n",
        "\n",
        "                mse = self._calculate_mse(y[left_indices], y[right_indices])\n",
        "\n",
        "                if mse < best_mse:\n",
        "                    best_mse = mse\n",
        "                    best_split = (left_indices, right_indices, feature, threshold)\n",
        "\n",
        "        return best_split\n",
        "\n",
        "    def _calculate_mse(self, left_y, right_y):\n",
        "        left_mse = np.mean((left_y - np.mean(left_y)) ** 2)\n",
        "        right_mse = np.mean((right_y - np.mean(right_y)) ** 2)\n",
        "        return left_mse * len(left_y) + right_mse * len(right_y)\n",
        "\n",
        "    def predict(self, X):\n",
        "        return np.array([self._predict_sample(sample, self.tree) for sample in X])\n",
        "\n",
        "    def _predict_sample(self, sample, tree):\n",
        "        if 'value' in tree:\n",
        "            return tree['value']\n",
        "\n",
        "        if sample[tree['feature']] < tree['threshold']:\n",
        "            return self._predict_sample(sample, tree['left'])\n",
        "        else:\n",
        "            return self._predict_sample(sample, tree['right'])\n",
        "\n",
        "def mean_squared_error(y_true, y_pred):\n",
        "    return np.mean((y_true - y_pred) ** 2)\n",
        "\n",
        "def root_mean_squared_error(y_true, y_pred):\n",
        "    return np.sqrt(mean_squared_error(y_true, y_pred))\n",
        "\n",
        "def mean_absolute_error(y_true, y_pred):\n",
        "    return np.mean(np.abs(y_true - y_pred))\n",
        "\n",
        "def r_squared(y_true, y_pred):\n",
        "    total_variance = np.var(y_true) * len(y_true)\n",
        "    explained_variance = total_variance - mean_squared_error(y_true, y_pred) * len(y_true)\n",
        "    return explained_variance / total_variance\n",
        "\n",
        "# Assuming 'car' is a pandas DataFrame\n",
        "X = car.drop(columns='Price').values\n",
        "y = car['Price'].values\n",
        "\n",
        "# Train-test split\n",
        "split_index = int(0.8 * len(X))\n",
        "X_train, X_test = X[:split_index], X[split_index:]\n",
        "y_train, y_test = y[:split_index], y[split_index:]\n",
        "\n",
        "# Train the model with advanced decision tree\n",
        "tree = DecisionTree(max_depth=10, min_samples_split=5, min_samples_leaf=5)\n",
        "tree.fit(X_train, y_train)\n",
        "\n",
        "# Predict\n",
        "y_pred = tree.predict(X_test)\n",
        "\n",
        "# Calculate metrics\n",
        "mse = mean_squared_error(y_test, y_pred)\n",
        "rmse = root_mean_squared_error(y_test, y_pred)\n",
        "mae = mean_absolute_error(y_test, y_pred)\n",
        "r2 = r_squared(y_test, y_pred)\n",
        "\n",
        "# Print the metrics\n",
        "print(\"Mean Squared Error (MSE):\", mse)\n",
        "print(\"Root Mean Squared Error (RMSE):\", rmse)\n",
        "print(\"Mean Absolute Error (MAE):\", mae)\n",
        "print(\"R-squared (R2):\", r2)\n"
      ],
      "metadata": {
        "colab": {
          "base_uri": "https://localhost:8080/"
        },
        "id": "yE04Iesgo-3p",
        "outputId": "a4027337-7105-4da1-e86a-d05f8a759efe"
      },
      "execution_count": 329,
      "outputs": [
        {
          "output_type": "stream",
          "name": "stdout",
          "text": [
            "Mean Squared Error (MSE): 111144494509.60516\n",
            "Root Mean Squared Error (RMSE): 333383.4046703662\n",
            "Mean Absolute Error (MAE): 179956.0043744319\n",
            "R-squared (R2): 0.316240113547578\n"
          ]
        }
      ]
    },
    {
      "cell_type": "markdown",
      "source": [
        "##Comparisions and Conclusions"
      ],
      "metadata": {
        "id": "Wl6XoVe7xkO0"
      }
    },
    {
      "cell_type": "markdown",
      "source": [
        "The Linear Regression model has the highest R-squared value (0.9165), indicating that it explains about 91.65% of the variance in the car prices. This suggests that Linear Regression is the best model in terms of accuracy. It also  has the lowest MSE, RMSE, and MAE values, indicating that it has the smallest prediction errors among the three models.\n",
        "\n",
        "\n",
        "\n",
        "*   Linear Regression is a simpler model compared to Decision Trees and Random Forest, yet it outperforms both in terms of accuracy and error metrics. This could be due to the nature of the dataset and the relationship between features and the car prices.\n",
        "*   Decision Tree Regression and Random Forest are more complex models that can capture non-linear relationships. However, in this case, they seem to overfit or underfit the data, leading to worse performance compared to Linear Regression.\n",
        "\n"
      ],
      "metadata": {
        "id": "EBtkSEUuxpKa"
      }
    }
  ]
}