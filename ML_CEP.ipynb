{
  "nbformat": 4,
  "nbformat_minor": 0,
  "metadata": {
    "colab": {
      "provenance": [],
      "authorship_tag": "ABX9TyNw67qHTQUpr68CJ8w29jfa",
      "include_colab_link": true
    },
    "kernelspec": {
      "name": "python3",
      "display_name": "Python 3"
    },
    "language_info": {
      "name": "python"
    }
  },
  "cells": [
    {
      "cell_type": "markdown",
      "metadata": {
        "id": "view-in-github",
        "colab_type": "text"
      },
      "source": [
        "<a href=\"https://colab.research.google.com/github/syed-ateeb-naveed/ML-CEP/blob/main/ML_CEP.ipynb\" target=\"_parent\"><img src=\"https://colab.research.google.com/assets/colab-badge.svg\" alt=\"Open In Colab\"/></a>"
      ]
    },
    {
      "cell_type": "markdown",
      "source": [
        "# ML - CEP\n",
        "\n",
        "This is our Machine Learning Project. We have made a Car Price prediction model using Supervised learning algorithms (linear regression and k-nearest neighbours)."
      ],
      "metadata": {
        "id": "lznJnEpiOfGU"
      }
    },
    {
      "cell_type": "code",
      "source": [],
      "metadata": {
        "id": "e6et4uG2O2SJ"
      },
      "execution_count": null,
      "outputs": []
    }
  ]
}