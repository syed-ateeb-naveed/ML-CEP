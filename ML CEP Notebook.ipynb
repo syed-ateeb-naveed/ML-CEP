{
  "nbformat": 4,
  "nbformat_minor": 0,
  "metadata": {
    "colab": {
      "provenance": [],
      "authorship_tag": "ABX9TyMhvUyn9oM0R/9L4D9DbVnv",
      "include_colab_link": true
    },
    "kernelspec": {
      "name": "python3",
      "display_name": "Python 3"
    },
    "language_info": {
      "name": "python"
    }
  },
  "cells": [
    {
      "cell_type": "markdown",
      "metadata": {
        "id": "view-in-github",
        "colab_type": "text"
      },
      "source": [
        "<a href=\"https://colab.research.google.com/github/syed-ateeb-naveed/ML-CEP/blob/main/ML%20CEP%20Notebook.ipynb\" target=\"_parent\"><img src=\"https://colab.research.google.com/assets/colab-badge.svg\" alt=\"Open In Colab\"/></a>"
      ]
    },
    {
      "cell_type": "code",
      "execution_count": null,
      "metadata": {
        "id": "BorETmilNAyh"
      },
      "outputs": [],
      "source": []
    },
    {
      "cell_type": "markdown",
      "source": [
        "## ML - CEP\n",
        "\n",
        "This is our Machine Learning Project"
      ],
      "metadata": {
        "id": "lznJnEpiOfGU"
      }
    },
    {
      "cell_type": "code",
      "source": [],
      "metadata": {
        "id": "e6et4uG2O2SJ"
      },
      "execution_count": null,
      "outputs": []
    }
  ]
}